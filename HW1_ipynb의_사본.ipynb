{
  "nbformat": 4,
  "nbformat_minor": 0,
  "metadata": {
    "colab": {
      "name": "HW1.ipynb의 사본",
      "provenance": [],
      "collapsed_sections": [],
      "include_colab_link": true
    },
    "kernelspec": {
      "name": "python3",
      "display_name": "Python 3"
    },
    "language_info": {
      "name": "python"
    }
  },
  "cells": [
    {
      "cell_type": "markdown",
      "metadata": {
        "id": "view-in-github",
        "colab_type": "text"
      },
      "source": [
        "<a href=\"https://colab.research.google.com/github/K-osA/2022S-ML/blob/main/HW1_ipynb%EC%9D%98_%EC%82%AC%EB%B3%B8.ipynb\" target=\"_parent\"><img src=\"https://colab.research.google.com/assets/colab-badge.svg\" alt=\"Open In Colab\"/></a>"
      ]
    },
    {
      "cell_type": "markdown",
      "source": [
        "# HW1 :: Data preprocessing & KNN"
      ],
      "metadata": {
        "id": "HiuqPKmhFjJZ"
      }
    },
    {
      "cell_type": "markdown",
      "source": [
        "데이터를 불러오는 방법에는 크게 두 가지가 있습니다.\n",
        "1. 제공된 csv 파일을 코랩 노트북 파일이 있는 드라이브 폴더 경로에 업로드하기\n",
        "  * 본 노트북 파일과 csv 파일을 같은 드라이브 폴더에 넣기 \n",
        "  * 아래의 **`코랩과 구글 드라이브 연동하기`** 코드를 사용하여 본인 계정의 구글 드라이브와 코랩 환경을 연동하여 사용\n",
        "  * 연동하는 코드를 사용하지 않고, **`왼쪽 툴바>다섯 번째 폴더 모양 클릭>파일 글씨 \b아래에 세 번째 아이콘(드라이브 마운트) 클릭`** 으로도 구글 드라이브와 해당 코랩 세션을 연동할 수 있음\n",
        "2. 제공된 csv 파일을 직접 코랩 노트북에 업로드하기\n",
        "  * 코랩 화면에서 **`왼쪽 툴바>다섯 번째 폴더 모양 클릭>파일 글씨 바로 밑에 있는 아이콘(세션 저장소에 업로드) 클릭>로컬에서 파일 업로드`**\n",
        "\n",
        "어느 방법을 사용하셔도 상관 없습니다. 하지만 리눅스 계열 명령어(pwd, ls, cd) 등을 이용해서 경로를 잘 확인해주세요. 경로를 맞추지 않으면 csv 파일을 불러올 때 에러가 발생합니다. 아래 코드는 코랩과 구글 드라이브를 코드로 연결하는 방법입니다."
      ],
      "metadata": {
        "id": "iBQC33o5C7ih"
      }
    },
    {
      "cell_type": "markdown",
      "source": [
        "## 코랩과 구글 드라이브 연동하기"
      ],
      "metadata": {
        "id": "E_j4s928KEBc"
      }
    },
    {
      "cell_type": "code",
      "source": [
        "from google.colab import drive\n",
        "drive.mount('/content/drive')"
      ],
      "metadata": {
        "id": "uxp3h-u3KDjh",
        "colab": {
          "base_uri": "https://localhost:8080/"
        },
        "outputId": "785d3a7a-3437-45f0-edf8-ce0c38803bb0"
      },
      "execution_count": 1,
      "outputs": [
        {
          "output_type": "stream",
          "name": "stdout",
          "text": [
            "Mounted at /content/drive\n"
          ]
        }
      ]
    },
    {
      "cell_type": "code",
      "source": [
        "# pwd 명령어로 현재 위치 확인\n",
        "!pwd"
      ],
      "metadata": {
        "id": "qARwVCK0KbnX",
        "colab": {
          "base_uri": "https://localhost:8080/"
        },
        "outputId": "4a8534b2-9c30-4974-90a9-402961518c71"
      },
      "execution_count": 2,
      "outputs": [
        {
          "output_type": "stream",
          "name": "stdout",
          "text": [
            "/content\n"
          ]
        }
      ]
    },
    {
      "cell_type": "code",
      "source": [
        "ls"
      ],
      "metadata": {
        "id": "JF-0b-trLWIa",
        "colab": {
          "base_uri": "https://localhost:8080/"
        },
        "outputId": "67e8f5bf-2569-4820-ca01-0e2df34eff09"
      },
      "execution_count": 3,
      "outputs": [
        {
          "output_type": "stream",
          "name": "stdout",
          "text": [
            "\u001b[0m\u001b[01;34mdrive\u001b[0m/  \u001b[01;34msample_data\u001b[0m/\n"
          ]
        }
      ]
    },
    {
      "cell_type": "code",
      "source": [
        "cd drive"
      ],
      "metadata": {
        "id": "K8ugjVg0LYX-",
        "colab": {
          "base_uri": "https://localhost:8080/"
        },
        "outputId": "bddfe201-57e8-4f8e-8692-28c68ef565a1"
      },
      "execution_count": 4,
      "outputs": [
        {
          "output_type": "stream",
          "name": "stdout",
          "text": [
            "/content/drive\n"
          ]
        }
      ]
    },
    {
      "cell_type": "markdown",
      "source": [
        "## 데이터 불러오기 & 살펴보기"
      ],
      "metadata": {
        "id": "SHHh-sdrI47e"
      }
    },
    {
      "cell_type": "code",
      "source": [
        "# 이번 과제는 numpy, pandas와 같은 데이터를 불러내고 확인, 처리, \n",
        "# 수정 등을 쉽게 할 수 있는 library를 사용합니다.\n",
        "\n",
        "# 모듈 이름 뒤에 as를 쓰고 별칭을 적으면 해당 별칭으로 모듈을 호출할 수 있습니다.\n",
        "# 모듈명: numpy, 별칭: np => numpy를 쓰는 대신 np를 써서 numpy 호출\n",
        "# 모듈명: pandas, 별칭: pd => pandas를 쓰는 대신 pd를 써서 pandas 호출\n",
        "import numpy as np\n",
        "import pandas as pd\n",
        "import matplotlib.pyplot as plt\n",
        "import seaborn as sns"
      ],
      "metadata": {
        "id": "BMP_af_vIsjs"
      },
      "execution_count": 5,
      "outputs": []
    },
    {
      "cell_type": "code",
      "execution_count": 6,
      "metadata": {
        "id": "ohwnlYNQB6kK"
      },
      "outputs": [],
      "source": [
        "# './'는 이 노트북 파일의 현재 위치를 뜻 합니다.\n",
        "path = './MyDrive/heart.csv'\n",
        "\n",
        "# pandas의 read_csv 함수를 사용하여 csv파일을 DataFrame으로 불러옵니다.\n",
        "data = pd.read_csv(path)"
      ]
    },
    {
      "cell_type": "code",
      "source": [
        "# DataFrame 혹은 Series와 같은 자료구조에 shape함수를 통해 데이터의 크기와 \n",
        "# 변수의 갯수를 대략적으로 알 수 있습니다.\n",
        "\n",
        "data.shape # (1190, 12) => 1190 개의 row(행), 12 개의 column(열)을 가진 데이터"
      ],
      "metadata": {
        "id": "i1oNmJPRLpHk",
        "colab": {
          "base_uri": "https://localhost:8080/"
        },
        "outputId": "3deb04a7-6a99-4e3d-9818-78144dd66234"
      },
      "execution_count": 7,
      "outputs": [
        {
          "output_type": "execute_result",
          "data": {
            "text/plain": [
              "(1190, 12)"
            ]
          },
          "metadata": {},
          "execution_count": 7
        }
      ]
    },
    {
      "cell_type": "code",
      "source": [
        "# head() 함수를 이용하여 해당 데이터의 맨 위 5개의 원소를 볼 수 있습니다.\n",
        "# 더 많은 행을 보고 싶다면 ()안에 숫자를 넣어주시면 됩니다.\n",
        "\n",
        "data.head()"
      ],
      "metadata": {
        "id": "3VW__vN3L9KH",
        "colab": {
          "base_uri": "https://localhost:8080/",
          "height": 206
        },
        "outputId": "9fd43097-bd45-4cd5-b14e-d1bc6292d2f1"
      },
      "execution_count": 8,
      "outputs": [
        {
          "output_type": "execute_result",
          "data": {
            "text/plain": [
              "   Age Sex ChestPainType  RestingBP  Cholesterol  FastingBS RestingECG  MaxHR  \\\n",
              "0   51   M           ASY        128            0          0     Normal    107   \n",
              "1   48   M           ASY        140          208          0     Normal    159   \n",
              "2   64   F           ASY        142          276          0     Normal    140   \n",
              "3   40   M           ATA        130          275          0     Normal    150   \n",
              "4   63   M           ASY        130          330          1        LVH    132   \n",
              "\n",
              "  ExerciseAngina  Oldpeak ST_Slope  HeartDisease  \n",
              "0              N      0.0       Up             0  \n",
              "1              Y      1.5       Up             1  \n",
              "2              Y      1.0     Flat             1  \n",
              "3              N      0.0       Up             0  \n",
              "4              Y      1.8       Up             1  "
            ],
            "text/html": [
              "\n",
              "  <div id=\"df-898826e6-2ad4-4e32-a2c0-e45c220d28ed\">\n",
              "    <div class=\"colab-df-container\">\n",
              "      <div>\n",
              "<style scoped>\n",
              "    .dataframe tbody tr th:only-of-type {\n",
              "        vertical-align: middle;\n",
              "    }\n",
              "\n",
              "    .dataframe tbody tr th {\n",
              "        vertical-align: top;\n",
              "    }\n",
              "\n",
              "    .dataframe thead th {\n",
              "        text-align: right;\n",
              "    }\n",
              "</style>\n",
              "<table border=\"1\" class=\"dataframe\">\n",
              "  <thead>\n",
              "    <tr style=\"text-align: right;\">\n",
              "      <th></th>\n",
              "      <th>Age</th>\n",
              "      <th>Sex</th>\n",
              "      <th>ChestPainType</th>\n",
              "      <th>RestingBP</th>\n",
              "      <th>Cholesterol</th>\n",
              "      <th>FastingBS</th>\n",
              "      <th>RestingECG</th>\n",
              "      <th>MaxHR</th>\n",
              "      <th>ExerciseAngina</th>\n",
              "      <th>Oldpeak</th>\n",
              "      <th>ST_Slope</th>\n",
              "      <th>HeartDisease</th>\n",
              "    </tr>\n",
              "  </thead>\n",
              "  <tbody>\n",
              "    <tr>\n",
              "      <th>0</th>\n",
              "      <td>51</td>\n",
              "      <td>M</td>\n",
              "      <td>ASY</td>\n",
              "      <td>128</td>\n",
              "      <td>0</td>\n",
              "      <td>0</td>\n",
              "      <td>Normal</td>\n",
              "      <td>107</td>\n",
              "      <td>N</td>\n",
              "      <td>0.0</td>\n",
              "      <td>Up</td>\n",
              "      <td>0</td>\n",
              "    </tr>\n",
              "    <tr>\n",
              "      <th>1</th>\n",
              "      <td>48</td>\n",
              "      <td>M</td>\n",
              "      <td>ASY</td>\n",
              "      <td>140</td>\n",
              "      <td>208</td>\n",
              "      <td>0</td>\n",
              "      <td>Normal</td>\n",
              "      <td>159</td>\n",
              "      <td>Y</td>\n",
              "      <td>1.5</td>\n",
              "      <td>Up</td>\n",
              "      <td>1</td>\n",
              "    </tr>\n",
              "    <tr>\n",
              "      <th>2</th>\n",
              "      <td>64</td>\n",
              "      <td>F</td>\n",
              "      <td>ASY</td>\n",
              "      <td>142</td>\n",
              "      <td>276</td>\n",
              "      <td>0</td>\n",
              "      <td>Normal</td>\n",
              "      <td>140</td>\n",
              "      <td>Y</td>\n",
              "      <td>1.0</td>\n",
              "      <td>Flat</td>\n",
              "      <td>1</td>\n",
              "    </tr>\n",
              "    <tr>\n",
              "      <th>3</th>\n",
              "      <td>40</td>\n",
              "      <td>M</td>\n",
              "      <td>ATA</td>\n",
              "      <td>130</td>\n",
              "      <td>275</td>\n",
              "      <td>0</td>\n",
              "      <td>Normal</td>\n",
              "      <td>150</td>\n",
              "      <td>N</td>\n",
              "      <td>0.0</td>\n",
              "      <td>Up</td>\n",
              "      <td>0</td>\n",
              "    </tr>\n",
              "    <tr>\n",
              "      <th>4</th>\n",
              "      <td>63</td>\n",
              "      <td>M</td>\n",
              "      <td>ASY</td>\n",
              "      <td>130</td>\n",
              "      <td>330</td>\n",
              "      <td>1</td>\n",
              "      <td>LVH</td>\n",
              "      <td>132</td>\n",
              "      <td>Y</td>\n",
              "      <td>1.8</td>\n",
              "      <td>Up</td>\n",
              "      <td>1</td>\n",
              "    </tr>\n",
              "  </tbody>\n",
              "</table>\n",
              "</div>\n",
              "      <button class=\"colab-df-convert\" onclick=\"convertToInteractive('df-898826e6-2ad4-4e32-a2c0-e45c220d28ed')\"\n",
              "              title=\"Convert this dataframe to an interactive table.\"\n",
              "              style=\"display:none;\">\n",
              "        \n",
              "  <svg xmlns=\"http://www.w3.org/2000/svg\" height=\"24px\"viewBox=\"0 0 24 24\"\n",
              "       width=\"24px\">\n",
              "    <path d=\"M0 0h24v24H0V0z\" fill=\"none\"/>\n",
              "    <path d=\"M18.56 5.44l.94 2.06.94-2.06 2.06-.94-2.06-.94-.94-2.06-.94 2.06-2.06.94zm-11 1L8.5 8.5l.94-2.06 2.06-.94-2.06-.94L8.5 2.5l-.94 2.06-2.06.94zm10 10l.94 2.06.94-2.06 2.06-.94-2.06-.94-.94-2.06-.94 2.06-2.06.94z\"/><path d=\"M17.41 7.96l-1.37-1.37c-.4-.4-.92-.59-1.43-.59-.52 0-1.04.2-1.43.59L10.3 9.45l-7.72 7.72c-.78.78-.78 2.05 0 2.83L4 21.41c.39.39.9.59 1.41.59.51 0 1.02-.2 1.41-.59l7.78-7.78 2.81-2.81c.8-.78.8-2.07 0-2.86zM5.41 20L4 18.59l7.72-7.72 1.47 1.35L5.41 20z\"/>\n",
              "  </svg>\n",
              "      </button>\n",
              "      \n",
              "  <style>\n",
              "    .colab-df-container {\n",
              "      display:flex;\n",
              "      flex-wrap:wrap;\n",
              "      gap: 12px;\n",
              "    }\n",
              "\n",
              "    .colab-df-convert {\n",
              "      background-color: #E8F0FE;\n",
              "      border: none;\n",
              "      border-radius: 50%;\n",
              "      cursor: pointer;\n",
              "      display: none;\n",
              "      fill: #1967D2;\n",
              "      height: 32px;\n",
              "      padding: 0 0 0 0;\n",
              "      width: 32px;\n",
              "    }\n",
              "\n",
              "    .colab-df-convert:hover {\n",
              "      background-color: #E2EBFA;\n",
              "      box-shadow: 0px 1px 2px rgba(60, 64, 67, 0.3), 0px 1px 3px 1px rgba(60, 64, 67, 0.15);\n",
              "      fill: #174EA6;\n",
              "    }\n",
              "\n",
              "    [theme=dark] .colab-df-convert {\n",
              "      background-color: #3B4455;\n",
              "      fill: #D2E3FC;\n",
              "    }\n",
              "\n",
              "    [theme=dark] .colab-df-convert:hover {\n",
              "      background-color: #434B5C;\n",
              "      box-shadow: 0px 1px 3px 1px rgba(0, 0, 0, 0.15);\n",
              "      filter: drop-shadow(0px 1px 2px rgba(0, 0, 0, 0.3));\n",
              "      fill: #FFFFFF;\n",
              "    }\n",
              "  </style>\n",
              "\n",
              "      <script>\n",
              "        const buttonEl =\n",
              "          document.querySelector('#df-898826e6-2ad4-4e32-a2c0-e45c220d28ed button.colab-df-convert');\n",
              "        buttonEl.style.display =\n",
              "          google.colab.kernel.accessAllowed ? 'block' : 'none';\n",
              "\n",
              "        async function convertToInteractive(key) {\n",
              "          const element = document.querySelector('#df-898826e6-2ad4-4e32-a2c0-e45c220d28ed');\n",
              "          const dataTable =\n",
              "            await google.colab.kernel.invokeFunction('convertToInteractive',\n",
              "                                                     [key], {});\n",
              "          if (!dataTable) return;\n",
              "\n",
              "          const docLinkHtml = 'Like what you see? Visit the ' +\n",
              "            '<a target=\"_blank\" href=https://colab.research.google.com/notebooks/data_table.ipynb>data table notebook</a>'\n",
              "            + ' to learn more about interactive tables.';\n",
              "          element.innerHTML = '';\n",
              "          dataTable['output_type'] = 'display_data';\n",
              "          await google.colab.output.renderOutput(dataTable, element);\n",
              "          const docLink = document.createElement('div');\n",
              "          docLink.innerHTML = docLinkHtml;\n",
              "          element.appendChild(docLink);\n",
              "        }\n",
              "      </script>\n",
              "    </div>\n",
              "  </div>\n",
              "  "
            ]
          },
          "metadata": {},
          "execution_count": 8
        }
      ]
    },
    {
      "cell_type": "code",
      "source": [
        "# tail() 함수를 이용하여 해당 데이터의 맨 뒤 5개의 원소를 볼 수 있습니다.\n",
        "# 더 많은 행을 보고 싶다면 ()안에 숫자를 넣어주시면 됩니다.\n",
        "\n",
        "data.tail()"
      ],
      "metadata": {
        "id": "SuSLXcgKNUGB",
        "colab": {
          "base_uri": "https://localhost:8080/",
          "height": 206
        },
        "outputId": "7f4393c2-c93c-4367-8a4b-1321964d77f2"
      },
      "execution_count": 9,
      "outputs": [
        {
          "output_type": "execute_result",
          "data": {
            "text/plain": [
              "      Age Sex ChestPainType  RestingBP  Cholesterol  FastingBS RestingECG  \\\n",
              "1185   41   M           NAP        130          214          0        LVH   \n",
              "1186   63   M           ASY        150            0          0     Normal   \n",
              "1187   50   M           ATA        120          168          0     Normal   \n",
              "1188   49   M           ASY        130          341          0     Normal   \n",
              "1189   49   M           ATA        130          266          0     Normal   \n",
              "\n",
              "      MaxHR ExerciseAngina  Oldpeak ST_Slope  HeartDisease  \n",
              "1185    168              N      2.0     Flat             0  \n",
              "1186     86              Y      2.0     Flat             1  \n",
              "1187    160              N      0.0       Up             0  \n",
              "1188    120              Y      1.0     Flat             1  \n",
              "1189    171              N      0.6       Up             0  "
            ],
            "text/html": [
              "\n",
              "  <div id=\"df-47263149-fbc6-40aa-8f37-6921616d526d\">\n",
              "    <div class=\"colab-df-container\">\n",
              "      <div>\n",
              "<style scoped>\n",
              "    .dataframe tbody tr th:only-of-type {\n",
              "        vertical-align: middle;\n",
              "    }\n",
              "\n",
              "    .dataframe tbody tr th {\n",
              "        vertical-align: top;\n",
              "    }\n",
              "\n",
              "    .dataframe thead th {\n",
              "        text-align: right;\n",
              "    }\n",
              "</style>\n",
              "<table border=\"1\" class=\"dataframe\">\n",
              "  <thead>\n",
              "    <tr style=\"text-align: right;\">\n",
              "      <th></th>\n",
              "      <th>Age</th>\n",
              "      <th>Sex</th>\n",
              "      <th>ChestPainType</th>\n",
              "      <th>RestingBP</th>\n",
              "      <th>Cholesterol</th>\n",
              "      <th>FastingBS</th>\n",
              "      <th>RestingECG</th>\n",
              "      <th>MaxHR</th>\n",
              "      <th>ExerciseAngina</th>\n",
              "      <th>Oldpeak</th>\n",
              "      <th>ST_Slope</th>\n",
              "      <th>HeartDisease</th>\n",
              "    </tr>\n",
              "  </thead>\n",
              "  <tbody>\n",
              "    <tr>\n",
              "      <th>1185</th>\n",
              "      <td>41</td>\n",
              "      <td>M</td>\n",
              "      <td>NAP</td>\n",
              "      <td>130</td>\n",
              "      <td>214</td>\n",
              "      <td>0</td>\n",
              "      <td>LVH</td>\n",
              "      <td>168</td>\n",
              "      <td>N</td>\n",
              "      <td>2.0</td>\n",
              "      <td>Flat</td>\n",
              "      <td>0</td>\n",
              "    </tr>\n",
              "    <tr>\n",
              "      <th>1186</th>\n",
              "      <td>63</td>\n",
              "      <td>M</td>\n",
              "      <td>ASY</td>\n",
              "      <td>150</td>\n",
              "      <td>0</td>\n",
              "      <td>0</td>\n",
              "      <td>Normal</td>\n",
              "      <td>86</td>\n",
              "      <td>Y</td>\n",
              "      <td>2.0</td>\n",
              "      <td>Flat</td>\n",
              "      <td>1</td>\n",
              "    </tr>\n",
              "    <tr>\n",
              "      <th>1187</th>\n",
              "      <td>50</td>\n",
              "      <td>M</td>\n",
              "      <td>ATA</td>\n",
              "      <td>120</td>\n",
              "      <td>168</td>\n",
              "      <td>0</td>\n",
              "      <td>Normal</td>\n",
              "      <td>160</td>\n",
              "      <td>N</td>\n",
              "      <td>0.0</td>\n",
              "      <td>Up</td>\n",
              "      <td>0</td>\n",
              "    </tr>\n",
              "    <tr>\n",
              "      <th>1188</th>\n",
              "      <td>49</td>\n",
              "      <td>M</td>\n",
              "      <td>ASY</td>\n",
              "      <td>130</td>\n",
              "      <td>341</td>\n",
              "      <td>0</td>\n",
              "      <td>Normal</td>\n",
              "      <td>120</td>\n",
              "      <td>Y</td>\n",
              "      <td>1.0</td>\n",
              "      <td>Flat</td>\n",
              "      <td>1</td>\n",
              "    </tr>\n",
              "    <tr>\n",
              "      <th>1189</th>\n",
              "      <td>49</td>\n",
              "      <td>M</td>\n",
              "      <td>ATA</td>\n",
              "      <td>130</td>\n",
              "      <td>266</td>\n",
              "      <td>0</td>\n",
              "      <td>Normal</td>\n",
              "      <td>171</td>\n",
              "      <td>N</td>\n",
              "      <td>0.6</td>\n",
              "      <td>Up</td>\n",
              "      <td>0</td>\n",
              "    </tr>\n",
              "  </tbody>\n",
              "</table>\n",
              "</div>\n",
              "      <button class=\"colab-df-convert\" onclick=\"convertToInteractive('df-47263149-fbc6-40aa-8f37-6921616d526d')\"\n",
              "              title=\"Convert this dataframe to an interactive table.\"\n",
              "              style=\"display:none;\">\n",
              "        \n",
              "  <svg xmlns=\"http://www.w3.org/2000/svg\" height=\"24px\"viewBox=\"0 0 24 24\"\n",
              "       width=\"24px\">\n",
              "    <path d=\"M0 0h24v24H0V0z\" fill=\"none\"/>\n",
              "    <path d=\"M18.56 5.44l.94 2.06.94-2.06 2.06-.94-2.06-.94-.94-2.06-.94 2.06-2.06.94zm-11 1L8.5 8.5l.94-2.06 2.06-.94-2.06-.94L8.5 2.5l-.94 2.06-2.06.94zm10 10l.94 2.06.94-2.06 2.06-.94-2.06-.94-.94-2.06-.94 2.06-2.06.94z\"/><path d=\"M17.41 7.96l-1.37-1.37c-.4-.4-.92-.59-1.43-.59-.52 0-1.04.2-1.43.59L10.3 9.45l-7.72 7.72c-.78.78-.78 2.05 0 2.83L4 21.41c.39.39.9.59 1.41.59.51 0 1.02-.2 1.41-.59l7.78-7.78 2.81-2.81c.8-.78.8-2.07 0-2.86zM5.41 20L4 18.59l7.72-7.72 1.47 1.35L5.41 20z\"/>\n",
              "  </svg>\n",
              "      </button>\n",
              "      \n",
              "  <style>\n",
              "    .colab-df-container {\n",
              "      display:flex;\n",
              "      flex-wrap:wrap;\n",
              "      gap: 12px;\n",
              "    }\n",
              "\n",
              "    .colab-df-convert {\n",
              "      background-color: #E8F0FE;\n",
              "      border: none;\n",
              "      border-radius: 50%;\n",
              "      cursor: pointer;\n",
              "      display: none;\n",
              "      fill: #1967D2;\n",
              "      height: 32px;\n",
              "      padding: 0 0 0 0;\n",
              "      width: 32px;\n",
              "    }\n",
              "\n",
              "    .colab-df-convert:hover {\n",
              "      background-color: #E2EBFA;\n",
              "      box-shadow: 0px 1px 2px rgba(60, 64, 67, 0.3), 0px 1px 3px 1px rgba(60, 64, 67, 0.15);\n",
              "      fill: #174EA6;\n",
              "    }\n",
              "\n",
              "    [theme=dark] .colab-df-convert {\n",
              "      background-color: #3B4455;\n",
              "      fill: #D2E3FC;\n",
              "    }\n",
              "\n",
              "    [theme=dark] .colab-df-convert:hover {\n",
              "      background-color: #434B5C;\n",
              "      box-shadow: 0px 1px 3px 1px rgba(0, 0, 0, 0.15);\n",
              "      filter: drop-shadow(0px 1px 2px rgba(0, 0, 0, 0.3));\n",
              "      fill: #FFFFFF;\n",
              "    }\n",
              "  </style>\n",
              "\n",
              "      <script>\n",
              "        const buttonEl =\n",
              "          document.querySelector('#df-47263149-fbc6-40aa-8f37-6921616d526d button.colab-df-convert');\n",
              "        buttonEl.style.display =\n",
              "          google.colab.kernel.accessAllowed ? 'block' : 'none';\n",
              "\n",
              "        async function convertToInteractive(key) {\n",
              "          const element = document.querySelector('#df-47263149-fbc6-40aa-8f37-6921616d526d');\n",
              "          const dataTable =\n",
              "            await google.colab.kernel.invokeFunction('convertToInteractive',\n",
              "                                                     [key], {});\n",
              "          if (!dataTable) return;\n",
              "\n",
              "          const docLinkHtml = 'Like what you see? Visit the ' +\n",
              "            '<a target=\"_blank\" href=https://colab.research.google.com/notebooks/data_table.ipynb>data table notebook</a>'\n",
              "            + ' to learn more about interactive tables.';\n",
              "          element.innerHTML = '';\n",
              "          dataTable['output_type'] = 'display_data';\n",
              "          await google.colab.output.renderOutput(dataTable, element);\n",
              "          const docLink = document.createElement('div');\n",
              "          docLink.innerHTML = docLinkHtml;\n",
              "          element.appendChild(docLink);\n",
              "        }\n",
              "      </script>\n",
              "    </div>\n",
              "  </div>\n",
              "  "
            ]
          },
          "metadata": {},
          "execution_count": 9
        }
      ]
    },
    {
      "cell_type": "code",
      "source": [
        "# DataFrame을 이루고 있는 column의 이름을 확인합니다.\n",
        "\n",
        "data.columns"
      ],
      "metadata": {
        "id": "Dp-qGCHYfbvc",
        "colab": {
          "base_uri": "https://localhost:8080/"
        },
        "outputId": "128b6b22-66fd-47e0-ddb3-8e4321b7e744"
      },
      "execution_count": 10,
      "outputs": [
        {
          "output_type": "execute_result",
          "data": {
            "text/plain": [
              "Index(['Age', 'Sex', 'ChestPainType', 'RestingBP', 'Cholesterol', 'FastingBS',\n",
              "       'RestingECG', 'MaxHR', 'ExerciseAngina', 'Oldpeak', 'ST_Slope',\n",
              "       'HeartDisease'],\n",
              "      dtype='object')"
            ]
          },
          "metadata": {},
          "execution_count": 10
        }
      ]
    },
    {
      "cell_type": "code",
      "source": [
        "# DataFrame을 이루고 있는 column 별 데이터의 타입을 확인합니다.\n",
        "\n",
        "data.dtypes"
      ],
      "metadata": {
        "id": "Uo0rA2-Af2Ox",
        "colab": {
          "base_uri": "https://localhost:8080/"
        },
        "outputId": "c66745f5-6710-447b-a761-46d07b9d67a9"
      },
      "execution_count": 11,
      "outputs": [
        {
          "output_type": "execute_result",
          "data": {
            "text/plain": [
              "Age                 int64\n",
              "Sex                object\n",
              "ChestPainType      object\n",
              "RestingBP           int64\n",
              "Cholesterol         int64\n",
              "FastingBS           int64\n",
              "RestingECG         object\n",
              "MaxHR               int64\n",
              "ExerciseAngina     object\n",
              "Oldpeak           float64\n",
              "ST_Slope           object\n",
              "HeartDisease        int64\n",
              "dtype: object"
            ]
          },
          "metadata": {},
          "execution_count": 11
        }
      ]
    },
    {
      "cell_type": "code",
      "source": [
        "# describe()는 각 column에 대해 통계량을 요약해주는 함수입니다.\n",
        "# 기본적으로 NaN(누락데이터)는 제외하고 데이터 요약이 수행됩니다.\n",
        "\n",
        "data.describe()"
      ],
      "metadata": {
        "id": "tqr0vPEUgIXe",
        "colab": {
          "base_uri": "https://localhost:8080/",
          "height": 300
        },
        "outputId": "ba663c16-cf85-4680-f98b-9089d8be4362"
      },
      "execution_count": 12,
      "outputs": [
        {
          "output_type": "execute_result",
          "data": {
            "text/plain": [
              "               Age    RestingBP  Cholesterol    FastingBS        MaxHR  \\\n",
              "count  1190.000000  1190.000000  1190.000000  1190.000000  1190.000000   \n",
              "mean     53.425210   132.413445   199.714286     0.236975   137.127731   \n",
              "std       9.476581    18.270433   109.352682     0.425405    25.259171   \n",
              "min      28.000000     0.000000     0.000000     0.000000    60.000000   \n",
              "25%      47.000000   120.000000   175.000000     0.000000   120.000000   \n",
              "50%      54.000000   130.000000   224.500000     0.000000   138.000000   \n",
              "75%      60.000000   140.000000   268.000000     0.000000   156.000000   \n",
              "max      77.000000   200.000000   603.000000     1.000000   202.000000   \n",
              "\n",
              "           Oldpeak  HeartDisease  \n",
              "count  1190.000000   1190.000000  \n",
              "mean      0.871176      0.560504  \n",
              "std       1.053458      0.496534  \n",
              "min      -2.600000      0.000000  \n",
              "25%       0.000000      0.000000  \n",
              "50%       0.600000      1.000000  \n",
              "75%       1.500000      1.000000  \n",
              "max       6.200000      1.000000  "
            ],
            "text/html": [
              "\n",
              "  <div id=\"df-37efe5b6-413a-484e-aa25-7f6ac1932974\">\n",
              "    <div class=\"colab-df-container\">\n",
              "      <div>\n",
              "<style scoped>\n",
              "    .dataframe tbody tr th:only-of-type {\n",
              "        vertical-align: middle;\n",
              "    }\n",
              "\n",
              "    .dataframe tbody tr th {\n",
              "        vertical-align: top;\n",
              "    }\n",
              "\n",
              "    .dataframe thead th {\n",
              "        text-align: right;\n",
              "    }\n",
              "</style>\n",
              "<table border=\"1\" class=\"dataframe\">\n",
              "  <thead>\n",
              "    <tr style=\"text-align: right;\">\n",
              "      <th></th>\n",
              "      <th>Age</th>\n",
              "      <th>RestingBP</th>\n",
              "      <th>Cholesterol</th>\n",
              "      <th>FastingBS</th>\n",
              "      <th>MaxHR</th>\n",
              "      <th>Oldpeak</th>\n",
              "      <th>HeartDisease</th>\n",
              "    </tr>\n",
              "  </thead>\n",
              "  <tbody>\n",
              "    <tr>\n",
              "      <th>count</th>\n",
              "      <td>1190.000000</td>\n",
              "      <td>1190.000000</td>\n",
              "      <td>1190.000000</td>\n",
              "      <td>1190.000000</td>\n",
              "      <td>1190.000000</td>\n",
              "      <td>1190.000000</td>\n",
              "      <td>1190.000000</td>\n",
              "    </tr>\n",
              "    <tr>\n",
              "      <th>mean</th>\n",
              "      <td>53.425210</td>\n",
              "      <td>132.413445</td>\n",
              "      <td>199.714286</td>\n",
              "      <td>0.236975</td>\n",
              "      <td>137.127731</td>\n",
              "      <td>0.871176</td>\n",
              "      <td>0.560504</td>\n",
              "    </tr>\n",
              "    <tr>\n",
              "      <th>std</th>\n",
              "      <td>9.476581</td>\n",
              "      <td>18.270433</td>\n",
              "      <td>109.352682</td>\n",
              "      <td>0.425405</td>\n",
              "      <td>25.259171</td>\n",
              "      <td>1.053458</td>\n",
              "      <td>0.496534</td>\n",
              "    </tr>\n",
              "    <tr>\n",
              "      <th>min</th>\n",
              "      <td>28.000000</td>\n",
              "      <td>0.000000</td>\n",
              "      <td>0.000000</td>\n",
              "      <td>0.000000</td>\n",
              "      <td>60.000000</td>\n",
              "      <td>-2.600000</td>\n",
              "      <td>0.000000</td>\n",
              "    </tr>\n",
              "    <tr>\n",
              "      <th>25%</th>\n",
              "      <td>47.000000</td>\n",
              "      <td>120.000000</td>\n",
              "      <td>175.000000</td>\n",
              "      <td>0.000000</td>\n",
              "      <td>120.000000</td>\n",
              "      <td>0.000000</td>\n",
              "      <td>0.000000</td>\n",
              "    </tr>\n",
              "    <tr>\n",
              "      <th>50%</th>\n",
              "      <td>54.000000</td>\n",
              "      <td>130.000000</td>\n",
              "      <td>224.500000</td>\n",
              "      <td>0.000000</td>\n",
              "      <td>138.000000</td>\n",
              "      <td>0.600000</td>\n",
              "      <td>1.000000</td>\n",
              "    </tr>\n",
              "    <tr>\n",
              "      <th>75%</th>\n",
              "      <td>60.000000</td>\n",
              "      <td>140.000000</td>\n",
              "      <td>268.000000</td>\n",
              "      <td>0.000000</td>\n",
              "      <td>156.000000</td>\n",
              "      <td>1.500000</td>\n",
              "      <td>1.000000</td>\n",
              "    </tr>\n",
              "    <tr>\n",
              "      <th>max</th>\n",
              "      <td>77.000000</td>\n",
              "      <td>200.000000</td>\n",
              "      <td>603.000000</td>\n",
              "      <td>1.000000</td>\n",
              "      <td>202.000000</td>\n",
              "      <td>6.200000</td>\n",
              "      <td>1.000000</td>\n",
              "    </tr>\n",
              "  </tbody>\n",
              "</table>\n",
              "</div>\n",
              "      <button class=\"colab-df-convert\" onclick=\"convertToInteractive('df-37efe5b6-413a-484e-aa25-7f6ac1932974')\"\n",
              "              title=\"Convert this dataframe to an interactive table.\"\n",
              "              style=\"display:none;\">\n",
              "        \n",
              "  <svg xmlns=\"http://www.w3.org/2000/svg\" height=\"24px\"viewBox=\"0 0 24 24\"\n",
              "       width=\"24px\">\n",
              "    <path d=\"M0 0h24v24H0V0z\" fill=\"none\"/>\n",
              "    <path d=\"M18.56 5.44l.94 2.06.94-2.06 2.06-.94-2.06-.94-.94-2.06-.94 2.06-2.06.94zm-11 1L8.5 8.5l.94-2.06 2.06-.94-2.06-.94L8.5 2.5l-.94 2.06-2.06.94zm10 10l.94 2.06.94-2.06 2.06-.94-2.06-.94-.94-2.06-.94 2.06-2.06.94z\"/><path d=\"M17.41 7.96l-1.37-1.37c-.4-.4-.92-.59-1.43-.59-.52 0-1.04.2-1.43.59L10.3 9.45l-7.72 7.72c-.78.78-.78 2.05 0 2.83L4 21.41c.39.39.9.59 1.41.59.51 0 1.02-.2 1.41-.59l7.78-7.78 2.81-2.81c.8-.78.8-2.07 0-2.86zM5.41 20L4 18.59l7.72-7.72 1.47 1.35L5.41 20z\"/>\n",
              "  </svg>\n",
              "      </button>\n",
              "      \n",
              "  <style>\n",
              "    .colab-df-container {\n",
              "      display:flex;\n",
              "      flex-wrap:wrap;\n",
              "      gap: 12px;\n",
              "    }\n",
              "\n",
              "    .colab-df-convert {\n",
              "      background-color: #E8F0FE;\n",
              "      border: none;\n",
              "      border-radius: 50%;\n",
              "      cursor: pointer;\n",
              "      display: none;\n",
              "      fill: #1967D2;\n",
              "      height: 32px;\n",
              "      padding: 0 0 0 0;\n",
              "      width: 32px;\n",
              "    }\n",
              "\n",
              "    .colab-df-convert:hover {\n",
              "      background-color: #E2EBFA;\n",
              "      box-shadow: 0px 1px 2px rgba(60, 64, 67, 0.3), 0px 1px 3px 1px rgba(60, 64, 67, 0.15);\n",
              "      fill: #174EA6;\n",
              "    }\n",
              "\n",
              "    [theme=dark] .colab-df-convert {\n",
              "      background-color: #3B4455;\n",
              "      fill: #D2E3FC;\n",
              "    }\n",
              "\n",
              "    [theme=dark] .colab-df-convert:hover {\n",
              "      background-color: #434B5C;\n",
              "      box-shadow: 0px 1px 3px 1px rgba(0, 0, 0, 0.15);\n",
              "      filter: drop-shadow(0px 1px 2px rgba(0, 0, 0, 0.3));\n",
              "      fill: #FFFFFF;\n",
              "    }\n",
              "  </style>\n",
              "\n",
              "      <script>\n",
              "        const buttonEl =\n",
              "          document.querySelector('#df-37efe5b6-413a-484e-aa25-7f6ac1932974 button.colab-df-convert');\n",
              "        buttonEl.style.display =\n",
              "          google.colab.kernel.accessAllowed ? 'block' : 'none';\n",
              "\n",
              "        async function convertToInteractive(key) {\n",
              "          const element = document.querySelector('#df-37efe5b6-413a-484e-aa25-7f6ac1932974');\n",
              "          const dataTable =\n",
              "            await google.colab.kernel.invokeFunction('convertToInteractive',\n",
              "                                                     [key], {});\n",
              "          if (!dataTable) return;\n",
              "\n",
              "          const docLinkHtml = 'Like what you see? Visit the ' +\n",
              "            '<a target=\"_blank\" href=https://colab.research.google.com/notebooks/data_table.ipynb>data table notebook</a>'\n",
              "            + ' to learn more about interactive tables.';\n",
              "          element.innerHTML = '';\n",
              "          dataTable['output_type'] = 'display_data';\n",
              "          await google.colab.output.renderOutput(dataTable, element);\n",
              "          const docLink = document.createElement('div');\n",
              "          docLink.innerHTML = docLinkHtml;\n",
              "          element.appendChild(docLink);\n",
              "        }\n",
              "      </script>\n",
              "    </div>\n",
              "  </div>\n",
              "  "
            ]
          },
          "metadata": {},
          "execution_count": 12
        }
      ]
    },
    {
      "cell_type": "markdown",
      "source": [
        "## 문제 1"
      ],
      "metadata": {
        "id": "OxWUc9_uNhwr"
      }
    },
    {
      "cell_type": "markdown",
      "source": [
        "* 보고서에 설명된 것을 바탕을 주어진 데이터의 변수들의 타입을 보고서에 기술하세요.\n",
        "\n",
        "  * 기술 형식 : 1. 변수 이름: categorical, nominal \n",
        "  * 타입은 대분류, 소분류 형식으로 적으세요. 예) 대분류(categorical), 소분류(nomial)"
      ],
      "metadata": {
        "id": "zAUopgpbNwqH"
      }
    },
    {
      "cell_type": "markdown",
      "source": [
        "답)\n",
        "1. Age: numeric, discrete\n",
        "2. Sex: categorical, nominal\n",
        "3. ChestPainType: categorical, nominal\n",
        "4. RestingBP: numeric, discrete\n",
        "5. Cholesterol: numeric, discrete\n",
        "6. FastingBS: categorical, nominal\n",
        "7. RestingECG: categorical, nominal\n",
        "8. MaxHR: numeric, discrete\n",
        "9. ExerciseAngina: categorical, nominal\n",
        "10. Oldpeak: numeric, continuous\n",
        "11. ST_slope: categorical, ordinal\n",
        "12. HeartDisease: categorical, nominal"
      ],
      "metadata": {
        "id": "0DMGNnrwHBDq"
      }
    },
    {
      "cell_type": "markdown",
      "source": [
        "## 문제 2\n",
        "* 중복값을 확인하고 중복값을 제거한 후 DataFrame의 차원을 확인하는 코드를 작성하여 캡처 후 보고서에 업로드하세요."
      ],
      "metadata": {
        "id": "vcSCug4uKTvJ"
      }
    },
    {
      "cell_type": "code",
      "source": [
        "# isnull()는 DataFrame에 있는 결측치(NA)를 boolean 값으로 반환하는 함수입니다.\n",
        "# 결측치가 있으면 True를 반환합니다.\n",
        "\n",
        "data.isnull().head()"
      ],
      "metadata": {
        "id": "vAxj5i4SXmaq",
        "colab": {
          "base_uri": "https://localhost:8080/",
          "height": 206
        },
        "outputId": "02fe8c93-8d8a-4f31-cd3d-d20f56f6a13a"
      },
      "execution_count": 13,
      "outputs": [
        {
          "output_type": "execute_result",
          "data": {
            "text/plain": [
              "     Age    Sex  ChestPainType  RestingBP  Cholesterol  FastingBS  RestingECG  \\\n",
              "0  False  False          False      False        False      False       False   \n",
              "1  False  False          False      False        False      False       False   \n",
              "2  False  False          False      False        False      False       False   \n",
              "3  False  False          False      False        False      False       False   \n",
              "4  False  False          False      False        False      False       False   \n",
              "\n",
              "   MaxHR  ExerciseAngina  Oldpeak  ST_Slope  HeartDisease  \n",
              "0  False           False    False     False         False  \n",
              "1  False           False    False     False         False  \n",
              "2  False           False    False     False         False  \n",
              "3  False           False    False     False         False  \n",
              "4  False           False    False     False         False  "
            ],
            "text/html": [
              "\n",
              "  <div id=\"df-a31fcb1e-fdab-4818-9c5e-25e3fa5a9576\">\n",
              "    <div class=\"colab-df-container\">\n",
              "      <div>\n",
              "<style scoped>\n",
              "    .dataframe tbody tr th:only-of-type {\n",
              "        vertical-align: middle;\n",
              "    }\n",
              "\n",
              "    .dataframe tbody tr th {\n",
              "        vertical-align: top;\n",
              "    }\n",
              "\n",
              "    .dataframe thead th {\n",
              "        text-align: right;\n",
              "    }\n",
              "</style>\n",
              "<table border=\"1\" class=\"dataframe\">\n",
              "  <thead>\n",
              "    <tr style=\"text-align: right;\">\n",
              "      <th></th>\n",
              "      <th>Age</th>\n",
              "      <th>Sex</th>\n",
              "      <th>ChestPainType</th>\n",
              "      <th>RestingBP</th>\n",
              "      <th>Cholesterol</th>\n",
              "      <th>FastingBS</th>\n",
              "      <th>RestingECG</th>\n",
              "      <th>MaxHR</th>\n",
              "      <th>ExerciseAngina</th>\n",
              "      <th>Oldpeak</th>\n",
              "      <th>ST_Slope</th>\n",
              "      <th>HeartDisease</th>\n",
              "    </tr>\n",
              "  </thead>\n",
              "  <tbody>\n",
              "    <tr>\n",
              "      <th>0</th>\n",
              "      <td>False</td>\n",
              "      <td>False</td>\n",
              "      <td>False</td>\n",
              "      <td>False</td>\n",
              "      <td>False</td>\n",
              "      <td>False</td>\n",
              "      <td>False</td>\n",
              "      <td>False</td>\n",
              "      <td>False</td>\n",
              "      <td>False</td>\n",
              "      <td>False</td>\n",
              "      <td>False</td>\n",
              "    </tr>\n",
              "    <tr>\n",
              "      <th>1</th>\n",
              "      <td>False</td>\n",
              "      <td>False</td>\n",
              "      <td>False</td>\n",
              "      <td>False</td>\n",
              "      <td>False</td>\n",
              "      <td>False</td>\n",
              "      <td>False</td>\n",
              "      <td>False</td>\n",
              "      <td>False</td>\n",
              "      <td>False</td>\n",
              "      <td>False</td>\n",
              "      <td>False</td>\n",
              "    </tr>\n",
              "    <tr>\n",
              "      <th>2</th>\n",
              "      <td>False</td>\n",
              "      <td>False</td>\n",
              "      <td>False</td>\n",
              "      <td>False</td>\n",
              "      <td>False</td>\n",
              "      <td>False</td>\n",
              "      <td>False</td>\n",
              "      <td>False</td>\n",
              "      <td>False</td>\n",
              "      <td>False</td>\n",
              "      <td>False</td>\n",
              "      <td>False</td>\n",
              "    </tr>\n",
              "    <tr>\n",
              "      <th>3</th>\n",
              "      <td>False</td>\n",
              "      <td>False</td>\n",
              "      <td>False</td>\n",
              "      <td>False</td>\n",
              "      <td>False</td>\n",
              "      <td>False</td>\n",
              "      <td>False</td>\n",
              "      <td>False</td>\n",
              "      <td>False</td>\n",
              "      <td>False</td>\n",
              "      <td>False</td>\n",
              "      <td>False</td>\n",
              "    </tr>\n",
              "    <tr>\n",
              "      <th>4</th>\n",
              "      <td>False</td>\n",
              "      <td>False</td>\n",
              "      <td>False</td>\n",
              "      <td>False</td>\n",
              "      <td>False</td>\n",
              "      <td>False</td>\n",
              "      <td>False</td>\n",
              "      <td>False</td>\n",
              "      <td>False</td>\n",
              "      <td>False</td>\n",
              "      <td>False</td>\n",
              "      <td>False</td>\n",
              "    </tr>\n",
              "  </tbody>\n",
              "</table>\n",
              "</div>\n",
              "      <button class=\"colab-df-convert\" onclick=\"convertToInteractive('df-a31fcb1e-fdab-4818-9c5e-25e3fa5a9576')\"\n",
              "              title=\"Convert this dataframe to an interactive table.\"\n",
              "              style=\"display:none;\">\n",
              "        \n",
              "  <svg xmlns=\"http://www.w3.org/2000/svg\" height=\"24px\"viewBox=\"0 0 24 24\"\n",
              "       width=\"24px\">\n",
              "    <path d=\"M0 0h24v24H0V0z\" fill=\"none\"/>\n",
              "    <path d=\"M18.56 5.44l.94 2.06.94-2.06 2.06-.94-2.06-.94-.94-2.06-.94 2.06-2.06.94zm-11 1L8.5 8.5l.94-2.06 2.06-.94-2.06-.94L8.5 2.5l-.94 2.06-2.06.94zm10 10l.94 2.06.94-2.06 2.06-.94-2.06-.94-.94-2.06-.94 2.06-2.06.94z\"/><path d=\"M17.41 7.96l-1.37-1.37c-.4-.4-.92-.59-1.43-.59-.52 0-1.04.2-1.43.59L10.3 9.45l-7.72 7.72c-.78.78-.78 2.05 0 2.83L4 21.41c.39.39.9.59 1.41.59.51 0 1.02-.2 1.41-.59l7.78-7.78 2.81-2.81c.8-.78.8-2.07 0-2.86zM5.41 20L4 18.59l7.72-7.72 1.47 1.35L5.41 20z\"/>\n",
              "  </svg>\n",
              "      </button>\n",
              "      \n",
              "  <style>\n",
              "    .colab-df-container {\n",
              "      display:flex;\n",
              "      flex-wrap:wrap;\n",
              "      gap: 12px;\n",
              "    }\n",
              "\n",
              "    .colab-df-convert {\n",
              "      background-color: #E8F0FE;\n",
              "      border: none;\n",
              "      border-radius: 50%;\n",
              "      cursor: pointer;\n",
              "      display: none;\n",
              "      fill: #1967D2;\n",
              "      height: 32px;\n",
              "      padding: 0 0 0 0;\n",
              "      width: 32px;\n",
              "    }\n",
              "\n",
              "    .colab-df-convert:hover {\n",
              "      background-color: #E2EBFA;\n",
              "      box-shadow: 0px 1px 2px rgba(60, 64, 67, 0.3), 0px 1px 3px 1px rgba(60, 64, 67, 0.15);\n",
              "      fill: #174EA6;\n",
              "    }\n",
              "\n",
              "    [theme=dark] .colab-df-convert {\n",
              "      background-color: #3B4455;\n",
              "      fill: #D2E3FC;\n",
              "    }\n",
              "\n",
              "    [theme=dark] .colab-df-convert:hover {\n",
              "      background-color: #434B5C;\n",
              "      box-shadow: 0px 1px 3px 1px rgba(0, 0, 0, 0.15);\n",
              "      filter: drop-shadow(0px 1px 2px rgba(0, 0, 0, 0.3));\n",
              "      fill: #FFFFFF;\n",
              "    }\n",
              "  </style>\n",
              "\n",
              "      <script>\n",
              "        const buttonEl =\n",
              "          document.querySelector('#df-a31fcb1e-fdab-4818-9c5e-25e3fa5a9576 button.colab-df-convert');\n",
              "        buttonEl.style.display =\n",
              "          google.colab.kernel.accessAllowed ? 'block' : 'none';\n",
              "\n",
              "        async function convertToInteractive(key) {\n",
              "          const element = document.querySelector('#df-a31fcb1e-fdab-4818-9c5e-25e3fa5a9576');\n",
              "          const dataTable =\n",
              "            await google.colab.kernel.invokeFunction('convertToInteractive',\n",
              "                                                     [key], {});\n",
              "          if (!dataTable) return;\n",
              "\n",
              "          const docLinkHtml = 'Like what you see? Visit the ' +\n",
              "            '<a target=\"_blank\" href=https://colab.research.google.com/notebooks/data_table.ipynb>data table notebook</a>'\n",
              "            + ' to learn more about interactive tables.';\n",
              "          element.innerHTML = '';\n",
              "          dataTable['output_type'] = 'display_data';\n",
              "          await google.colab.output.renderOutput(dataTable, element);\n",
              "          const docLink = document.createElement('div');\n",
              "          docLink.innerHTML = docLinkHtml;\n",
              "          element.appendChild(docLink);\n",
              "        }\n",
              "      </script>\n",
              "    </div>\n",
              "  </div>\n",
              "  "
            ]
          },
          "metadata": {},
          "execution_count": 13
        }
      ]
    },
    {
      "cell_type": "code",
      "source": [
        "# isnull()에 sum() 를 결합하여 DataFrame에 있는 결측치의 합을 구합니다.\n",
        "\n",
        "data.isnull().sum()"
      ],
      "metadata": {
        "id": "GkFjz5EMWOvu",
        "colab": {
          "base_uri": "https://localhost:8080/"
        },
        "outputId": "6cfde674-8c8d-4793-f10e-ce748073e42d"
      },
      "execution_count": 14,
      "outputs": [
        {
          "output_type": "execute_result",
          "data": {
            "text/plain": [
              "Age               0\n",
              "Sex               0\n",
              "ChestPainType     0\n",
              "RestingBP         0\n",
              "Cholesterol       0\n",
              "FastingBS         0\n",
              "RestingECG        0\n",
              "MaxHR             0\n",
              "ExerciseAngina    0\n",
              "Oldpeak           0\n",
              "ST_Slope          0\n",
              "HeartDisease      0\n",
              "dtype: int64"
            ]
          },
          "metadata": {},
          "execution_count": 14
        }
      ]
    },
    {
      "cell_type": "code",
      "source": [
        "# duplicated()는 중복된 데이터를 Series 형식으로 반환합니다.\n",
        "\n",
        "data.duplicated()"
      ],
      "metadata": {
        "id": "bX4Z2P1BXu75",
        "colab": {
          "base_uri": "https://localhost:8080/"
        },
        "outputId": "6c62da19-41be-4e46-c4c2-c1111aae0cba"
      },
      "execution_count": 15,
      "outputs": [
        {
          "output_type": "execute_result",
          "data": {
            "text/plain": [
              "0       False\n",
              "1       False\n",
              "2       False\n",
              "3       False\n",
              "4       False\n",
              "        ...  \n",
              "1185    False\n",
              "1186    False\n",
              "1187    False\n",
              "1188    False\n",
              "1189    False\n",
              "Length: 1190, dtype: bool"
            ]
          },
          "metadata": {},
          "execution_count": 15
        }
      ]
    },
    {
      "cell_type": "code",
      "source": [
        "# duplicated()에 sum()을 결합하여 DataFrame에 있는 중복 데이터의 합을 구합니다.\n",
        "\n",
        "data.duplicated().sum()"
      ],
      "metadata": {
        "id": "UMkdBrhRWXvd",
        "colab": {
          "base_uri": "https://localhost:8080/"
        },
        "outputId": "a0fdf5b3-ee69-4c59-c1d3-11979e648c10"
      },
      "execution_count": 16,
      "outputs": [
        {
          "output_type": "execute_result",
          "data": {
            "text/plain": [
              "272"
            ]
          },
          "metadata": {},
          "execution_count": 16
        }
      ]
    },
    {
      "cell_type": "code",
      "source": [
        "################  문제 2  ####################\n",
        "# 소스코드를 입력하고 캡처 후 보고서에 업로드하세요.\n",
        "# 코드 시작과 코드 끝 라인을 삭제하지 마세요.\n",
        "################ 코드 시작  #####################\n",
        "\n",
        "print(data[data.duplicated()]) # 중복된 값 확인 (결과에서 272개의 중복된 값이 있는 것까지 확인 가능)\n",
        "data = data.drop_duplicates() # 중복된 값 제거\n",
        "print(data.shape) # 차원 확인\n",
        "\n",
        "# data.shape의 결과까지 캡처하여 보고서에 업로드 하세요.\n",
        "\n",
        "################ 코드 끝  #####################"
      ],
      "metadata": {
        "id": "w2H9d-dfXbUi",
        "colab": {
          "base_uri": "https://localhost:8080/"
        },
        "outputId": "5d1cf245-b784-4e7c-9f19-89fe899d5af3"
      },
      "execution_count": 17,
      "outputs": [
        {
          "output_type": "stream",
          "name": "stdout",
          "text": [
            "      Age Sex ChestPainType  RestingBP  Cholesterol  FastingBS RestingECG  \\\n",
            "89     41   M           NAP        112          250          0     Normal   \n",
            "100    62   M           ASY        135          297          0     Normal   \n",
            "105    62   M            TA        120            0          1        LVH   \n",
            "106    60   M           ASY        125            0          1     Normal   \n",
            "140    63   M           NAP        133            0          0        LVH   \n",
            "...   ...  ..           ...        ...          ...        ...        ...   \n",
            "1175   67   M           ASY        160          384          1         ST   \n",
            "1177   34   M           ATA        150          214          0         ST   \n",
            "1179   55   M           NAP        136          228          0         ST   \n",
            "1181   42   M           NAP        134          240          0     Normal   \n",
            "1183   55   M           ASY        132          353          0     Normal   \n",
            "\n",
            "      MaxHR ExerciseAngina  Oldpeak ST_Slope  HeartDisease  \n",
            "89      179              N      0.0       Up             0  \n",
            "100     130              Y      1.0     Flat             1  \n",
            "105     134              N     -0.8     Flat             1  \n",
            "106     110              N      0.1       Up             1  \n",
            "140     120              Y      1.0     Flat             1  \n",
            "...     ...            ...      ...      ...           ...  \n",
            "1175    130              Y      0.0     Flat             1  \n",
            "1177    168              N      0.0       Up             0  \n",
            "1179    124              Y      1.6     Flat             1  \n",
            "1181    160              N      0.0       Up             0  \n",
            "1183    132              Y      1.2     Flat             1  \n",
            "\n",
            "[272 rows x 12 columns]\n",
            "(918, 12)\n"
          ]
        }
      ]
    },
    {
      "cell_type": "markdown",
      "source": [
        "## 문제 3\n",
        "* outlier 처리하기\n"
      ],
      "metadata": {
        "id": "jfdAE8yemwNI"
      }
    },
    {
      "cell_type": "markdown",
      "source": [
        "### 문제 3-1\n",
        "* Age, RestingBP, Cholesterol, MaxHR, Oldpeak column에 대해 각각 box plot을 그리고 캡처하여 결과를 보고서에 업로드하세요. (box plot을 그리는 모든 패키지 사용 가능)\n",
        "  * column의 이름이 box plot의 x축에 나타나도록 하세요.\n",
        "* outlier가 있는 column의 이름을 모두 보고서에 쓰세요."
      ],
      "metadata": {
        "id": "hsr_cb0NOl_z"
      }
    },
    {
      "cell_type": "code",
      "source": [
        "## 코드 작성\n",
        "\n",
        "fig, ax = plt.subplots(1, 5) # 하나의 row, 5개의 columns -> 5개의 플롯을 그릴 곳을 생성.\n",
        "\n",
        "fig.set_size_inches(15, 9) # figure 사이즈 설정\n",
        "plt.subplots_adjust(wspace = 0.7, hspace = 0.7) # 각 subplot간 여백 생성\n",
        "\n",
        "ax[0].boxplot([data.Age]) # Age에 대한 boxplot 그리기\n",
        "ax[0].set_xticklabels(['Age']) # x축에 이름넣기\n",
        "\n",
        "ax[1].boxplot([data.RestingBP]) # RestingBP에 대한 boxplot 그리기\n",
        "ax[1].set_xticklabels(['RestingBP']) # x축에 이름넣기\n",
        "\n",
        "ax[2].boxplot([data.Cholesterol]) # Cholesterol에 대한 boxplot 그리기\n",
        "ax[2].set_xticklabels(['Cholesterol']) # x축에 이름넣기\n",
        "\n",
        "ax[3].boxplot([data.MaxHR]) # MaxHR에 대한 boxplot 그리기\n",
        "ax[3].set_xticklabels(['MaxHR']) # x축에 이름넣기\n",
        "\n",
        "ax[4].boxplot([data.Oldpeak]) # Oldpeak에 대한 boxplot 그리기\n",
        "ax[4].set_xticklabels(['Oldpeak']) # x축에 이름넣기\n",
        "\n",
        "plt.show() # 만들어진 그래프 표시"
      ],
      "metadata": {
        "id": "EufsF5RsI0Nr",
        "colab": {
          "base_uri": "https://localhost:8080/",
          "height": 537
        },
        "outputId": "e182bc02-90ff-4dea-df49-bd5b3351c61e"
      },
      "execution_count": 18,
      "outputs": [
        {
          "output_type": "display_data",
          "data": {
            "text/plain": [
              "<Figure size 1080x648 with 5 Axes>"
            ],
            "image/png": "[encoded data removed]"
          },
          "metadata": {
            "needs_background": "light"
          }
        }
      ]
    },
    {
      "cell_type": "markdown",
      "source": [
        "### 문제 3-2\n",
        "* 문제 3-1에서 outlier가 있다고 판단한 열에 대해서 outlier를 제거하는 함수 extract_outliers() 의 빈 칸을 채워 outlier를 찾으세요.\n",
        "  * 입력: 원본 데이터, outlier가 있다고 판단한 열 하나\n",
        "  * 출력: outlier들만 있는 DataFrame"
      ],
      "metadata": {
        "id": "V1UL5nM5PPMX"
      }
    },
    {
      "cell_type": "code",
      "source": [
        "def extract_outliers(data,col):\n",
        "\n",
        "  q1 =  data[col].quantile(0.25)\n",
        "  q3 = data[col].quantile(0.75)\n",
        "\n",
        "  ################  문제 3-2  ####################\n",
        "  # 소스코드를 입력하고 캡처 후 보고서에 업로드하세요.\n",
        "  # 코드 시작과 코드 끝 라인을 삭제하지 마세요.\n",
        "  ################ 코드 시작  #####################\n",
        "  \n",
        "  iqr = q3 - q1 # iqr 크기 계산\n",
        "  max = q3 + iqr * 1.5 # 이 값보다 크면 outlier\n",
        "  min = q1 - iqr * 1.5 # 이 값보다 작아도 outlier\n",
        "\n",
        "  out = data[(data[col]<min) | (data[col]>max)]\n",
        "  # 결론적으로 min, max 바깥에 있는 값은 outlier.\n",
        "\n",
        "  ################ 코드 꿑  ######################\n",
        "  return out "
      ],
      "metadata": {
        "id": "07-p-jd-z72L"
      },
      "execution_count": 19,
      "outputs": []
    },
    {
      "cell_type": "markdown",
      "source": [
        "### 문제 3-3\n",
        "* 문제 3-1에서 outlier가 있다고 판단한 열에 대해 문제 3-2의 extract_outliers()를 사용하여 원본 데이터프레임(data)에서 outlier를 제거한 DataFrame data_clean을 만드세요. "
      ],
      "metadata": {
        "id": "BmuQu6VnQUEq"
      }
    },
    {
      "cell_type": "code",
      "source": [
        "out_restingBP = extract_outliers(data, \"RestingBP\")\n",
        "out_cholesterol = extract_outliers(data, \"Cholesterol\")\n",
        "out_maxHR = extract_outliers(data, \"MaxHR\")\n",
        "out_oldpeak = extract_outliers(data, \"Oldpeak\")"
      ],
      "metadata": {
        "id": "JtGq0K8espeW"
      },
      "execution_count": 20,
      "outputs": []
    },
    {
      "cell_type": "code",
      "source": [
        "# 코드 작성\n",
        "data_clean = pd.concat([data, out_restingBP]) # 원본과 RestingBP의 outlier 합치기\n",
        "data_clean = pd.concat([data_clean, out_cholesterol]) # data_clean과 Cholesterol의 outlier 합치기\n",
        "data_clean = pd.concat([data_clean, out_maxHR]) # data_clean과 MaxHR의 outlier 합치기\n",
        "data_clean = pd.concat([data_clean, out_oldpeak]) # data_clean과 Oldpeak의 outlier 합치기\n",
        "\n",
        "data_clean = data_clean.drop_duplicates(keep = False) # 중복된 것을 모두 지우면 outlier는 삭제된다."
      ],
      "metadata": {
        "id": "v1E-EZIxKDbF"
      },
      "execution_count": 21,
      "outputs": []
    },
    {
      "cell_type": "code",
      "source": [
        "## 본 코드의 결과를 캡처 후 보고서에 업로드하세요.\n",
        "\n",
        "data_clean.shape"
      ],
      "metadata": {
        "id": "pv1Y4zAsMeGx",
        "colab": {
          "base_uri": "https://localhost:8080/"
        },
        "outputId": "9c01d34e-b975-49a8-f0aa-a69ad92bc3f1"
      },
      "execution_count": 22,
      "outputs": [
        {
          "output_type": "execute_result",
          "data": {
            "text/plain": [
              "(702, 12)"
            ]
          },
          "metadata": {},
          "execution_count": 22
        }
      ]
    },
    {
      "cell_type": "markdown",
      "source": [
        "## 문제 4\n"
      ],
      "metadata": {
        "id": "VYHiUEq1i3Xr"
      }
    },
    {
      "cell_type": "markdown",
      "source": [
        "### 문제 4-1\n",
        "* data_clean의 Sex 열의 데이터 값을 남성(M)일 경우 0, 여성(F)일 경우 1로 인코딩하세요.\n",
        "* 인코딩 후 data_clean.head()의 결과를 보고서에 캡처하여 업로드하세요."
      ],
      "metadata": {
        "id": "ty9clUdXBGoc"
      }
    },
    {
      "cell_type": "code",
      "source": [
        "data_clean.loc[data_clean['Sex']=='M', 'Sex'] = 0 # M 찾으면 그 row의 Sex column을 0으로 바꿈\n",
        "data_clean.loc[data_clean['Sex']=='F', 'Sex'] = 1 # F 찾으면 그 row의 Sex column을 1로 바꿈\n",
        "\n",
        "data_clean.head()"
      ],
      "metadata": {
        "id": "rDVEdRHvGjyr",
        "colab": {
          "base_uri": "https://localhost:8080/",
          "height": 206
        },
        "outputId": "3ea172c1-5a9b-4d28-9cb7-440c358eed48"
      },
      "execution_count": 23,
      "outputs": [
        {
          "output_type": "execute_result",
          "data": {
            "text/plain": [
              "   Age Sex ChestPainType  RestingBP  Cholesterol  FastingBS RestingECG  MaxHR  \\\n",
              "1   48   0           ASY        140          208          0     Normal    159   \n",
              "2   64   1           ASY        142          276          0     Normal    140   \n",
              "3   40   0           ATA        130          275          0     Normal    150   \n",
              "4   63   0           ASY        130          330          1        LVH    132   \n",
              "6   60   1           NAP        102          318          0     Normal    160   \n",
              "\n",
              "  ExerciseAngina  Oldpeak ST_Slope  HeartDisease  \n",
              "1              Y      1.5       Up             1  \n",
              "2              Y      1.0     Flat             1  \n",
              "3              N      0.0       Up             0  \n",
              "4              Y      1.8       Up             1  \n",
              "6              N      0.0       Up             0  "
            ],
            "text/html": [
              "\n",
              "  <div id=\"df-a6b0a736-6f5a-4860-a53d-75ccbdf5d0a4\">\n",
              "    <div class=\"colab-df-container\">\n",
              "      <div>\n",
              "<style scoped>\n",
              "    .dataframe tbody tr th:only-of-type {\n",
              "        vertical-align: middle;\n",
              "    }\n",
              "\n",
              "    .dataframe tbody tr th {\n",
              "        vertical-align: top;\n",
              "    }\n",
              "\n",
              "    .dataframe thead th {\n",
              "        text-align: right;\n",
              "    }\n",
              "</style>\n",
              "<table border=\"1\" class=\"dataframe\">\n",
              "  <thead>\n",
              "    <tr style=\"text-align: right;\">\n",
              "      <th></th>\n",
              "      <th>Age</th>\n",
              "      <th>Sex</th>\n",
              "      <th>ChestPainType</th>\n",
              "      <th>RestingBP</th>\n",
              "      <th>Cholesterol</th>\n",
              "      <th>FastingBS</th>\n",
              "      <th>RestingECG</th>\n",
              "      <th>MaxHR</th>\n",
              "      <th>ExerciseAngina</th>\n",
              "      <th>Oldpeak</th>\n",
              "      <th>ST_Slope</th>\n",
              "      <th>HeartDisease</th>\n",
              "    </tr>\n",
              "  </thead>\n",
              "  <tbody>\n",
              "    <tr>\n",
              "      <th>1</th>\n",
              "      <td>48</td>\n",
              "      <td>0</td>\n",
              "      <td>ASY</td>\n",
              "      <td>140</td>\n",
              "      <td>208</td>\n",
              "      <td>0</td>\n",
              "      <td>Normal</td>\n",
              "      <td>159</td>\n",
              "      <td>Y</td>\n",
              "      <td>1.5</td>\n",
              "      <td>Up</td>\n",
              "      <td>1</td>\n",
              "    </tr>\n",
              "    <tr>\n",
              "      <th>2</th>\n",
              "      <td>64</td>\n",
              "      <td>1</td>\n",
              "      <td>ASY</td>\n",
              "      <td>142</td>\n",
              "      <td>276</td>\n",
              "      <td>0</td>\n",
              "      <td>Normal</td>\n",
              "      <td>140</td>\n",
              "      <td>Y</td>\n",
              "      <td>1.0</td>\n",
              "      <td>Flat</td>\n",
              "      <td>1</td>\n",
              "    </tr>\n",
              "    <tr>\n",
              "      <th>3</th>\n",
              "      <td>40</td>\n",
              "      <td>0</td>\n",
              "      <td>ATA</td>\n",
              "      <td>130</td>\n",
              "      <td>275</td>\n",
              "      <td>0</td>\n",
              "      <td>Normal</td>\n",
              "      <td>150</td>\n",
              "      <td>N</td>\n",
              "      <td>0.0</td>\n",
              "      <td>Up</td>\n",
              "      <td>0</td>\n",
              "    </tr>\n",
              "    <tr>\n",
              "      <th>4</th>\n",
              "      <td>63</td>\n",
              "      <td>0</td>\n",
              "      <td>ASY</td>\n",
              "      <td>130</td>\n",
              "      <td>330</td>\n",
              "      <td>1</td>\n",
              "      <td>LVH</td>\n",
              "      <td>132</td>\n",
              "      <td>Y</td>\n",
              "      <td>1.8</td>\n",
              "      <td>Up</td>\n",
              "      <td>1</td>\n",
              "    </tr>\n",
              "    <tr>\n",
              "      <th>6</th>\n",
              "      <td>60</td>\n",
              "      <td>1</td>\n",
              "      <td>NAP</td>\n",
              "      <td>102</td>\n",
              "      <td>318</td>\n",
              "      <td>0</td>\n",
              "      <td>Normal</td>\n",
              "      <td>160</td>\n",
              "      <td>N</td>\n",
              "      <td>0.0</td>\n",
              "      <td>Up</td>\n",
              "      <td>0</td>\n",
              "    </tr>\n",
              "  </tbody>\n",
              "</table>\n",
              "</div>\n",
              "      <button class=\"colab-df-convert\" onclick=\"convertToInteractive('df-a6b0a736-6f5a-4860-a53d-75ccbdf5d0a4')\"\n",
              "              title=\"Convert this dataframe to an interactive table.\"\n",
              "              style=\"display:none;\">\n",
              "        \n",
              "  <svg xmlns=\"http://www.w3.org/2000/svg\" height=\"24px\"viewBox=\"0 0 24 24\"\n",
              "       width=\"24px\">\n",
              "    <path d=\"M0 0h24v24H0V0z\" fill=\"none\"/>\n",
              "    <path d=\"M18.56 5.44l.94 2.06.94-2.06 2.06-.94-2.06-.94-.94-2.06-.94 2.06-2.06.94zm-11 1L8.5 8.5l.94-2.06 2.06-.94-2.06-.94L8.5 2.5l-.94 2.06-2.06.94zm10 10l.94 2.06.94-2.06 2.06-.94-2.06-.94-.94-2.06-.94 2.06-2.06.94z\"/><path d=\"M17.41 7.96l-1.37-1.37c-.4-.4-.92-.59-1.43-.59-.52 0-1.04.2-1.43.59L10.3 9.45l-7.72 7.72c-.78.78-.78 2.05 0 2.83L4 21.41c.39.39.9.59 1.41.59.51 0 1.02-.2 1.41-.59l7.78-7.78 2.81-2.81c.8-.78.8-2.07 0-2.86zM5.41 20L4 18.59l7.72-7.72 1.47 1.35L5.41 20z\"/>\n",
              "  </svg>\n",
              "      </button>\n",
              "      \n",
              "  <style>\n",
              "    .colab-df-container {\n",
              "      display:flex;\n",
              "      flex-wrap:wrap;\n",
              "      gap: 12px;\n",
              "    }\n",
              "\n",
              "    .colab-df-convert {\n",
              "      background-color: #E8F0FE;\n",
              "      border: none;\n",
              "      border-radius: 50%;\n",
              "      cursor: pointer;\n",
              "      display: none;\n",
              "      fill: #1967D2;\n",
              "      height: 32px;\n",
              "      padding: 0 0 0 0;\n",
              "      width: 32px;\n",
              "    }\n",
              "\n",
              "    .colab-df-convert:hover {\n",
              "      background-color: #E2EBFA;\n",
              "      box-shadow: 0px 1px 2px rgba(60, 64, 67, 0.3), 0px 1px 3px 1px rgba(60, 64, 67, 0.15);\n",
              "      fill: #174EA6;\n",
              "    }\n",
              "\n",
              "    [theme=dark] .colab-df-convert {\n",
              "      background-color: #3B4455;\n",
              "      fill: #D2E3FC;\n",
              "    }\n",
              "\n",
              "    [theme=dark] .colab-df-convert:hover {\n",
              "      background-color: #434B5C;\n",
              "      box-shadow: 0px 1px 3px 1px rgba(0, 0, 0, 0.15);\n",
              "      filter: drop-shadow(0px 1px 2px rgba(0, 0, 0, 0.3));\n",
              "      fill: #FFFFFF;\n",
              "    }\n",
              "  </style>\n",
              "\n",
              "      <script>\n",
              "        const buttonEl =\n",
              "          document.querySelector('#df-a6b0a736-6f5a-4860-a53d-75ccbdf5d0a4 button.colab-df-convert');\n",
              "        buttonEl.style.display =\n",
              "          google.colab.kernel.accessAllowed ? 'block' : 'none';\n",
              "\n",
              "        async function convertToInteractive(key) {\n",
              "          const element = document.querySelector('#df-a6b0a736-6f5a-4860-a53d-75ccbdf5d0a4');\n",
              "          const dataTable =\n",
              "            await google.colab.kernel.invokeFunction('convertToInteractive',\n",
              "                                                     [key], {});\n",
              "          if (!dataTable) return;\n",
              "\n",
              "          const docLinkHtml = 'Like what you see? Visit the ' +\n",
              "            '<a target=\"_blank\" href=https://colab.research.google.com/notebooks/data_table.ipynb>data table notebook</a>'\n",
              "            + ' to learn more about interactive tables.';\n",
              "          element.innerHTML = '';\n",
              "          dataTable['output_type'] = 'display_data';\n",
              "          await google.colab.output.renderOutput(dataTable, element);\n",
              "          const docLink = document.createElement('div');\n",
              "          docLink.innerHTML = docLinkHtml;\n",
              "          element.appendChild(docLink);\n",
              "        }\n",
              "      </script>\n",
              "    </div>\n",
              "  </div>\n",
              "  "
            ]
          },
          "metadata": {},
          "execution_count": 23
        }
      ]
    },
    {
      "cell_type": "markdown",
      "source": [
        "### 문제 4-2\n",
        "* data_clean의 ExerciseAngina 열의 데이터 값을 N인 경우 0, Y인 경우 1로 인코딩하세요."
      ],
      "metadata": {
        "id": "UoBHGhVnBuPL"
      }
    },
    {
      "cell_type": "code",
      "source": [
        "data_clean.loc[data_clean['ExerciseAngina']=='N', 'ExerciseAngina'] = 0 # N 찾으면 그 row의 ExerciseAngina column을 0으로 바꿈\n",
        "data_clean.loc[data_clean['ExerciseAngina']=='Y', 'ExerciseAngina'] = 1 # Y 찾으면 그 row의 ExerciseAngina column을 1로 바꿈\n",
        "\n",
        "data_clean.head()"
      ],
      "metadata": {
        "id": "7VZT9vlZLS6r",
        "colab": {
          "base_uri": "https://localhost:8080/",
          "height": 206
        },
        "outputId": "1a4f14a0-5997-4c71-8e57-713c936f0845"
      },
      "execution_count": 24,
      "outputs": [
        {
          "output_type": "execute_result",
          "data": {
            "text/plain": [
              "   Age Sex ChestPainType  RestingBP  Cholesterol  FastingBS RestingECG  MaxHR  \\\n",
              "1   48   0           ASY        140          208          0     Normal    159   \n",
              "2   64   1           ASY        142          276          0     Normal    140   \n",
              "3   40   0           ATA        130          275          0     Normal    150   \n",
              "4   63   0           ASY        130          330          1        LVH    132   \n",
              "6   60   1           NAP        102          318          0     Normal    160   \n",
              "\n",
              "  ExerciseAngina  Oldpeak ST_Slope  HeartDisease  \n",
              "1              1      1.5       Up             1  \n",
              "2              1      1.0     Flat             1  \n",
              "3              0      0.0       Up             0  \n",
              "4              1      1.8       Up             1  \n",
              "6              0      0.0       Up             0  "
            ],
            "text/html": [
              "\n",
              "  <div id=\"df-bb57d53c-822e-4c37-b939-67018d35d535\">\n",
              "    <div class=\"colab-df-container\">\n",
              "      <div>\n",
              "<style scoped>\n",
              "    .dataframe tbody tr th:only-of-type {\n",
              "        vertical-align: middle;\n",
              "    }\n",
              "\n",
              "    .dataframe tbody tr th {\n",
              "        vertical-align: top;\n",
              "    }\n",
              "\n",
              "    .dataframe thead th {\n",
              "        text-align: right;\n",
              "    }\n",
              "</style>\n",
              "<table border=\"1\" class=\"dataframe\">\n",
              "  <thead>\n",
              "    <tr style=\"text-align: right;\">\n",
              "      <th></th>\n",
              "      <th>Age</th>\n",
              "      <th>Sex</th>\n",
              "      <th>ChestPainType</th>\n",
              "      <th>RestingBP</th>\n",
              "      <th>Cholesterol</th>\n",
              "      <th>FastingBS</th>\n",
              "      <th>RestingECG</th>\n",
              "      <th>MaxHR</th>\n",
              "      <th>ExerciseAngina</th>\n",
              "      <th>Oldpeak</th>\n",
              "      <th>ST_Slope</th>\n",
              "      <th>HeartDisease</th>\n",
              "    </tr>\n",
              "  </thead>\n",
              "  <tbody>\n",
              "    <tr>\n",
              "      <th>1</th>\n",
              "      <td>48</td>\n",
              "      <td>0</td>\n",
              "      <td>ASY</td>\n",
              "      <td>140</td>\n",
              "      <td>208</td>\n",
              "      <td>0</td>\n",
              "      <td>Normal</td>\n",
              "      <td>159</td>\n",
              "      <td>1</td>\n",
              "      <td>1.5</td>\n",
              "      <td>Up</td>\n",
              "      <td>1</td>\n",
              "    </tr>\n",
              "    <tr>\n",
              "      <th>2</th>\n",
              "      <td>64</td>\n",
              "      <td>1</td>\n",
              "      <td>ASY</td>\n",
              "      <td>142</td>\n",
              "      <td>276</td>\n",
              "      <td>0</td>\n",
              "      <td>Normal</td>\n",
              "      <td>140</td>\n",
              "      <td>1</td>\n",
              "      <td>1.0</td>\n",
              "      <td>Flat</td>\n",
              "      <td>1</td>\n",
              "    </tr>\n",
              "    <tr>\n",
              "      <th>3</th>\n",
              "      <td>40</td>\n",
              "      <td>0</td>\n",
              "      <td>ATA</td>\n",
              "      <td>130</td>\n",
              "      <td>275</td>\n",
              "      <td>0</td>\n",
              "      <td>Normal</td>\n",
              "      <td>150</td>\n",
              "      <td>0</td>\n",
              "      <td>0.0</td>\n",
              "      <td>Up</td>\n",
              "      <td>0</td>\n",
              "    </tr>\n",
              "    <tr>\n",
              "      <th>4</th>\n",
              "      <td>63</td>\n",
              "      <td>0</td>\n",
              "      <td>ASY</td>\n",
              "      <td>130</td>\n",
              "      <td>330</td>\n",
              "      <td>1</td>\n",
              "      <td>LVH</td>\n",
              "      <td>132</td>\n",
              "      <td>1</td>\n",
              "      <td>1.8</td>\n",
              "      <td>Up</td>\n",
              "      <td>1</td>\n",
              "    </tr>\n",
              "    <tr>\n",
              "      <th>6</th>\n",
              "      <td>60</td>\n",
              "      <td>1</td>\n",
              "      <td>NAP</td>\n",
              "      <td>102</td>\n",
              "      <td>318</td>\n",
              "      <td>0</td>\n",
              "      <td>Normal</td>\n",
              "      <td>160</td>\n",
              "      <td>0</td>\n",
              "      <td>0.0</td>\n",
              "      <td>Up</td>\n",
              "      <td>0</td>\n",
              "    </tr>\n",
              "  </tbody>\n",
              "</table>\n",
              "</div>\n",
              "      <button class=\"colab-df-convert\" onclick=\"convertToInteractive('df-bb57d53c-822e-4c37-b939-67018d35d535')\"\n",
              "              title=\"Convert this dataframe to an interactive table.\"\n",
              "              style=\"display:none;\">\n",
              "        \n",
              "  <svg xmlns=\"http://www.w3.org/2000/svg\" height=\"24px\"viewBox=\"0 0 24 24\"\n",
              "       width=\"24px\">\n",
              "    <path d=\"M0 0h24v24H0V0z\" fill=\"none\"/>\n",
              "    <path d=\"M18.56 5.44l.94 2.06.94-2.06 2.06-.94-2.06-.94-.94-2.06-.94 2.06-2.06.94zm-11 1L8.5 8.5l.94-2.06 2.06-.94-2.06-.94L8.5 2.5l-.94 2.06-2.06.94zm10 10l.94 2.06.94-2.06 2.06-.94-2.06-.94-.94-2.06-.94 2.06-2.06.94z\"/><path d=\"M17.41 7.96l-1.37-1.37c-.4-.4-.92-.59-1.43-.59-.52 0-1.04.2-1.43.59L10.3 9.45l-7.72 7.72c-.78.78-.78 2.05 0 2.83L4 21.41c.39.39.9.59 1.41.59.51 0 1.02-.2 1.41-.59l7.78-7.78 2.81-2.81c.8-.78.8-2.07 0-2.86zM5.41 20L4 18.59l7.72-7.72 1.47 1.35L5.41 20z\"/>\n",
              "  </svg>\n",
              "      </button>\n",
              "      \n",
              "  <style>\n",
              "    .colab-df-container {\n",
              "      display:flex;\n",
              "      flex-wrap:wrap;\n",
              "      gap: 12px;\n",
              "    }\n",
              "\n",
              "    .colab-df-convert {\n",
              "      background-color: #E8F0FE;\n",
              "      border: none;\n",
              "      border-radius: 50%;\n",
              "      cursor: pointer;\n",
              "      display: none;\n",
              "      fill: #1967D2;\n",
              "      height: 32px;\n",
              "      padding: 0 0 0 0;\n",
              "      width: 32px;\n",
              "    }\n",
              "\n",
              "    .colab-df-convert:hover {\n",
              "      background-color: #E2EBFA;\n",
              "      box-shadow: 0px 1px 2px rgba(60, 64, 67, 0.3), 0px 1px 3px 1px rgba(60, 64, 67, 0.15);\n",
              "      fill: #174EA6;\n",
              "    }\n",
              "\n",
              "    [theme=dark] .colab-df-convert {\n",
              "      background-color: #3B4455;\n",
              "      fill: #D2E3FC;\n",
              "    }\n",
              "\n",
              "    [theme=dark] .colab-df-convert:hover {\n",
              "      background-color: #434B5C;\n",
              "      box-shadow: 0px 1px 3px 1px rgba(0, 0, 0, 0.15);\n",
              "      filter: drop-shadow(0px 1px 2px rgba(0, 0, 0, 0.3));\n",
              "      fill: #FFFFFF;\n",
              "    }\n",
              "  </style>\n",
              "\n",
              "      <script>\n",
              "        const buttonEl =\n",
              "          document.querySelector('#df-bb57d53c-822e-4c37-b939-67018d35d535 button.colab-df-convert');\n",
              "        buttonEl.style.display =\n",
              "          google.colab.kernel.accessAllowed ? 'block' : 'none';\n",
              "\n",
              "        async function convertToInteractive(key) {\n",
              "          const element = document.querySelector('#df-bb57d53c-822e-4c37-b939-67018d35d535');\n",
              "          const dataTable =\n",
              "            await google.colab.kernel.invokeFunction('convertToInteractive',\n",
              "                                                     [key], {});\n",
              "          if (!dataTable) return;\n",
              "\n",
              "          const docLinkHtml = 'Like what you see? Visit the ' +\n",
              "            '<a target=\"_blank\" href=https://colab.research.google.com/notebooks/data_table.ipynb>data table notebook</a>'\n",
              "            + ' to learn more about interactive tables.';\n",
              "          element.innerHTML = '';\n",
              "          dataTable['output_type'] = 'display_data';\n",
              "          await google.colab.output.renderOutput(dataTable, element);\n",
              "          const docLink = document.createElement('div');\n",
              "          docLink.innerHTML = docLinkHtml;\n",
              "          element.appendChild(docLink);\n",
              "        }\n",
              "      </script>\n",
              "    </div>\n",
              "  </div>\n",
              "  "
            ]
          },
          "metadata": {},
          "execution_count": 24
        }
      ]
    },
    {
      "cell_type": "markdown",
      "source": [
        "### correlation 구하기\b\n",
        "각 변수 별 correlation을 구하기 위해 Sex와 ExerciseAngina 열의 타입을 변경하기"
      ],
      "metadata": {
        "id": "ZNfjq0AuTKlL"
      }
    },
    {
      "cell_type": "code",
      "source": [
        "data_clean.info()\n",
        "# Sex와 ExerciseAngina의 데이터 타입이 object\n",
        "# object -> int64로 타입 변환이 필요"
      ],
      "metadata": {
        "id": "cgbS6v1dTcTE",
        "colab": {
          "base_uri": "https://localhost:8080/"
        },
        "outputId": "5bda4f7f-f028-48b4-dcdc-b254e8a26eae"
      },
      "execution_count": 25,
      "outputs": [
        {
          "output_type": "stream",
          "name": "stdout",
          "text": [
            "<class 'pandas.core.frame.DataFrame'>\n",
            "Int64Index: 702 entries, 1 to 1189\n",
            "Data columns (total 12 columns):\n",
            " #   Column          Non-Null Count  Dtype  \n",
            "---  ------          --------------  -----  \n",
            " 0   Age             702 non-null    int64  \n",
            " 1   Sex             702 non-null    object \n",
            " 2   ChestPainType   702 non-null    object \n",
            " 3   RestingBP       702 non-null    int64  \n",
            " 4   Cholesterol     702 non-null    int64  \n",
            " 5   FastingBS       702 non-null    int64  \n",
            " 6   RestingECG      702 non-null    object \n",
            " 7   MaxHR           702 non-null    int64  \n",
            " 8   ExerciseAngina  702 non-null    object \n",
            " 9   Oldpeak         702 non-null    float64\n",
            " 10  ST_Slope        702 non-null    object \n",
            " 11  HeartDisease    702 non-null    int64  \n",
            "dtypes: float64(1), int64(6), object(5)\n",
            "memory usage: 71.3+ KB\n"
          ]
        }
      ]
    },
    {
      "cell_type": "code",
      "source": [
        "data_clean['Sex'] = data_clean['Sex'].astype('int64')\n",
        "data_clean['ExerciseAngina'] = data_clean['ExerciseAngina'].astype('int64')"
      ],
      "metadata": {
        "id": "Fax4OD6pTgDh"
      },
      "execution_count": 26,
      "outputs": []
    },
    {
      "cell_type": "code",
      "source": [
        "data_clean.info()"
      ],
      "metadata": {
        "id": "8ilJA27UUott",
        "colab": {
          "base_uri": "https://localhost:8080/"
        },
        "outputId": "b1df1bbc-b0d0-4627-944d-2c41c9034de3"
      },
      "execution_count": 27,
      "outputs": [
        {
          "output_type": "stream",
          "name": "stdout",
          "text": [
            "<class 'pandas.core.frame.DataFrame'>\n",
            "Int64Index: 702 entries, 1 to 1189\n",
            "Data columns (total 12 columns):\n",
            " #   Column          Non-Null Count  Dtype  \n",
            "---  ------          --------------  -----  \n",
            " 0   Age             702 non-null    int64  \n",
            " 1   Sex             702 non-null    int64  \n",
            " 2   ChestPainType   702 non-null    object \n",
            " 3   RestingBP       702 non-null    int64  \n",
            " 4   Cholesterol     702 non-null    int64  \n",
            " 5   FastingBS       702 non-null    int64  \n",
            " 6   RestingECG      702 non-null    object \n",
            " 7   MaxHR           702 non-null    int64  \n",
            " 8   ExerciseAngina  702 non-null    int64  \n",
            " 9   Oldpeak         702 non-null    float64\n",
            " 10  ST_Slope        702 non-null    object \n",
            " 11  HeartDisease    702 non-null    int64  \n",
            "dtypes: float64(1), int64(8), object(3)\n",
            "memory usage: 71.3+ KB\n"
          ]
        }
      ]
    },
    {
      "cell_type": "code",
      "source": [
        "# correlation matrix 계산하기\n",
        "corr = data_clean.corr()\n",
        "\n",
        "# 위 삼각형에대한 마스크 생성하기\n",
        "mask = np.triu(np.ones_like(corr, dtype=bool))\n",
        "\n",
        "# matplotlib figure 설정하기\n",
        "f, ax = plt.subplots(figsize=(11, 9))\n",
        "\n",
        "# colormap 설정하기\n",
        "cmap = sns.diverging_palette(230, 20, as_cmap=True)\n",
        "\n",
        "# heatmap 그리기\n",
        "sns.heatmap(corr, mask=mask, cmap=cmap, vmax=.3, center=0,\n",
        "            square=True, linewidths=.5, cbar_kws={\"shrink\": .5})\n"
      ],
      "metadata": {
        "id": "2oP1xqKTi29F",
        "colab": {
          "base_uri": "https://localhost:8080/",
          "height": 622
        },
        "outputId": "e8f6ff2d-f7f8-435e-8b0a-ab7e75a6be23"
      },
      "execution_count": 28,
      "outputs": [
        {
          "output_type": "execute_result",
          "data": {
            "text/plain": [
              "<matplotlib.axes._subplots.AxesSubplot at 0x7f0f66ccee10>"
            ]
          },
          "metadata": {},
          "execution_count": 28
        },
        {
          "output_type": "display_data",
          "data": {
            "text/plain": [
              "<Figure size 792x648 with 2 Axes>"
            ],
            "image/png": "[encoded data removed]"
          },
          "metadata": {
            "needs_background": "light"
          }
        }
      ]
    },
    {
      "cell_type": "markdown",
      "source": [
        "### 문제 4-3\n",
        "* 위의 Heat map에서 HeartDisease 열과 연관성이 높은 Age, RestingBP, FastingBS, ExerciseAngina, Oldpeak 열만을 추출하여 data_final DataFrame을 만드세요. \n",
        "* HeartDisease 열도 data_final에 포함됩니다. \n",
        "* data_final.head()의 결과를 보고서에 업로드하세요."
      ],
      "metadata": {
        "id": "2wqvQ1O4VqJf"
      }
    },
    {
      "cell_type": "code",
      "source": [
        "data_final = data_clean[['Age', 'RestingBP', 'FastingBS', 'ExerciseAngina', 'Oldpeak', 'HeartDisease']]\n",
        "data_final.head()"
      ],
      "metadata": {
        "id": "ZJ4bFUyVWcaO",
        "colab": {
          "base_uri": "https://localhost:8080/",
          "height": 206
        },
        "outputId": "59a07db1-d1ae-4e46-ba21-151005c58250"
      },
      "execution_count": 29,
      "outputs": [
        {
          "output_type": "execute_result",
          "data": {
            "text/plain": [
              "   Age  RestingBP  FastingBS  ExerciseAngina  Oldpeak  HeartDisease\n",
              "1   48        140          0               1      1.5             1\n",
              "2   64        142          0               1      1.0             1\n",
              "3   40        130          0               0      0.0             0\n",
              "4   63        130          1               1      1.8             1\n",
              "6   60        102          0               0      0.0             0"
            ],
            "text/html": [
              "\n",
              "  <div id=\"df-a407fa3d-a65e-42d3-86d5-cc61db3ce01a\">\n",
              "    <div class=\"colab-df-container\">\n",
              "      <div>\n",
              "<style scoped>\n",
              "    .dataframe tbody tr th:only-of-type {\n",
              "        vertical-align: middle;\n",
              "    }\n",
              "\n",
              "    .dataframe tbody tr th {\n",
              "        vertical-align: top;\n",
              "    }\n",
              "\n",
              "    .dataframe thead th {\n",
              "        text-align: right;\n",
              "    }\n",
              "</style>\n",
              "<table border=\"1\" class=\"dataframe\">\n",
              "  <thead>\n",
              "    <tr style=\"text-align: right;\">\n",
              "      <th></th>\n",
              "      <th>Age</th>\n",
              "      <th>RestingBP</th>\n",
              "      <th>FastingBS</th>\n",
              "      <th>ExerciseAngina</th>\n",
              "      <th>Oldpeak</th>\n",
              "      <th>HeartDisease</th>\n",
              "    </tr>\n",
              "  </thead>\n",
              "  <tbody>\n",
              "    <tr>\n",
              "      <th>1</th>\n",
              "      <td>48</td>\n",
              "      <td>140</td>\n",
              "      <td>0</td>\n",
              "      <td>1</td>\n",
              "      <td>1.5</td>\n",
              "      <td>1</td>\n",
              "    </tr>\n",
              "    <tr>\n",
              "      <th>2</th>\n",
              "      <td>64</td>\n",
              "      <td>142</td>\n",
              "      <td>0</td>\n",
              "      <td>1</td>\n",
              "      <td>1.0</td>\n",
              "      <td>1</td>\n",
              "    </tr>\n",
              "    <tr>\n",
              "      <th>3</th>\n",
              "      <td>40</td>\n",
              "      <td>130</td>\n",
              "      <td>0</td>\n",
              "      <td>0</td>\n",
              "      <td>0.0</td>\n",
              "      <td>0</td>\n",
              "    </tr>\n",
              "    <tr>\n",
              "      <th>4</th>\n",
              "      <td>63</td>\n",
              "      <td>130</td>\n",
              "      <td>1</td>\n",
              "      <td>1</td>\n",
              "      <td>1.8</td>\n",
              "      <td>1</td>\n",
              "    </tr>\n",
              "    <tr>\n",
              "      <th>6</th>\n",
              "      <td>60</td>\n",
              "      <td>102</td>\n",
              "      <td>0</td>\n",
              "      <td>0</td>\n",
              "      <td>0.0</td>\n",
              "      <td>0</td>\n",
              "    </tr>\n",
              "  </tbody>\n",
              "</table>\n",
              "</div>\n",
              "      <button class=\"colab-df-convert\" onclick=\"convertToInteractive('df-a407fa3d-a65e-42d3-86d5-cc61db3ce01a')\"\n",
              "              title=\"Convert this dataframe to an interactive table.\"\n",
              "              style=\"display:none;\">\n",
              "        \n",
              "  <svg xmlns=\"http://www.w3.org/2000/svg\" height=\"24px\"viewBox=\"0 0 24 24\"\n",
              "       width=\"24px\">\n",
              "    <path d=\"M0 0h24v24H0V0z\" fill=\"none\"/>\n",
              "    <path d=\"M18.56 5.44l.94 2.06.94-2.06 2.06-.94-2.06-.94-.94-2.06-.94 2.06-2.06.94zm-11 1L8.5 8.5l.94-2.06 2.06-.94-2.06-.94L8.5 2.5l-.94 2.06-2.06.94zm10 10l.94 2.06.94-2.06 2.06-.94-2.06-.94-.94-2.06-.94 2.06-2.06.94z\"/><path d=\"M17.41 7.96l-1.37-1.37c-.4-.4-.92-.59-1.43-.59-.52 0-1.04.2-1.43.59L10.3 9.45l-7.72 7.72c-.78.78-.78 2.05 0 2.83L4 21.41c.39.39.9.59 1.41.59.51 0 1.02-.2 1.41-.59l7.78-7.78 2.81-2.81c.8-.78.8-2.07 0-2.86zM5.41 20L4 18.59l7.72-7.72 1.47 1.35L5.41 20z\"/>\n",
              "  </svg>\n",
              "      </button>\n",
              "      \n",
              "  <style>\n",
              "    .colab-df-container {\n",
              "      display:flex;\n",
              "      flex-wrap:wrap;\n",
              "      gap: 12px;\n",
              "    }\n",
              "\n",
              "    .colab-df-convert {\n",
              "      background-color: #E8F0FE;\n",
              "      border: none;\n",
              "      border-radius: 50%;\n",
              "      cursor: pointer;\n",
              "      display: none;\n",
              "      fill: #1967D2;\n",
              "      height: 32px;\n",
              "      padding: 0 0 0 0;\n",
              "      width: 32px;\n",
              "    }\n",
              "\n",
              "    .colab-df-convert:hover {\n",
              "      background-color: #E2EBFA;\n",
              "      box-shadow: 0px 1px 2px rgba(60, 64, 67, 0.3), 0px 1px 3px 1px rgba(60, 64, 67, 0.15);\n",
              "      fill: #174EA6;\n",
              "    }\n",
              "\n",
              "    [theme=dark] .colab-df-convert {\n",
              "      background-color: #3B4455;\n",
              "      fill: #D2E3FC;\n",
              "    }\n",
              "\n",
              "    [theme=dark] .colab-df-convert:hover {\n",
              "      background-color: #434B5C;\n",
              "      box-shadow: 0px 1px 3px 1px rgba(0, 0, 0, 0.15);\n",
              "      filter: drop-shadow(0px 1px 2px rgba(0, 0, 0, 0.3));\n",
              "      fill: #FFFFFF;\n",
              "    }\n",
              "  </style>\n",
              "\n",
              "      <script>\n",
              "        const buttonEl =\n",
              "          document.querySelector('#df-a407fa3d-a65e-42d3-86d5-cc61db3ce01a button.colab-df-convert');\n",
              "        buttonEl.style.display =\n",
              "          google.colab.kernel.accessAllowed ? 'block' : 'none';\n",
              "\n",
              "        async function convertToInteractive(key) {\n",
              "          const element = document.querySelector('#df-a407fa3d-a65e-42d3-86d5-cc61db3ce01a');\n",
              "          const dataTable =\n",
              "            await google.colab.kernel.invokeFunction('convertToInteractive',\n",
              "                                                     [key], {});\n",
              "          if (!dataTable) return;\n",
              "\n",
              "          const docLinkHtml = 'Like what you see? Visit the ' +\n",
              "            '<a target=\"_blank\" href=https://colab.research.google.com/notebooks/data_table.ipynb>data table notebook</a>'\n",
              "            + ' to learn more about interactive tables.';\n",
              "          element.innerHTML = '';\n",
              "          dataTable['output_type'] = 'display_data';\n",
              "          await google.colab.output.renderOutput(dataTable, element);\n",
              "          const docLink = document.createElement('div');\n",
              "          docLink.innerHTML = docLinkHtml;\n",
              "          element.appendChild(docLink);\n",
              "        }\n",
              "      </script>\n",
              "    </div>\n",
              "  </div>\n",
              "  "
            ]
          },
          "metadata": {},
          "execution_count": 29
        }
      ]
    },
    {
      "cell_type": "markdown",
      "source": [
        "## 문제 5\n",
        "* KNN 이해하기"
      ],
      "metadata": {
        "id": "9-0PHnCAW8AI"
      }
    },
    {
      "cell_type": "markdown",
      "source": [
        "### train과 test set 나누기"
      ],
      "metadata": {
        "id": "KQXK4myfW9_a"
      }
    },
    {
      "cell_type": "code",
      "source": [
        "# train과 test set을 나누기 위한 함수\n",
        "from sklearn.model_selection import train_test_split"
      ],
      "metadata": {
        "id": "9Z5dw2qqv8GK"
      },
      "execution_count": 30,
      "outputs": []
    },
    {
      "cell_type": "code",
      "source": [
        "# 아래 결과는 최초 data를 upload했을 때의 사이즈입니다.\n",
        "data_final.shape"
      ],
      "metadata": {
        "id": "7icGoHBpv9Uj",
        "colab": {
          "base_uri": "https://localhost:8080/"
        },
        "outputId": "641b11cb-dd06-4da2-9b83-a988a59ef394"
      },
      "execution_count": 31,
      "outputs": [
        {
          "output_type": "execute_result",
          "data": {
            "text/plain": [
              "(702, 6)"
            ]
          },
          "metadata": {},
          "execution_count": 31
        }
      ]
    },
    {
      "cell_type": "code",
      "source": [
        "# 변수들과 label로 활용할 것을 나누는 작업\n",
        "X = data_final.drop(['HeartDisease'], axis=1)\n",
        "y = data_final['HeartDisease']"
      ],
      "metadata": {
        "id": "QpRv8kHMw4i3"
      },
      "execution_count": 32,
      "outputs": []
    },
    {
      "cell_type": "code",
      "source": [
        "# used random_state\n",
        "X_train, X_test, y_train, y_test = train_test_split(X, y, test_size=0.2, random_state=15)"
      ],
      "metadata": {
        "id": "jkzVBJY_xMII"
      },
      "execution_count": 33,
      "outputs": []
    },
    {
      "cell_type": "code",
      "source": [
        "# 아래 결과는 최초 data를 upload했을 때의 사이즈입니다.\n",
        "print(\"X_train's shape : \", X_train.shape)\n",
        "print(\"X_test's shape : \", X_test.shape)\n",
        "print(\"y_train's shape : \", y_train.shape)\n",
        "print(\"y_test's shape : \", y_test.shape)\n",
        "X_train.reset_index(drop=True, inplace=True)\n",
        "X_test.reset_index(drop=True, inplace=True)\n",
        "y_train.reset_index(drop=True, inplace=True)\n",
        "y_test.reset_index(drop=True, inplace=True)"
      ],
      "metadata": {
        "id": "3ka7hJztxO2Y",
        "colab": {
          "base_uri": "https://localhost:8080/"
        },
        "outputId": "9d570c70-41d6-4377-f780-fae15c3b582b"
      },
      "execution_count": 34,
      "outputs": [
        {
          "output_type": "stream",
          "name": "stdout",
          "text": [
            "X_train's shape :  (561, 5)\n",
            "X_test's shape :  (141, 5)\n",
            "y_train's shape :  (561,)\n",
            "y_test's shape :  (141,)\n"
          ]
        }
      ]
    },
    {
      "cell_type": "markdown",
      "source": [
        "### 문제 5-1, 5-2, 5-3\n",
        "\n",
        "* 주어진 class Knn을 완성하여 test accuracy가 **0.65 이상**이 나오도록 코드를 완성하세요.\n"
      ],
      "metadata": {
        "id": "GWu1MXYR0uk0"
      }
    },
    {
      "cell_type": "markdown",
      "source": [
        "### 문제 5-1\n",
        "* for문을 **한 번만 사용하여** 두 데이터 사이의 Euclidean Distance를 구하는 dist() 함수를 완성하세요.\n",
        "* 작성한 코드를 캡처하여 보고서에 업로드하세요.\n",
        "* 힌트) numpy 에 있는 함수를 사용하세요.\n"
      ],
      "metadata": {
        "id": "Wp7q6xjF_I60"
      }
    },
    {
      "cell_type": "markdown",
      "source": [
        "### 문제 5-2\n",
        "* predict() 함수의 빈 칸을 구현하세요.\n",
        "* 작성한 코드를 캡처하여 보고서에 업로드하세요.\n",
        "* 힌트) distance는 dictionary 입니다."
      ],
      "metadata": {
        "id": "iw7WUEsd4v6H"
      }
    },
    {
      "cell_type": "markdown",
      "source": [
        "### 문제 5-3\n",
        "* vote() 함수의 빈 칸을 구현하세요.\n",
        "* 작성한 코드를 캡처하여 보고서에 업로드하세요."
      ],
      "metadata": {
        "id": "jaZBrR3I5h4Y"
      }
    },
    {
      "cell_type": "code",
      "source": [
        "import tqdm"
      ],
      "metadata": {
        "id": "HERopBDHv24c"
      },
      "execution_count": 35,
      "outputs": []
    },
    {
      "cell_type": "code",
      "source": [
        "class Knn():\n",
        "    \n",
        "    def __init__(self, n_neighbors): \n",
        "        \n",
        "        ## 생성자로 최근접 이웃수(n_neighbors)를 입력 받습니다.\n",
        "        self.k = n_neighbors    \n",
        "    \n",
        "        ## knn 은 lazy learning 입니다.\n",
        "    def fit(self,X,y):\n",
        "        self.X = X\n",
        "        self.y = y\n",
        "        \n",
        "    def predict(self, test) : \n",
        "        y_pred = []\n",
        "        for i in tqdm.tqdm(range(test.shape[0])):\n",
        "\n",
        "            ## distance는 dictionary\n",
        "            ## dist() 구현 => 문제 5-1\n",
        "            distance = self.dist(self.X, test.loc[i]) \n",
        "            ################  문제 5-2  ####################\n",
        "            # 소스코드를 입력하고 캡처 후 보고서에 업로드하세요.\n",
        "            # 코드 시작과 코드 끝 라인을 삭제하지 마세요.\n",
        "            ################ 코드 시작  #####################\n",
        "            labels=[] # labels는 list(dictionary가 들어갈것이다.)\n",
        "            sorted_distance= sorted(distance.items(), key=lambda x: x[1]) # dist가 낮은 순으로 정렬(x상에서 0은 index, 1은 dist)\n",
        "            for j in range(self.k): # k 갯수만큼의 dist가 있을 것임.\n",
        "              labels.append(sorted_distance[j]) # labels list에 정렬된 dist를 순서대로 추가.\n",
        "\n",
        "            ################ 코드 끝  #######################\n",
        "            ###############################################\n",
        "            \n",
        "\n",
        "            ## labels: k개의 label을 모은 리스트\n",
        "            ## selected: vote()를 통해 예측한 label 값\n",
        "            ## vote() 구현 => 문제 5-3\n",
        "            selected = self.vote(labels) \n",
        "   \n",
        "            y_pred.append(selected)\n",
        "            \n",
        "\n",
        "\n",
        "        return y_pred ## 모든 비교가 끝나면 예측된 값이 저장된 y_pred 리스트를 반환합니다.\n",
        "        \n",
        "\n",
        "    ## dist: 거리를 계산하는 함수 \n",
        "    def dist(self, X, y) :\n",
        "\n",
        "        num_train = X.shape[0]\n",
        "        dist_dict = {} ## {index : distance} 형태\n",
        "\n",
        "        \n",
        "        for i in range(num_train):\n",
        "        \n",
        "        ################  문제 5-1  ####################\n",
        "        # 소스코드를 입력하고 캡처 후 보고서에 업로드하세요.\n",
        "        # 코드 시작과 코드 끝 라인을 삭제하지 마세요.\n",
        "        ################ 코드 시작  #####################\n",
        "          dist_dict[i] = np.linalg.norm(X.loc[i] - y) # X의 i row와 y의 Euclidean dist를 구하여 dictionary에 추가.\n",
        "        ################ 코드 끝  ######################\n",
        "        ##############################################\n",
        "\n",
        "        return dist_dict ## dictionary\n",
        "\n",
        "\n",
        "    ## vote: test 데이터의 label을 선택하는 함수\n",
        "    def vote(self, labels):\n",
        "      ## labels: k개의 label을 담고 있는 리스트\n",
        "      selected = 0\n",
        "\n",
        "      ################  문제 5-3  ####################\n",
        "      # 소스코드를 입력하고 캡처 후 보고서에 업로드하세요.\n",
        "      # 코드 시작과 코드 끝 라인을 삭제하지 마세요.\n",
        "      ################ 코드 시작  #####################\n",
        "      zero = 0 # heartdisease가 0인 갯수\n",
        "      one = 0 # heartdisease가 1인 갯수\n",
        "      for label in labels: # labels 갯수만큼 반복\n",
        "        if self.y[label[0]] == 0: # label 인덱스가 가리키는 y_train(heartdisease)이 0이라면\n",
        "          zero += 1 # zero를 1 더함.\n",
        "        elif self.y[label[0]] == 1: # label 인덱스가 가리키는 y_train(heartdisease)이 1이라면\n",
        "          one += 1 # one을 1 더함.\n",
        "\n",
        "      if zero > one: # 0이 더많으면\n",
        "        selected = 0 # selected는 0\n",
        "      else: # 1이 더많으면\n",
        "        selected = 1 # selected는 1\n",
        "\n",
        "      ################ 코드 끝  ######################\n",
        "      ##############################################\n",
        "\n",
        "      return selected"
      ],
      "metadata": {
        "id": "mjEbwsJxvzxF"
      },
      "execution_count": 36,
      "outputs": []
    },
    {
      "cell_type": "code",
      "source": [
        "from sklearn.metrics import accuracy_score\n",
        "\n",
        "# 아래는 test accuracy를 계산하는 코드입니다.\n",
        "# 아래 코드를 실행시켜 그 결과를 캡처 후 보고서에 업로드하세요\n",
        "\n",
        "# 아래 숫자는 변경하셔도 상관 없습니다.\n",
        "classifier = Knn(3)\n",
        "classifier.fit(X_train, y_train)\n",
        "\n",
        "# test set에 대해 predict를 진행합니다.\n",
        "result = classifier.predict(X_test)\n",
        "\n",
        "# 실제 label과 예측한 label의 score를 계산합니다.\n",
        "accuracy_score(y_test, result)"
      ],
      "metadata": {
        "id": "NmmLxpj7xYDE",
        "colab": {
          "base_uri": "https://localhost:8080/"
        },
        "outputId": "93ece8c7-3056-4ed4-cfb9-bcc1d259a024"
      },
      "execution_count": 37,
      "outputs": [
        {
          "output_type": "stream",
          "name": "stderr",
          "text": [
            "100%|██████████| 141/141 [00:28<00:00,  5.02it/s]\n"
          ]
        },
        {
          "output_type": "execute_result",
          "data": {
            "text/plain": [
              "0.6524822695035462"
            ]
          },
          "metadata": {},
          "execution_count": 37
        }
      ]
    },
    {
      "cell_type": "markdown",
      "source": [
        "### 문제 5-4\n",
        "* 완성한 Knn을 사용하여 K 값에 따라 변화하는 train accuracy, test accuracy를 그래프로 그리세요.\n",
        "* 소스코드와 그래프를 **함께** 캡처하여 보고서에 업로드하세요."
      ],
      "metadata": {
        "id": "eT4QWs54ACwe"
      }
    },
    {
      "cell_type": "code",
      "source": [
        "K = [1, 3, 5, 10, 50, 100, 500]\n",
        "train_acc = []\n",
        "test_acc = []\n",
        "\n",
        "################  문제 5-4  ####################\n",
        "# 소스코드를 입력하고 캡처 후 보고서에 업로드하세요.\n",
        "# 코드 시작과 코드 끝 라인을 삭제하지 마세요.\n",
        "################ 코드 시작  #####################\n",
        "\n",
        "for k in K: # K 순회\n",
        "  classifier = Knn(k) # k값에 따른 classifier 생성\n",
        "  classifier.fit(X_train, y_train) # Knn Class self 설정\n",
        "  \n",
        "  result_X_train = classifier.predict(X_train) # train set에 대해 predict 진행\n",
        "  result_X_test = classifier.predict(X_test) # test set에 대해 predict 진행\n",
        "\n",
        "  train_acc.append(accuracy_score(y_train, result_X_train)) # train set의 실제 label과 예측한 label의 score를 계산한 후 train_acc에 추가.\n",
        "  test_acc.append(accuracy_score(y_test, result_X_test)) # test set의 실제 label과 예측한 label의 score를 계산한 후 test_acc에 추가.\n",
        "\n",
        "################ 코드 끝  ######################\n",
        "# x축을 K값, y축을 정확도로하여 K에 대한 train, test의 정확도에 대한 그래프 생성\n",
        "plt.figure()\n",
        "plt.plot(K, train_acc, label='train accuracy')\n",
        "plt.plot(K, test_acc, label='test accuracy')\n",
        "plt.xlabel('K')\n",
        "plt.ylabel('accuracy')"
      ],
      "metadata": {
        "id": "VJh94PKvAaZA",
        "colab": {
          "base_uri": "https://localhost:8080/",
          "height": 547
        },
        "outputId": "686ede52-1d53-49b7-f951-4ce80f87250c"
      },
      "execution_count": 38,
      "outputs": [
        {
          "output_type": "stream",
          "name": "stderr",
          "text": [
            "100%|██████████| 561/561 [01:47<00:00,  5.24it/s]\n",
            "100%|██████████| 141/141 [00:26<00:00,  5.36it/s]\n",
            "100%|██████████| 561/561 [01:46<00:00,  5.28it/s]\n",
            "100%|██████████| 141/141 [00:26<00:00,  5.35it/s]\n",
            "100%|██████████| 561/561 [01:45<00:00,  5.30it/s]\n",
            "100%|██████████| 141/141 [00:26<00:00,  5.29it/s]\n",
            "100%|██████████| 561/561 [01:45<00:00,  5.31it/s]\n",
            "100%|██████████| 141/141 [00:26<00:00,  5.35it/s]\n",
            "100%|██████████| 561/561 [01:45<00:00,  5.31it/s]\n",
            "100%|██████████| 141/141 [00:26<00:00,  5.25it/s]\n",
            "100%|██████████| 561/561 [01:47<00:00,  5.23it/s]\n",
            "100%|██████████| 141/141 [00:27<00:00,  5.18it/s]\n",
            "100%|██████████| 561/561 [01:48<00:00,  5.18it/s]\n",
            "100%|██████████| 141/141 [00:27<00:00,  5.15it/s]\n"
          ]
        },
        {
          "output_type": "execute_result",
          "data": {
            "text/plain": [
              "Text(0, 0.5, 'accuracy')"
            ]
          },
          "metadata": {},
          "execution_count": 38
        },
        {
          "output_type": "display_data",
          "data": {
            "text/plain": [
              "<Figure size 432x288 with 1 Axes>"
            ],
            "image/png": "[encoded data removed]"
          },
          "metadata": {
            "needs_background": "light"
          }
        }
      ]
    },
    {
      "cell_type": "markdown",
      "source": [
        "### 문제 5-5\n",
        "* Knn classifer의 정확도를 0.75 이상으로 개선하는 방법에 대해 고민해보세요.\n",
        "* 패키지 사용 가능합니다.\n",
        "* 힌트) HeartDisease 데이터의 0과 1의 비율에 대해서 생각해보세요. \n",
        "* 아래 코드를 실행시켜 그 결과를 캡처 후 보고서에 업로드하세요."
      ],
      "metadata": {
        "id": "SEZAjUjRGQxk"
      }
    },
    {
      "cell_type": "code",
      "source": [
        "# 코드 개선\n",
        "\n",
        "from sklearn.preprocessing import MinMaxScaler # MinMaxScaler 사용을 위한 import\n",
        "\n",
        "X_train, X_test, y_train, y_test = train_test_split(X, y, test_size=0.2, stratify=y, random_state=15) # y(heartdisease)의 비율을 맞추면서 seed 값 고정\n",
        "\n",
        "scaler = MinMaxScaler() # scaler에 MinMaxScaler 사용 준비\n",
        "\n",
        "features=[['Age', 'RestingBP', 'FastingBS', 'ExerciseAngina', 'Oldpeak']] # train할 feature들을 미리 준비\n",
        "\n",
        "for feature in features: # 각 feature별로 MinMaxScaler를 적용한다. (train data는 fit -> transform)\n",
        "    X_train[feature] = scaler.fit_transform(X_train[feature])\n",
        "for feature in features: # 각 feature별로 MinMaxScaler를 적용한다. (test data는 transform)\n",
        "    X_test[feature] = scaler.transform(X_test[feature])\n",
        "\n",
        "X_train.reset_index(drop=True, inplace=True) # index reset\n",
        "X_test.reset_index(drop=True, inplace=True)\n",
        "y_train.reset_index(drop=True, inplace=True)\n",
        "y_test.reset_index(drop=True, inplace=True)"
      ],
      "metadata": {
        "id": "maykxF5GV7zd"
      },
      "execution_count": 39,
      "outputs": []
    },
    {
      "cell_type": "code",
      "source": [
        "from sklearn.metrics import accuracy_score\n",
        "\n",
        "# 아래는 test accuracy를 계산하는 코드입니다.\n",
        "# 아래 코드를 실행시켜 그 결과를 캡처 후 보고서에 업로드하세요\n",
        "\n",
        "# 아래 숫자는 변경하셔도 상관 없습니다.\n",
        "classifier = Knn(3)\n",
        "classifier.fit(X_train, y_train)\n",
        "\n",
        "# test set에 대해 predict를 진행합니다.\n",
        "result = classifier.predict(X_test)\n",
        "\n",
        "# 실제 label과 예측한 label의 score를 계산합니다.\n",
        "accuracy_score(y_test, result)"
      ],
      "metadata": {
        "id": "6x64OdjjGYWE",
        "colab": {
          "base_uri": "https://localhost:8080/"
        },
        "outputId": "bb2c846d-d6da-4938-bdc6-d0a0e6cf2293"
      },
      "execution_count": 40,
      "outputs": [
        {
          "output_type": "stream",
          "name": "stderr",
          "text": [
            "100%|██████████| 141/141 [00:20<00:00,  6.86it/s]\n"
          ]
        },
        {
          "output_type": "execute_result",
          "data": {
            "text/plain": [
              "0.7872340425531915"
            ]
          },
          "metadata": {},
          "execution_count": 40
        }
      ]
    }
  ]
}