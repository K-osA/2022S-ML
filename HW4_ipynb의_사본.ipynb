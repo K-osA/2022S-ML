{
  "nbformat": 4,
  "nbformat_minor": 0,
  "metadata": {
    "colab": {
      "name": "HW4.ipynb의 사본",
      "provenance": [],
      "collapsed_sections": [],
      "include_colab_link": true
    },
    "kernelspec": {
      "name": "python3",
      "display_name": "Python 3"
    },
    "language_info": {
      "name": "python"
    }
  },
  "cells": [
    {
      "cell_type": "markdown",
      "metadata": {
        "id": "view-in-github",
        "colab_type": "text"
      },
      "source": [
        "<a href=\"https://colab.research.google.com/github/K-osA/2022S-ML/blob/main/HW4_ipynb%EC%9D%98_%EC%82%AC%EB%B3%B8.ipynb\" target=\"_parent\"><img src=\"https://colab.research.google.com/assets/colab-badge.svg\" alt=\"Open In Colab\"/></a>"
      ]
    },
    {
      "cell_type": "markdown",
      "source": [
        "# **HW4 :: DNN**\n",
        "## 과제 목표\n",
        "* 간단한 Three Layer Network를 구현하기\n",
        "* Pytorch를 사용하여 DNN 구현 후 학습과 테스트하기\n",
        "  \n",
        "  \n",
        "   \n",
        "\n"
      ],
      "metadata": {
        "id": "EXvAS7OZkg_M"
      }
    },
    {
      "cell_type": "markdown",
      "source": [
        "⭐  이번 과제는 bb에 코랩 링크, ipynb 파일만 업로드합니다(HW3와 동일하게).   \n",
        "⭐  작성한 코드에 **간단한 주석을 반드시 달아주세요**!  \n",
        "⭐  코딩할 부분을 제외하고는 수정하지 마세요. 수정 시 감점입니다."
      ],
      "metadata": {
        "id": "k5IhqPYwmnUv"
      }
    },
    {
      "cell_type": "markdown",
      "source": [
        "## **문제 1 - Three Layer Network**\n",
        "```class Sigmoid```와 ```Affine```을 구현한 후 이 두 class를 사용하여 ```class ThreeLayerNet```를 완성하세요. \n",
        "* 코드 참고 : deep learning from scratch"
      ],
      "metadata": {
        "id": "OKfJ8-LiFOr8"
      }
    },
    {
      "cell_type": "markdown",
      "source": [
        "### 문제 1-1\n",
        "class sigmoid의 forward 함수를 구현하세요.  \n",
        "힌트) sigmoid 함수 식"
      ],
      "metadata": {
        "id": "FrrWMAJx6FUC"
      }
    },
    {
      "cell_type": "code",
      "execution_count": 42,
      "metadata": {
        "id": "QSI6QIBkCPWP"
      },
      "outputs": [],
      "source": [
        "import numpy as np\n",
        "\n",
        "\n",
        "class Sigmoid:\n",
        "    def __init__(self):\n",
        "        self.params = []\n",
        "\n",
        "    def forward(self, x):\n",
        "\n",
        "      #############################################\n",
        "      ################### 문제 1-1 #################\n",
        "      ############# sigmoid forward 구현 ###########\n",
        "      #############################################\n",
        "        # 한 줄로 구현\n",
        "        result = 1 / ( 1 + np.exp(-x)) # sigmoid 함수 식 사용\n",
        "      #############################################\n",
        "      \n",
        "        return result\n"
      ]
    },
    {
      "cell_type": "markdown",
      "source": [
        "### 문제 1-2\n",
        "class Affine의 forward 함수를 구현하세요.  \n",
        "힌트) affine 함수 식"
      ],
      "metadata": {
        "id": "1YcAkmtN6UXK"
      }
    },
    {
      "cell_type": "code",
      "source": [
        "class Affine: # Affine은 Fully Connect를 의미합니다\n",
        "    def __init__(self, W, b):\n",
        "        self.params = [W, b]\n",
        "\n",
        "    def forward(self, x):\n",
        "      \n",
        "      #############################################\n",
        "      ################### 문제 1-2 #################\n",
        "      ############# affine forward 구현 ############\n",
        "      #############################################\n",
        "        # 코드 작성\n",
        "        out = np.dot(x, self.params[0]) + self.params[1] # W와 x를 행렬곱하고 b를 더한 것\n",
        "      #############################################\n",
        "      \n",
        "        return out\n"
      ],
      "metadata": {
        "id": "Ds05drVvG5O_"
      },
      "execution_count": 43,
      "outputs": []
    },
    {
      "cell_type": "markdown",
      "source": [
        "### 문제 1-3\n",
        "\n",
        "  각 layer의 parameter를 ```np.random.randn()``` 를 사용하여 초기화하세요.  \n",
        "  * 조건) ```class ThreeLayerNet```은 총 3개의 fully connected layer로 구성됩니다.\n",
        "  * 힌트) 차원을 잘 고려하세요. \n"
      ],
      "metadata": {
        "id": "aX3vaESK6jp_"
      }
    },
    {
      "cell_type": "markdown",
      "source": [
        "### 문제 1-4\n",
        "  문제1-1, 2에서 구현한 class를 사용하여 ThreeLayerNet의 layer를 구성하세요.\n",
        "  * 조건) ```class ThreeLayerNet```은 총 3개의 fully connected layer로 구성됩니다.\n",
        "  * 힌트) 차원을 잘 고려하세요."
      ],
      "metadata": {
        "id": "qoPlnkHg_18J"
      }
    },
    {
      "cell_type": "code",
      "source": [
        "class ThreeLayerNet:\n",
        "    def __init__(self, input_size, first_hidden_size, second_hidden_size, output_size):\n",
        "        I, H_1, H_2,O = input_size, first_hidden_size, second_hidden_size, output_size\n",
        "\n",
        "      #############################################\n",
        "      ################### 문제 1-3 #################\n",
        "      ######### parameter initialization ##########\n",
        "      #############################################\n",
        "        # 코드 작성\n",
        "\n",
        "        # Weight와 bias를 np.random.randn을 사용하여 임의의 값으로 초기화함.\n",
        "        # 각 size 만큼의 임의의 값이 나옴.\n",
        "        W1 = np.random.randn(I, H_1)\n",
        "        b1 = np.random.randn(H_1)\n",
        "        W2 = np.random.randn(H_1, H_2)\n",
        "        b2 = np.random.randn(H_2)\n",
        "        W3 = np.random.randn(H_2, O)\n",
        "        b3 = np.random.randn(O)\n",
        "      #########################################\n",
        "        \n",
        "\n",
        "        self.layers = [\n",
        "        #############################################\n",
        "        ################### 문제 1-4 #################\n",
        "        ############### stack layers ################\n",
        "        #############################################          \n",
        "            # 코드 작성\n",
        "            # 임의의 값으로 초기화한 Weight와 bias들을 순서대로 layer 쌓기함.\n",
        "            # 각 Affine 사이에는 sigmoid activation function을 쌓음.\n",
        "            Affine(W1, b1),\n",
        "            Sigmoid(),\n",
        "            Affine(W2, b2),\n",
        "            Sigmoid(),\n",
        "            Affine(W3, b3)\n",
        "        #############################################    \n",
        "        ]\n",
        "\n",
        "        # 모든 weight 를 담은 리스트 생성\n",
        "        self.params = []\n",
        "        for layer in self.layers:\n",
        "            self.params += layer.params\n",
        "\n",
        "    def predict(self, x):\n",
        "        for layer in self.layers:\n",
        "            x = layer.forward(x)\n",
        "        return x"
      ],
      "metadata": {
        "id": "VmHw4K5DG3uv"
      },
      "execution_count": 44,
      "outputs": []
    },
    {
      "cell_type": "code",
      "source": [
        "# dummy data로 모델 실행해보기\n",
        "x = np.random.randn(784, 100)\n",
        "model = ThreeLayerNet(100, 50, 30, 10)\n",
        "s = model.predict(x)\n",
        "print(s)"
      ],
      "metadata": {
        "id": "SNI0xGraFAAt",
        "colab": {
          "base_uri": "https://localhost:8080/"
        },
        "outputId": "3892a7a5-eb85-44fd-f22f-e147077826e2"
      },
      "execution_count": 45,
      "outputs": [
        {
          "output_type": "stream",
          "name": "stdout",
          "text": [
            "[[-4.02741191  5.01126716  1.39342663 ...  0.52234511 -1.16723397\n",
            "   1.32095517]\n",
            " [-0.27383448  1.30966786  2.35756527 ... -2.61740502  1.70704302\n",
            "   6.76596783]\n",
            " [-1.50695557  3.06456912  4.85926306 ... -0.89517906  1.32021729\n",
            "   1.17948504]\n",
            " ...\n",
            " [-0.69909084  5.41265144  2.59607294 ... -5.08973427  1.49334975\n",
            "   6.00029458]\n",
            " [-0.44705119  3.93935546  4.5263052  ... -0.7429695   3.06631527\n",
            "   5.63307327]\n",
            " [-3.19451014  3.03714221  5.0536621  ... -0.94235929  1.22548654\n",
            "   3.92981504]]\n"
          ]
        }
      ]
    },
    {
      "cell_type": "markdown",
      "source": [
        "\n",
        "\n",
        "---\n",
        "\n"
      ],
      "metadata": {
        "id": "FtZZAx7vovt4"
      }
    },
    {
      "cell_type": "markdown",
      "source": [
        "## 문제 2 - Implementing DNN using Pytorch\n",
        "문제 1에서는 Pytorch를 사용하지 않고 DNN을 구현해보았습니다.  \n",
        "문제 2에서는 Pytorch를 사용하여 DNN을 구현하고 MNIST 데이터로 분류 모델 학습을 진행합니다.\n",
        "* 코드 참고: pytorch 공식 튜토리얼"
      ],
      "metadata": {
        "id": "hOzYC0u5GfkB"
      }
    },
    {
      "cell_type": "code",
      "source": [
        "# 라이브러리 importing\n",
        "import torch\n",
        "from torch.utils.data import Dataset\n",
        "from torchvision import datasets\n",
        "from torchvision.transforms import ToTensor\n",
        "import matplotlib.pyplot as plt\n",
        "from torch import nn"
      ],
      "metadata": {
        "id": "LKcI43VULpeQ"
      },
      "execution_count": 46,
      "outputs": []
    },
    {
      "cell_type": "markdown",
      "source": [
        "### **Load Data**"
      ],
      "metadata": {
        "id": "WCbWy3jAMGuQ"
      }
    },
    {
      "cell_type": "code",
      "source": [
        "# Load training data\n",
        "training_data = datasets.MNIST(\n",
        "    root=\"data\",\n",
        "    train=True, # training data\n",
        "    download=True,\n",
        "    transform=ToTensor() # 이미지를 tensor로 변형\n",
        ")\n",
        "\n",
        "# Load test data\n",
        "test_data = datasets.MNIST(\n",
        "    root=\"data\",\n",
        "    train=False, # test data\n",
        "    download=True,\n",
        "    transform=ToTensor() # 이미지를 tensor로 변형\n",
        ")\n",
        "\n",
        "# data loader\n",
        "# train, test 각각의 data loader 생성\n",
        "train_loader = torch.utils.data.DataLoader(training_data, batch_size=1, shuffle=True)\n",
        "test_loader = torch.utils.data.DataLoader(test_data, batch_size=1, shuffle=True)"
      ],
      "metadata": {
        "id": "D9DqIegtLnz9"
      },
      "execution_count": 47,
      "outputs": []
    },
    {
      "cell_type": "markdown",
      "source": [
        "### **Check loaded data**\n",
        "train_loader를 사용하여 하나의 데이터를 로드한 후 이 데이터가 어떤 숫자의 데이터인지 이미지로 확인해봅니다."
      ],
      "metadata": {
        "id": "QtJVlNT9A_KK"
      }
    },
    {
      "cell_type": "code",
      "source": [
        "# train feature와 label을 train_loader로부터 가져오기\n",
        "train_features, train_labels = next(iter(train_loader))\n",
        "print(f\"Feature batch shape: {train_features.size()}\")\n",
        "print(f\"Labels batch shape: {train_labels.size()}\")"
      ],
      "metadata": {
        "id": "IF90dcyJPhVw",
        "colab": {
          "base_uri": "https://localhost:8080/"
        },
        "outputId": "2e118a01-8103-448a-c3d8-db0a776f7a7a"
      },
      "execution_count": 48,
      "outputs": [
        {
          "output_type": "stream",
          "name": "stdout",
          "text": [
            "Feature batch shape: torch.Size([1, 1, 28, 28])\n",
            "Labels batch shape: torch.Size([1])\n"
          ]
        }
      ]
    },
    {
      "cell_type": "code",
      "source": [
        "# 이미지로 확인\n",
        "img = train_features[0].squeeze()\n",
        "label = train_labels[0]\n",
        "plt.imshow(img, cmap=\"gray\")\n",
        "plt.show()\n",
        "print(f\"Label: {label}\")"
      ],
      "metadata": {
        "id": "00Wypwb2Pr-r",
        "colab": {
          "base_uri": "https://localhost:8080/",
          "height": 283
        },
        "outputId": "1f754356-4242-4f02-9cd3-89b6ce7c7f25"
      },
      "execution_count": 49,
      "outputs": [
        {
          "output_type": "display_data",
          "data": {
            "text/plain": [
              "<Figure size 432x288 with 1 Axes>"
            ],
            "image/png": "[encoded data removed]"
          },
          "metadata": {
            "needs_background": "light"
          }
        },
        {
          "output_type": "stream",
          "name": "stdout",
          "text": [
            "Label: 0\n"
          ]
        }
      ]
    },
    {
      "cell_type": "markdown",
      "source": [
        "### 문제 2-1\n",
        "4개의 linear layer와 3개의 ReLU layer를 가진 네트워크를 구성하세요.\n",
        "\n"
      ],
      "metadata": {
        "id": "BB_Qe54pB8_S"
      }
    },
    {
      "cell_type": "markdown",
      "source": [
        "### 문제 2-2\n",
        "forward 함수의 빈칸을 구현하세요."
      ],
      "metadata": {
        "id": "mK5ukeeECYJk"
      }
    },
    {
      "cell_type": "code",
      "source": [
        "class NeuralNetwork(nn.Module):\n",
        "    def __init__(self):\n",
        "        super(NeuralNetwork, self).__init__()\n",
        "        self.flatten = nn.Flatten() # 28x28 이미지를 784 픽셀 값의 배열로 변경\n",
        "        self.linear_relu_stack = nn.Sequential(\n",
        "            \n",
        "            nn.Linear(in_features=28*28, out_features=512),\n",
        "            nn.ReLU(),\n",
        "\n",
        "            #############################################\n",
        "            ################### 문제 2-1 #################\n",
        "            # 4개의 linear layer와 3개의 ReLU layer를 구성하세요\n",
        "            # (위 Linear 포함 4개, ReLU layer 포함 3개를 의미)\n",
        "            #############################################\n",
        "            \n",
        "            # 시작 차원, 끝 차원 잘 고려하여 작성하기\n",
        "            # 중간 차원은 임의로 설정 가능\n",
        "            nn.Linear(512, 256), # 주석 윗부분의 out 차원이 512이므로, 512에서 시작해서 2씩 나누면서 차원을 줄여나갔음.\n",
        "            nn.ReLU(), # Activation function으로 ReLU 사용\n",
        "            nn.Linear(256, 128),\n",
        "            nn.ReLU(),\n",
        "            nn.Linear(128, 10), # feature의 개수는 0부터 9까지 10개이므로 끝차원은 10임.\n",
        "            #############################################\n",
        "\n",
        "        )\n",
        "\n",
        "    def forward(self, x):\n",
        "        #############################################\n",
        "        ################### 문제 2-2 #################\n",
        "        # forward 함수 구현\n",
        "        #############################################\n",
        "        # 코드 작성\n",
        "        x = self.flatten(x) # 시작은 28*28 픽셀 이미지를 펼쳐서 1차원 784 픽셀 이미지로 만들어야 하므로 위에 정의된 flatten을 사용.\n",
        "        logits = self.linear_relu_stack(x) # 펼쳐진 784 픽셀 이미지를 layer를 stack한 곳으로 밀어넣어서 최종적으로 나온 forward 결과 값을 얻음.\n",
        "        #############################################\n",
        "        return logits # forward 결과 저장"
      ],
      "metadata": {
        "id": "zme9j_4hMiA2"
      },
      "execution_count": 50,
      "outputs": []
    },
    {
      "cell_type": "code",
      "source": [
        "# cpu OR gpu 설정\n",
        "# gpu가 있을 경우, device로 cuda를 사용함\n",
        "# colab에서 '런타임 유형 변경'을 하면 gpu 사용할 수 있음\n",
        "device = \"cuda\" if torch.cuda.is_available() else \"cpu\"\n",
        "print(f\"Using {device} device\")"
      ],
      "metadata": {
        "id": "kfBLbfwUJgtP",
        "colab": {
          "base_uri": "https://localhost:8080/"
        },
        "outputId": "7fd73e80-2f36-400e-84e7-bb871495c3b8"
      },
      "execution_count": 51,
      "outputs": [
        {
          "output_type": "stream",
          "name": "stdout",
          "text": [
            "Using cpu device\n"
          ]
        }
      ]
    },
    {
      "cell_type": "code",
      "source": [
        "model = NeuralNetwork().to(device) # device로 Network 전송\n",
        "print(model) # 모델 구조 확인"
      ],
      "metadata": {
        "id": "ifGukRqQOUyV",
        "colab": {
          "base_uri": "https://localhost:8080/"
        },
        "outputId": "da908263-b440-429c-b0e6-da6a8ec3466a"
      },
      "execution_count": 52,
      "outputs": [
        {
          "output_type": "stream",
          "name": "stdout",
          "text": [
            "NeuralNetwork(\n",
            "  (flatten): Flatten(start_dim=1, end_dim=-1)\n",
            "  (linear_relu_stack): Sequential(\n",
            "    (0): Linear(in_features=784, out_features=512, bias=True)\n",
            "    (1): ReLU()\n",
            "    (2): Linear(in_features=512, out_features=256, bias=True)\n",
            "    (3): ReLU()\n",
            "    (4): Linear(in_features=256, out_features=128, bias=True)\n",
            "    (5): ReLU()\n",
            "    (6): Linear(in_features=128, out_features=10, bias=True)\n",
            "  )\n",
            ")\n"
          ]
        }
      ]
    },
    {
      "cell_type": "code",
      "source": [
        "# 앞에서 출력해보았던 train_features[0](1개의 데이터)에 대해서 모델 학습 결과 확인해보기\n",
        "logits = model(train_features[0]) # 일부 백그라운드 연산들과 함께 모델의 forward 를 실행 \n",
        "pred_probab = nn.Softmax(dim=1)(logits)\n",
        "y_pred = pred_probab.argmax(1)\n",
        "print(f\"Predicted class: {y_pred}\")"
      ],
      "metadata": {
        "id": "MdOf0Rd1VEi9",
        "colab": {
          "base_uri": "https://localhost:8080/"
        },
        "outputId": "8e2f960d-9753-4961-a9e9-97cf0d53eb0e"
      },
      "execution_count": 53,
      "outputs": [
        {
          "output_type": "stream",
          "name": "stdout",
          "text": [
            "Predicted class: tensor([0])\n"
          ]
        }
      ]
    },
    {
      "cell_type": "markdown",
      "source": [
        "### **Train the Network** \n",
        "epoch과 batch를 활용하여 모델을 학습시켜 봅시다."
      ],
      "metadata": {
        "id": "J5G6rO77V7OR"
      }
    },
    {
      "cell_type": "markdown",
      "source": [
        "### 문제 2-3\n",
        "모델의 forward, backward, optimize 하는 부분을 주어진 칸에 구현하세요."
      ],
      "metadata": {
        "id": "n7RwQwKDCjOy"
      }
    },
    {
      "cell_type": "code",
      "source": [
        "model = NeuralNetwork().to(device)"
      ],
      "metadata": {
        "id": "y7jdCHQphsIO"
      },
      "execution_count": 54,
      "outputs": []
    },
    {
      "cell_type": "code",
      "source": [
        "# hyperparameter 설정\n",
        "import torch.optim as optim\n",
        "\n",
        "criterion = nn.CrossEntropyLoss() # loss function\n",
        "optimizer = optim.SGD(model.parameters(), lr=0.001, momentum=0.9) # optimizer\n",
        "\n",
        "n_epoch = 3 # the number of epochs\n",
        "n_batch = 32 # the number of batches"
      ],
      "metadata": {
        "id": "XGXKm0pHhnoO"
      },
      "execution_count": 55,
      "outputs": []
    },
    {
      "cell_type": "code",
      "source": [
        "# loader 설정하기\n",
        "train_loader = torch.utils.data.DataLoader(training_data, batch_size=n_batch, shuffle=True)\n",
        "test_loader = torch.utils.data.DataLoader(test_data, batch_size=n_batch, shuffle=True)"
      ],
      "metadata": {
        "id": "s3viP29EipLg"
      },
      "execution_count": 56,
      "outputs": []
    },
    {
      "cell_type": "code",
      "source": [
        "for epoch in range(n_epoch):  # loop over the dataset multiple times\n",
        "\n",
        "    running_loss = 0.0\n",
        "    for i, data in enumerate(train_loader, 0):\n",
        "\n",
        "        # input data 가져오기\n",
        "        # data 는 [inputs, labels]로 구성된 리스트\n",
        "        inputs, labels = data\n",
        "\n",
        "        # optimizer의 파라미터 gradient를 0으로 설정\n",
        "        optimizer.zero_grad()\n",
        "\n",
        "        #############################################\n",
        "        ################### 문제 2-3 #################\n",
        "        # forward, backward, optimize \n",
        "        #############################################\n",
        "        # 코드 작성\n",
        "        outputs = model(inputs) # 위에서 지금까지 만들어진 NeuralNet Class를 받아와서 정의한 'model'에 inputs을 넣어서 결과값인 outputs를 도출함.(forward)\n",
        "        loss = criterion(outputs, labels) # 나온 결과값과 labels을 criterion loss function에 넣어 loss값을 얻은 후,\n",
        "        loss.backward() # backward하였음.\n",
        "        optimizer.step() # loss.backward()를 통해 도출된 각 매개에 대한 손실의 변화도에 따라\n",
        "        # 위에 정의된 SGD optimizer를 사용하여 매개들을 조정시킴.(최적화)\n",
        "        #############################################\n",
        "\n",
        "        # loss 출력\n",
        "        running_loss += loss.item()\n",
        "        if i % n_batch == 0:    # print every n_batch mini-batches\n",
        "            print(f'[{epoch + 1}, {i + 1:5d}] loss: {running_loss / n_batch:.3f}')\n",
        "            running_loss = 0.0\n",
        "\n",
        "print('Finished Training')"
      ],
      "metadata": {
        "id": "m6ByMb4whKFt",
        "colab": {
          "base_uri": "https://localhost:8080/"
        },
        "outputId": "c66fd462-78b5-4325-a076-c22ec9d36af2"
      },
      "execution_count": 57,
      "outputs": [
        {
          "output_type": "stream",
          "name": "stdout",
          "text": [
            "[1,     1] loss: 0.072\n",
            "[1,    33] loss: 2.303\n",
            "[1,    65] loss: 2.300\n",
            "[1,    97] loss: 2.298\n",
            "[1,   129] loss: 2.294\n",
            "[1,   161] loss: 2.293\n",
            "[1,   193] loss: 2.288\n",
            "[1,   225] loss: 2.286\n",
            "[1,   257] loss: 2.282\n",
            "[1,   289] loss: 2.277\n",
            "[1,   321] loss: 2.272\n",
            "[1,   353] loss: 2.269\n",
            "[1,   385] loss: 2.264\n",
            "[1,   417] loss: 2.256\n",
            "[1,   449] loss: 2.252\n",
            "[1,   481] loss: 2.245\n",
            "[1,   513] loss: 2.234\n",
            "[1,   545] loss: 2.221\n",
            "[1,   577] loss: 2.216\n",
            "[1,   609] loss: 2.203\n",
            "[1,   641] loss: 2.181\n",
            "[1,   673] loss: 2.165\n",
            "[1,   705] loss: 2.146\n",
            "[1,   737] loss: 2.111\n",
            "[1,   769] loss: 2.070\n",
            "[1,   801] loss: 2.034\n",
            "[1,   833] loss: 1.991\n",
            "[1,   865] loss: 1.942\n",
            "[1,   897] loss: 1.875\n",
            "[1,   929] loss: 1.803\n",
            "[1,   961] loss: 1.689\n",
            "[1,   993] loss: 1.646\n",
            "[1,  1025] loss: 1.522\n",
            "[1,  1057] loss: 1.416\n",
            "[1,  1089] loss: 1.329\n",
            "[1,  1121] loss: 1.224\n",
            "[1,  1153] loss: 1.145\n",
            "[1,  1185] loss: 1.048\n",
            "[1,  1217] loss: 1.025\n",
            "[1,  1249] loss: 0.926\n",
            "[1,  1281] loss: 0.919\n",
            "[1,  1313] loss: 0.853\n",
            "[1,  1345] loss: 0.779\n",
            "[1,  1377] loss: 0.731\n",
            "[1,  1409] loss: 0.752\n",
            "[1,  1441] loss: 0.665\n",
            "[1,  1473] loss: 0.668\n",
            "[1,  1505] loss: 0.715\n",
            "[1,  1537] loss: 0.677\n",
            "[1,  1569] loss: 0.605\n",
            "[1,  1601] loss: 0.614\n",
            "[1,  1633] loss: 0.550\n",
            "[1,  1665] loss: 0.555\n",
            "[1,  1697] loss: 0.544\n",
            "[1,  1729] loss: 0.577\n",
            "[1,  1761] loss: 0.561\n",
            "[1,  1793] loss: 0.504\n",
            "[1,  1825] loss: 0.531\n",
            "[1,  1857] loss: 0.498\n",
            "[2,     1] loss: 0.014\n",
            "[2,    33] loss: 0.496\n",
            "[2,    65] loss: 0.501\n",
            "[2,    97] loss: 0.485\n",
            "[2,   129] loss: 0.500\n",
            "[2,   161] loss: 0.465\n",
            "[2,   193] loss: 0.480\n",
            "[2,   225] loss: 0.425\n",
            "[2,   257] loss: 0.456\n",
            "[2,   289] loss: 0.458\n",
            "[2,   321] loss: 0.443\n",
            "[2,   353] loss: 0.455\n",
            "[2,   385] loss: 0.446\n",
            "[2,   417] loss: 0.423\n",
            "[2,   449] loss: 0.411\n",
            "[2,   481] loss: 0.379\n",
            "[2,   513] loss: 0.388\n",
            "[2,   545] loss: 0.450\n",
            "[2,   577] loss: 0.387\n",
            "[2,   609] loss: 0.464\n",
            "[2,   641] loss: 0.415\n",
            "[2,   673] loss: 0.459\n",
            "[2,   705] loss: 0.408\n",
            "[2,   737] loss: 0.436\n",
            "[2,   769] loss: 0.414\n",
            "[2,   801] loss: 0.433\n",
            "[2,   833] loss: 0.403\n",
            "[2,   865] loss: 0.380\n",
            "[2,   897] loss: 0.366\n",
            "[2,   929] loss: 0.384\n",
            "[2,   961] loss: 0.360\n",
            "[2,   993] loss: 0.399\n",
            "[2,  1025] loss: 0.336\n",
            "[2,  1057] loss: 0.362\n",
            "[2,  1089] loss: 0.370\n",
            "[2,  1121] loss: 0.388\n",
            "[2,  1153] loss: 0.353\n",
            "[2,  1185] loss: 0.372\n",
            "[2,  1217] loss: 0.372\n",
            "[2,  1249] loss: 0.356\n",
            "[2,  1281] loss: 0.373\n",
            "[2,  1313] loss: 0.348\n",
            "[2,  1345] loss: 0.368\n",
            "[2,  1377] loss: 0.351\n",
            "[2,  1409] loss: 0.332\n",
            "[2,  1441] loss: 0.330\n",
            "[2,  1473] loss: 0.380\n",
            "[2,  1505] loss: 0.380\n",
            "[2,  1537] loss: 0.309\n",
            "[2,  1569] loss: 0.346\n",
            "[2,  1601] loss: 0.320\n",
            "[2,  1633] loss: 0.349\n",
            "[2,  1665] loss: 0.384\n",
            "[2,  1697] loss: 0.365\n",
            "[2,  1729] loss: 0.335\n",
            "[2,  1761] loss: 0.357\n",
            "[2,  1793] loss: 0.392\n",
            "[2,  1825] loss: 0.312\n",
            "[2,  1857] loss: 0.396\n",
            "[3,     1] loss: 0.006\n",
            "[3,    33] loss: 0.345\n",
            "[3,    65] loss: 0.354\n",
            "[3,    97] loss: 0.311\n",
            "[3,   129] loss: 0.307\n",
            "[3,   161] loss: 0.365\n",
            "[3,   193] loss: 0.320\n",
            "[3,   225] loss: 0.313\n",
            "[3,   257] loss: 0.344\n",
            "[3,   289] loss: 0.360\n",
            "[3,   321] loss: 0.369\n",
            "[3,   353] loss: 0.333\n",
            "[3,   385] loss: 0.333\n",
            "[3,   417] loss: 0.304\n",
            "[3,   449] loss: 0.320\n",
            "[3,   481] loss: 0.346\n",
            "[3,   513] loss: 0.334\n",
            "[3,   545] loss: 0.288\n",
            "[3,   577] loss: 0.252\n",
            "[3,   609] loss: 0.306\n",
            "[3,   641] loss: 0.298\n",
            "[3,   673] loss: 0.312\n",
            "[3,   705] loss: 0.368\n",
            "[3,   737] loss: 0.354\n",
            "[3,   769] loss: 0.349\n",
            "[3,   801] loss: 0.324\n",
            "[3,   833] loss: 0.314\n",
            "[3,   865] loss: 0.285\n",
            "[3,   897] loss: 0.300\n",
            "[3,   929] loss: 0.290\n",
            "[3,   961] loss: 0.265\n",
            "[3,   993] loss: 0.291\n",
            "[3,  1025] loss: 0.310\n",
            "[3,  1057] loss: 0.323\n",
            "[3,  1089] loss: 0.297\n",
            "[3,  1121] loss: 0.317\n",
            "[3,  1153] loss: 0.291\n",
            "[3,  1185] loss: 0.295\n",
            "[3,  1217] loss: 0.284\n",
            "[3,  1249] loss: 0.272\n",
            "[3,  1281] loss: 0.302\n",
            "[3,  1313] loss: 0.310\n",
            "[3,  1345] loss: 0.287\n",
            "[3,  1377] loss: 0.283\n",
            "[3,  1409] loss: 0.310\n",
            "[3,  1441] loss: 0.257\n",
            "[3,  1473] loss: 0.278\n",
            "[3,  1505] loss: 0.251\n",
            "[3,  1537] loss: 0.268\n",
            "[3,  1569] loss: 0.272\n",
            "[3,  1601] loss: 0.286\n",
            "[3,  1633] loss: 0.274\n",
            "[3,  1665] loss: 0.328\n",
            "[3,  1697] loss: 0.291\n",
            "[3,  1729] loss: 0.293\n",
            "[3,  1761] loss: 0.326\n",
            "[3,  1793] loss: 0.269\n",
            "[3,  1825] loss: 0.285\n",
            "[3,  1857] loss: 0.249\n",
            "Finished Training\n"
          ]
        }
      ]
    },
    {
      "cell_type": "markdown",
      "source": [
        "### **Test the Network**"
      ],
      "metadata": {
        "id": "XnqNJjGki4JZ"
      }
    },
    {
      "cell_type": "code",
      "source": [
        "# test feature와 label을 test_loader로부터 가져오기\n",
        "test_features, test_labels = next(iter(test_loader))\n",
        "print(f\"Feature batch shape: {test_features.size()}\")\n",
        "print(f\"Labels batch shape: {test_labels.size()}\")"
      ],
      "metadata": {
        "id": "CO1AMDEAjGrK",
        "colab": {
          "base_uri": "https://localhost:8080/"
        },
        "outputId": "33bcb92e-265e-4351-e0a7-c1f70d0f28eb"
      },
      "execution_count": 58,
      "outputs": [
        {
          "output_type": "stream",
          "name": "stdout",
          "text": [
            "Feature batch shape: torch.Size([32, 1, 28, 28])\n",
            "Labels batch shape: torch.Size([32])\n"
          ]
        }
      ]
    },
    {
      "cell_type": "code",
      "source": [
        "# 1개 이미지 확인해보기\n",
        "\n",
        "logits = model(test_features[0]) # 일부 백그라운드 연산들과 함께 모델의 forward 를 실행 \n",
        "pred_probab = nn.Softmax(dim=1)(logits)\n",
        "y_pred = pred_probab.argmax(1)\n",
        "\n",
        "\n",
        "img = test_features[0].squeeze()\n",
        "label = test_labels[0]\n",
        "\n",
        "plt.imshow(img, cmap=\"gray\")\n",
        "plt.show()\n",
        "print(f\"Predicted class: {y_pred}\")\n",
        "print(f\"Label: {label}\")"
      ],
      "metadata": {
        "id": "bgC3vITkjWdU",
        "colab": {
          "base_uri": "https://localhost:8080/",
          "height": 301
        },
        "outputId": "3f3ce126-6448-4f37-9a4d-947f1541f762"
      },
      "execution_count": 59,
      "outputs": [
        {
          "output_type": "display_data",
          "data": {
            "text/plain": [
              "<Figure size 432x288 with 1 Axes>"
            ],
            "image/png": "[encoded data removed]"
          },
          "metadata": {
            "needs_background": "light"
          }
        },
        {
          "output_type": "stream",
          "name": "stdout",
          "text": [
            "Predicted class: tensor([0])\n",
            "Label: 0\n"
          ]
        }
      ]
    },
    {
      "cell_type": "code",
      "source": [
        "# 전체 test data에 대한 결과 확인\n",
        "correct = 0\n",
        "total = 0\n",
        "\n",
        "with torch.no_grad(): # 모델을 학습하는 것이 아니므로 gradient 계산을 할 필요가 없음\n",
        "    for data in test_loader:\n",
        "        images, labels = data\n",
        "        outputs = model(images)\n",
        "        _, predicted = torch.max(outputs.data, 1)\n",
        "        total += labels.size(0)\n",
        "        correct += (predicted == labels).sum().item()\n",
        "\n",
        "print(f'Accuracy of the network on the test images: {100 * correct // total} %')"
      ],
      "metadata": {
        "id": "RE_tglcsmmRD",
        "colab": {
          "base_uri": "https://localhost:8080/"
        },
        "outputId": "d366763f-c488-49c1-b113-ed60317c3ba3"
      },
      "execution_count": 41,
      "outputs": [
        {
          "output_type": "stream",
          "name": "stdout",
          "text": [
            "Accuracy of the network on the test images: 92 %\n"
          ]
        }
      ]
    }
  ]
}