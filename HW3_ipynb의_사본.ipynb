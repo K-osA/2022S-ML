{
  "nbformat": 4,
  "nbformat_minor": 0,
  "metadata": {
    "colab": {
      "name": "HW3.ipynb의 사본",
      "provenance": [],
      "collapsed_sections": [],
      "include_colab_link": true
    },
    "kernelspec": {
      "name": "python3",
      "display_name": "Python 3"
    },
    "language_info": {
      "name": "python"
    }
  },
  "cells": [
    {
      "cell_type": "markdown",
      "metadata": {
        "id": "view-in-github",
        "colab_type": "text"
      },
      "source": [
        "<a href=\"https://colab.research.google.com/github/K-osA/2022S-ML/blob/main/HW3_ipynb%EC%9D%98_%EC%82%AC%EB%B3%B8.ipynb\" target=\"_parent\"><img src=\"https://colab.research.google.com/assets/colab-badge.svg\" alt=\"Open In Colab\"/></a>"
      ]
    },
    {
      "cell_type": "markdown",
      "source": [
        "# **HW3 :: Parameter Tuning and Classifcation**"
      ],
      "metadata": {
        "id": "m1rbIpJvJD_m"
      }
    },
    {
      "cell_type": "markdown",
      "source": [
        "## 코랩과 구글 드라이브 연동 OR 로컬에서 파일 업로드\n",
        "- 해당 섹션 코드 수정 가능"
      ],
      "metadata": {
        "id": "6c34x6aJI_kE"
      }
    },
    {
      "cell_type": "code",
      "source": [
        "# 연동 OR 파일 업로드\n",
        "# 연동 시 path 설정 주의"
      ],
      "metadata": {
        "id": "PLXjmIbsJMlk"
      },
      "execution_count": 10,
      "outputs": []
    },
    {
      "cell_type": "code",
      "source": [
        "from google.colab import drive\n",
        "drive.mount('/content/drive')"
      ],
      "metadata": {
        "colab": {
          "base_uri": "https://localhost:8080/"
        },
        "id": "4VXRY6hDJ60i",
        "outputId": "6354ba48-1a71-49bc-d5e6-c4fb09615d90"
      },
      "execution_count": 11,
      "outputs": [
        {
          "output_type": "stream",
          "name": "stdout",
          "text": [
            "Drive already mounted at /content/drive; to attempt to forcibly remount, call drive.mount(\"/content/drive\", force_remount=True).\n"
          ]
        }
      ]
    },
    {
      "cell_type": "markdown",
      "source": [
        "## 데이터 불러오기"
      ],
      "metadata": {
        "id": "HR6Kw9YhJV8A"
      }
    },
    {
      "cell_type": "code",
      "execution_count": 12,
      "metadata": {
        "id": "29BsCuUtKjKA"
      },
      "outputs": [],
      "source": [
        "import numpy as np\n",
        "import pandas as pd"
      ]
    },
    {
      "cell_type": "code",
      "source": [
        "path = 'drive/MyDrive/heart_clean.csv' # 제공된 csv 파일 사용\n",
        "df = pd.read_csv(path)"
      ],
      "metadata": {
        "id": "KCR3D9shItY9"
      },
      "execution_count": 13,
      "outputs": []
    },
    {
      "cell_type": "code",
      "source": [
        "df.head()"
      ],
      "metadata": {
        "colab": {
          "base_uri": "https://localhost:8080/",
          "height": 206
        },
        "id": "S9v7sEpoL0jf",
        "outputId": "d4e1888f-5441-4e2a-ad30-18292d648ec6"
      },
      "execution_count": 14,
      "outputs": [
        {
          "output_type": "execute_result",
          "data": {
            "text/plain": [
              "   Age  RestingBP  FastingBS  ExerciseAngina  Oldpeak  HeartDisease\n",
              "0   53        120          0               0      0.0             0\n",
              "1   65        134          0               1      1.1             1\n",
              "2   60        160          0               1      0.5             1\n",
              "3   57        150          1               0      0.2             0\n",
              "4   57        150          0               1      0.6             1"
            ],
            "text/html": [
              "\n",
              "  <div id=\"df-66965d66-7e16-4ce5-9da1-b10ae9b50ce5\">\n",
              "    <div class=\"colab-df-container\">\n",
              "      <div>\n",
              "<style scoped>\n",
              "    .dataframe tbody tr th:only-of-type {\n",
              "        vertical-align: middle;\n",
              "    }\n",
              "\n",
              "    .dataframe tbody tr th {\n",
              "        vertical-align: top;\n",
              "    }\n",
              "\n",
              "    .dataframe thead th {\n",
              "        text-align: right;\n",
              "    }\n",
              "</style>\n",
              "<table border=\"1\" class=\"dataframe\">\n",
              "  <thead>\n",
              "    <tr style=\"text-align: right;\">\n",
              "      <th></th>\n",
              "      <th>Age</th>\n",
              "      <th>RestingBP</th>\n",
              "      <th>FastingBS</th>\n",
              "      <th>ExerciseAngina</th>\n",
              "      <th>Oldpeak</th>\n",
              "      <th>HeartDisease</th>\n",
              "    </tr>\n",
              "  </thead>\n",
              "  <tbody>\n",
              "    <tr>\n",
              "      <th>0</th>\n",
              "      <td>53</td>\n",
              "      <td>120</td>\n",
              "      <td>0</td>\n",
              "      <td>0</td>\n",
              "      <td>0.0</td>\n",
              "      <td>0</td>\n",
              "    </tr>\n",
              "    <tr>\n",
              "      <th>1</th>\n",
              "      <td>65</td>\n",
              "      <td>134</td>\n",
              "      <td>0</td>\n",
              "      <td>1</td>\n",
              "      <td>1.1</td>\n",
              "      <td>1</td>\n",
              "    </tr>\n",
              "    <tr>\n",
              "      <th>2</th>\n",
              "      <td>60</td>\n",
              "      <td>160</td>\n",
              "      <td>0</td>\n",
              "      <td>1</td>\n",
              "      <td>0.5</td>\n",
              "      <td>1</td>\n",
              "    </tr>\n",
              "    <tr>\n",
              "      <th>3</th>\n",
              "      <td>57</td>\n",
              "      <td>150</td>\n",
              "      <td>1</td>\n",
              "      <td>0</td>\n",
              "      <td>0.2</td>\n",
              "      <td>0</td>\n",
              "    </tr>\n",
              "    <tr>\n",
              "      <th>4</th>\n",
              "      <td>57</td>\n",
              "      <td>150</td>\n",
              "      <td>0</td>\n",
              "      <td>1</td>\n",
              "      <td>0.6</td>\n",
              "      <td>1</td>\n",
              "    </tr>\n",
              "  </tbody>\n",
              "</table>\n",
              "</div>\n",
              "      <button class=\"colab-df-convert\" onclick=\"convertToInteractive('df-66965d66-7e16-4ce5-9da1-b10ae9b50ce5')\"\n",
              "              title=\"Convert this dataframe to an interactive table.\"\n",
              "              style=\"display:none;\">\n",
              "        \n",
              "  <svg xmlns=\"http://www.w3.org/2000/svg\" height=\"24px\"viewBox=\"0 0 24 24\"\n",
              "       width=\"24px\">\n",
              "    <path d=\"M0 0h24v24H0V0z\" fill=\"none\"/>\n",
              "    <path d=\"M18.56 5.44l.94 2.06.94-2.06 2.06-.94-2.06-.94-.94-2.06-.94 2.06-2.06.94zm-11 1L8.5 8.5l.94-2.06 2.06-.94-2.06-.94L8.5 2.5l-.94 2.06-2.06.94zm10 10l.94 2.06.94-2.06 2.06-.94-2.06-.94-.94-2.06-.94 2.06-2.06.94z\"/><path d=\"M17.41 7.96l-1.37-1.37c-.4-.4-.92-.59-1.43-.59-.52 0-1.04.2-1.43.59L10.3 9.45l-7.72 7.72c-.78.78-.78 2.05 0 2.83L4 21.41c.39.39.9.59 1.41.59.51 0 1.02-.2 1.41-.59l7.78-7.78 2.81-2.81c.8-.78.8-2.07 0-2.86zM5.41 20L4 18.59l7.72-7.72 1.47 1.35L5.41 20z\"/>\n",
              "  </svg>\n",
              "      </button>\n",
              "      \n",
              "  <style>\n",
              "    .colab-df-container {\n",
              "      display:flex;\n",
              "      flex-wrap:wrap;\n",
              "      gap: 12px;\n",
              "    }\n",
              "\n",
              "    .colab-df-convert {\n",
              "      background-color: #E8F0FE;\n",
              "      border: none;\n",
              "      border-radius: 50%;\n",
              "      cursor: pointer;\n",
              "      display: none;\n",
              "      fill: #1967D2;\n",
              "      height: 32px;\n",
              "      padding: 0 0 0 0;\n",
              "      width: 32px;\n",
              "    }\n",
              "\n",
              "    .colab-df-convert:hover {\n",
              "      background-color: #E2EBFA;\n",
              "      box-shadow: 0px 1px 2px rgba(60, 64, 67, 0.3), 0px 1px 3px 1px rgba(60, 64, 67, 0.15);\n",
              "      fill: #174EA6;\n",
              "    }\n",
              "\n",
              "    [theme=dark] .colab-df-convert {\n",
              "      background-color: #3B4455;\n",
              "      fill: #D2E3FC;\n",
              "    }\n",
              "\n",
              "    [theme=dark] .colab-df-convert:hover {\n",
              "      background-color: #434B5C;\n",
              "      box-shadow: 0px 1px 3px 1px rgba(0, 0, 0, 0.15);\n",
              "      filter: drop-shadow(0px 1px 2px rgba(0, 0, 0, 0.3));\n",
              "      fill: #FFFFFF;\n",
              "    }\n",
              "  </style>\n",
              "\n",
              "      <script>\n",
              "        const buttonEl =\n",
              "          document.querySelector('#df-66965d66-7e16-4ce5-9da1-b10ae9b50ce5 button.colab-df-convert');\n",
              "        buttonEl.style.display =\n",
              "          google.colab.kernel.accessAllowed ? 'block' : 'none';\n",
              "\n",
              "        async function convertToInteractive(key) {\n",
              "          const element = document.querySelector('#df-66965d66-7e16-4ce5-9da1-b10ae9b50ce5');\n",
              "          const dataTable =\n",
              "            await google.colab.kernel.invokeFunction('convertToInteractive',\n",
              "                                                     [key], {});\n",
              "          if (!dataTable) return;\n",
              "\n",
              "          const docLinkHtml = 'Like what you see? Visit the ' +\n",
              "            '<a target=\"_blank\" href=https://colab.research.google.com/notebooks/data_table.ipynb>data table notebook</a>'\n",
              "            + ' to learn more about interactive tables.';\n",
              "          element.innerHTML = '';\n",
              "          dataTable['output_type'] = 'display_data';\n",
              "          await google.colab.output.renderOutput(dataTable, element);\n",
              "          const docLink = document.createElement('div');\n",
              "          docLink.innerHTML = docLinkHtml;\n",
              "          element.appendChild(docLink);\n",
              "        }\n",
              "      </script>\n",
              "    </div>\n",
              "  </div>\n",
              "  "
            ]
          },
          "metadata": {},
          "execution_count": 14
        }
      ]
    },
    {
      "cell_type": "markdown",
      "source": [
        "## 데이터 나누기"
      ],
      "metadata": {
        "id": "fZDTxR6wKuPO"
      }
    },
    {
      "cell_type": "markdown",
      "source": [
        "### **주의 사항**\n",
        "train_test_split에 random seed를 사용하여 split set을 고정한다.\n",
        "- 모든 문제에 같은 random seed를 부여할 필요는 없다.\n"
      ],
      "metadata": {
        "id": "h5enxbYKbAhW"
      }
    },
    {
      "cell_type": "code",
      "source": [
        "from sklearn.model_selection import train_test_split\n",
        "\n",
        "X = df.drop('HeartDisease', axis=1)\n",
        "y = df['HeartDisease']\n",
        "  \n",
        "X_train, X_test, y_train, y_test = train_test_split(X, y, test_size=0.1)\n",
        "X_train, X_val, y_train, y_val = train_test_split(X_train, y_train, test_size=1/9)\n",
        "\n",
        "print(\"X_train's shape : \", X_train.shape)\n",
        "print(\"y_train's shape : \", y_train.shape)\n",
        "print(\"\\nX_val's shape : \", X_val.shape)\n",
        "print(\"y_val's shape : \", y_val.shape)\n",
        "print(\"\\nX_test's shape : \", X_test.shape)\n",
        "print(\"y_test's shape : \", y_test.shape)"
      ],
      "metadata": {
        "colab": {
          "base_uri": "https://localhost:8080/"
        },
        "id": "V1zQHUKdKWFz",
        "outputId": "a63541ee-63ac-409f-85f1-8e0c5e84bb64"
      },
      "execution_count": 15,
      "outputs": [
        {
          "output_type": "stream",
          "name": "stdout",
          "text": [
            "X_train's shape :  (568, 5)\n",
            "y_train's shape :  (568,)\n",
            "\n",
            "X_val's shape :  (71, 5)\n",
            "y_val's shape :  (71,)\n",
            "\n",
            "X_test's shape :  (71, 5)\n",
            "y_test's shape :  (71,)\n"
          ]
        }
      ]
    },
    {
      "cell_type": "markdown",
      "source": [
        "\n",
        "\n",
        "---\n",
        "\n"
      ],
      "metadata": {
        "id": "wkJmRTz_jNTP"
      }
    },
    {
      "cell_type": "markdown",
      "source": [
        "## 문제1 KNN\n",
        "\n",
        "\n",
        "\n",
        "- Scikit-learn 라이브러리를 이용하여 KNN의 최적의 파라미터를 찾는다.\n",
        "    - 최근접 이웃을 찾기 위한 거리의 종류로 최소한 두 가지 이상의 거리 척도를 사용한다.\n",
        "    - K값을 최소 3개 이상 비교한다.\n",
        "    - 거리 척도, k값에 따라 train, validation 정확도를 한 그래프로 그린다.(x축 k값, y축 정확도)\n",
        "    - 찾은 최적의 파라미터와 test set 이용하여 test_accuracy 계산하고 기입한다.\n",
        "    - 최적의 파라미터를 찾은 것에 대한 설명을 '텍스트 셀'에 작성한다.\n",
        "\n"
      ],
      "metadata": {
        "id": "P5Gr-LZOLCSP"
      }
    },
    {
      "cell_type": "code",
      "source": [
        "### 문제 1 ###\n",
        "## 코드 작성 ##\n",
        "\n",
        "# 데이터 나누기 및 shape 출력\n",
        "X_train, X_test, y_train, y_test = train_test_split(X, y, test_size=0.1, random_state=78) # train 90%, test 10%, seed 고정.\n",
        "X_train, X_val, y_train, y_val = train_test_split(X_train, y_train, test_size=1/9, random_state=78) # test까지 봤을 때 train 80%, val 10%, test 10%\n",
        "\n",
        "print(\"X_train's shape : \", X_train.shape)\n",
        "print(\"y_train's shape : \", y_train.shape)\n",
        "print(\"\\nX_val's shape : \", X_val.shape)\n",
        "print(\"y_val's shape : \", y_val.shape)\n",
        "print(\"\\nX_test's shape : \", X_test.shape)\n",
        "print(\"y_test's shape : \", y_test.shape)\n",
        "\n",
        "from sklearn.neighbors import KNeighborsClassifier\n",
        "from sklearn.metrics import accuracy_score\n",
        "import matplotlib.pyplot as plt\n",
        "\n",
        "x_values = [1, 3, 5, 10, 15, 20, 25, 30, 35, 40, 45, 50] # 후보 k값 준비\n",
        "\n",
        "# 각 종류별 리스트 만들기\n",
        "y_values_euclidean_train = []\n",
        "y_values_manhattan_train = []\n",
        "y_values_euclidean_val = []\n",
        "y_values_manhattan_val = []\n",
        "\n",
        "for k in [1, 3, 5, 10, 15, 20, 25, 30, 35, 40, 45, 50]:\n",
        "    knn = KNeighborsClassifier(n_neighbors=k, metric=\"euclidean\") # euclidean과 반복되는 k에 대한 classifier 생성\n",
        "    knn.fit(X_train, y_train)\n",
        "    y_values_euclidean_train.append(knn.score(X_train, y_train)) # train set에 대한 score를 리스트에 추가\n",
        "    y_values_euclidean_val.append(knn.score(X_val, y_val)) # val set에 대한 score를 리스트에 추가\n",
        "\n",
        "    knn = KNeighborsClassifier(n_neighbors=k, metric=\"manhattan\") # manhattan과 반복되는 k에 대한 classifier 생성\n",
        "    knn.fit(X_train, y_train)\n",
        "    y_values_manhattan_train.append(knn.score(X_train, y_train)) # train set에 대한 score를 리스트에 추가\n",
        "    y_values_manhattan_val.append(knn.score(X_val, y_val)) # val set에 대한 score를 리스트에 추가\n",
        "\n",
        "# 각 종류별로 plot 찍기 및 준비 과정 후 출력\n",
        "plt.figure(figsize=(15,5))\n",
        "plt.subplot(121)\n",
        "plt.title(\"train & validation accuracy_1\")\n",
        "plt.plot(x_values, y_values_euclidean_train, marker='o', label=\"euclidean_train\")\n",
        "plt.plot(x_values, y_values_euclidean_val, marker='o', label=\"euclidean_val\")\n",
        "plt.xticks(x_values)\n",
        "plt.legend()\n",
        "\n",
        "plt.subplot(122)\n",
        "plt.title(\"train & validation accuracy_2\")\n",
        "plt.plot(x_values, y_values_manhattan_train, marker='o', label=\"manhattan_train\")\n",
        "plt.plot(x_values, y_values_manhattan_val, marker='o', label=\"manhattan_val\")\n",
        "plt.xticks(x_values)\n",
        "plt.legend()\n",
        "\n",
        "plt.show()\n",
        "\n",
        "knn = KNeighborsClassifier(n_neighbors=35, metric=\"manhattan\") # 최적의 k값 35, manhattan에 대한 classifier 생성\n",
        "knn.fit(X_train, y_train)\n",
        "print(\"test accuracy: \", knn.score(X_test, y_test)) # 최종 결과 출력"
      ],
      "metadata": {
        "id": "ME76ne9cdSMa",
        "colab": {
          "base_uri": "https://localhost:8080/",
          "height": 496
        },
        "outputId": "d0f54777-b6be-4c0d-eb02-21fc3d72a44c"
      },
      "execution_count": 16,
      "outputs": [
        {
          "output_type": "stream",
          "name": "stdout",
          "text": [
            "X_train's shape :  (568, 5)\n",
            "y_train's shape :  (568,)\n",
            "\n",
            "X_val's shape :  (71, 5)\n",
            "y_val's shape :  (71,)\n",
            "\n",
            "X_test's shape :  (71, 5)\n",
            "y_test's shape :  (71,)\n"
          ]
        },
        {
          "output_type": "display_data",
          "data": {
            "text/plain": [
              "<Figure size 1080x360 with 2 Axes>"
            ],
            "image/png": "[encoded data removed]"
          },
          "metadata": {
            "needs_background": "light"
          }
        },
        {
          "output_type": "stream",
          "name": "stdout",
          "text": [
            "test accuracy:  0.704225352112676\n"
          ]
        }
      ]
    },
    {
      "cell_type": "markdown",
      "source": [
        "**설명 작성**  \n",
        "- 최적의 파라미터: k가 35일 때, manhattan으로 거리를 계산한 것.\n",
        "- 설명: k값을 1, 3, 5부터 5단위로 50까지 두고 euclidean과 manhattan 거리를 각각 계산한 후, plot을 찍은 결과 k=35, manhattan에서 가장 validation accuracy가 높게 나왔습니다. 그러므로 이것이 최적의 파라미터라고 보았습니다. 마지막으로 이 파라미터를 사용하여 도출된 test accuracy는 약 70.4%입니다."
      ],
      "metadata": {
        "id": "8-BMEqCFdfsR"
      }
    },
    {
      "cell_type": "markdown",
      "source": [
        "\n",
        "\n",
        "---\n",
        "\n"
      ],
      "metadata": {
        "id": "kHaSKoowjPp7"
      }
    },
    {
      "cell_type": "markdown",
      "source": [
        "## 문제2 SVM\n",
        "\n",
        "\n",
        "- Scikit-learn 라이브러리를 이용하여 SVM의 최적의 파라미터를 찾는다.\n",
        "    - Kernel trick 중 최소 두개를 비교한다.\n",
        "    - 최적의 파라미터 C값을 찾는다.\n",
        "    - 파라미터에 따라 train, validation 정확도를 한 그래프로 그린다.(x축 C값, y축 정확도)\n",
        "    - 찾은 최적의 파라미터와 test set을 이용하여 test accuracy를 계산하고 기입한다.\n",
        "    - 최적의 파라미터를 찾은 것에 대한 설명을 '텍스트 셀'에 작성한다.\n"
      ],
      "metadata": {
        "id": "VA0mzbsiaOoH"
      }
    },
    {
      "cell_type": "code",
      "source": [
        "### 문제 2 ###\n",
        "## 코드 작성 ##\n",
        "from sklearn.svm import SVC\n",
        "import matplotlib.pyplot as plt\n",
        "\n",
        "x_values = [x for x in range(1, 101)] # 후보 C값 준비\n",
        "\n",
        "# 각 종류별 리스트 만들기\n",
        "y_values_linear_train = []\n",
        "y_values_rbf_train = []\n",
        "y_values_linear_val = []\n",
        "y_values_rbf_val = []\n",
        "\n",
        "for c in range(1, 101):\n",
        "    svm = SVC(kernel='linear', C=c) # linear와 반복되는 c에 대한 classifier 생성\n",
        "    svm.fit(X_train, y_train)\n",
        "    y_values_linear_train.append(svm.score(X_train, y_train)) # train set에 대한 score를 리스트에 추가\n",
        "    y_values_linear_val.append(svm.score(X_val, y_val)) # val set에 대한 score를 리스트에 추가\n",
        "\n",
        "    svm = SVC(kernel='rbf', C=c) # rbf와 반복되는 c에 대한 classifier 생성\n",
        "    svm.fit(X_train, y_train)\n",
        "    y_values_rbf_train.append(svm.score(X_train, y_train)) # train set에 대한 score를 리스트에 추가\n",
        "    y_values_rbf_val.append(svm.score(X_val, y_val)) # val set에 대한 score를 리스트에 추가\n",
        "\n",
        "# 각 종류별로 plot 찍기 및 준비 과정 후 출력\n",
        "plt.figure(figsize=(15,5))\n",
        "plt.subplot(121)\n",
        "plt.title(\"train & validation accuracy_1\")\n",
        "plt.plot(x_values, y_values_linear_train, marker='o', label=\"linear_train\")\n",
        "plt.plot(x_values, y_values_linear_val, marker='o', label=\"linear_val\")\n",
        "plt.legend()\n",
        "\n",
        "plt.subplot(122)\n",
        "plt.title(\"train & validation accuracy_2\")\n",
        "plt.plot(x_values, y_values_rbf_train, marker='o', label=\"rbf_train\")\n",
        "plt.plot(x_values, y_values_rbf_val, marker='o', label=\"rbf_val\")\n",
        "plt.legend()\n",
        "\n",
        "plt.show()\n",
        "\n",
        "svm = SVC(kernel=\"linear\", C=50) # 최적의 C값 50, linear에 대한 classifier 생성\n",
        "svm.fit(X_train, y_train)\n",
        "print(\"test accuracy: \", svm.score(X_test, y_test))"
      ],
      "metadata": {
        "id": "zZdkdlyMeH_Y",
        "colab": {
          "base_uri": "https://localhost:8080/",
          "height": 354
        },
        "outputId": "ee98a363-4b2c-47fe-a0db-ddfeb5be77ef"
      },
      "execution_count": 17,
      "outputs": [
        {
          "output_type": "display_data",
          "data": {
            "text/plain": [
              "<Figure size 1080x360 with 2 Axes>"
            ],
            "image/png": "[encoded data removed]"
          },
          "metadata": {
            "needs_background": "light"
          }
        },
        {
          "output_type": "stream",
          "name": "stdout",
          "text": [
            "test accuracy:  0.8873239436619719\n"
          ]
        }
      ]
    },
    {
      "cell_type": "markdown",
      "source": [
        "**설명 작성**  \n",
        "- 최적의 파라미터: kernel이 linear이고, C값은 0부터 22, 27부터 57.  / kernel이 rbf이고, C값이 29.\n",
        "- 설명: C값을 1에서 100으로 두고 \bkernel을 linear와 rbf로 각각 계산한 후, plot을 찍은 결과 C=0에서 22, 27에서 57, linear / C=29, rbf에서 가장 validation accuracy가 높고 같게 나왔습니다. 그러므로 이것이 최적의 파라미터라고 보았습니다. 마지막으로 최적의 파라미터들 중, C값을 50으로 설정하여, linear를 사용하여 도출된 test accuracy는 약 88.7%입니다."
      ],
      "metadata": {
        "id": "y47YT_IleHKq"
      }
    },
    {
      "cell_type": "markdown",
      "source": [
        "\n",
        "\n",
        "---\n",
        "\n"
      ],
      "metadata": {
        "id": "jFA8FPDKkjHC"
      }
    },
    {
      "cell_type": "markdown",
      "source": [
        "## 문제3 Cross validation with Random Forest\n",
        "### 3-1: k-fold\n",
        "- 수업시간에 배운 **5-fold** 를 이용하여 최적의 파라미터를 찾는다. (데이터는 동일)\n",
        "- 수업시간에 배운 random forest 모델의 파라미터를 cross-validation을 바탕으로 최적화한다.\n",
        "    - **5-fold CV를 할 때, test data를 제외한 90%의 데이터를 사용해야한다.**\n",
        "    - 파라미터에 따라 K-fold CV를 통해 나온 평균 정확도와 각 fold의 정확도들을 한 그래프로 그린다.(x축 선택한 파라미터, y축 정확도)\n",
        "    - 찾은 최적의 파라미터와 test set을 이용하여 test accuracy를 계산하고 기입한다.\n",
        "    - 최적의 파라미터를 찾은 것에 대한 설명을 '텍스트 셀'에 작성한다.\n",
        "\n",
        "### 3-2: Leave One Out\n",
        "- 수업시간에 배운 Leave-One-Out 를 이용하여 최적의 파라미터를 찾는다. (데이터는 동일)\n",
        "- 수업시간에 배운 random forest 모델의 파라미터를 cross-validation을 바탕으로 최적화한다.\n",
        "  - **Leave-One-Out CV를 할 때, test data를 제외한 90%의 데이터를 사용해야한다.**\n",
        "  - 파라미터에 따라 Leave-One-Out CV를 통해 나온 평균 정확도를 그래프로 그린다.(x축 선택한 파라미터, y축 정확도)\n",
        "  - 찾은 최적의 파라미터와 test set을 이용하여 test accuracy를 계산하고 기입한다.\n",
        "  - 최적의 파라미터를 찾은 것에 대한 설명을 '텍스트 셀'에 작성한다."
      ],
      "metadata": {
        "id": "cl1b3f3AaZUw"
      }
    },
    {
      "cell_type": "code",
      "source": [
        "### 문제 3-1 ###\n",
        "## 코드 작성 ##\n",
        "X_train, X_test, y_train, y_test = train_test_split(X, y, test_size=0.1, random_state=78) # train 90%, test 10%, seed 고정.\n",
        "\n",
        "print(\"X_train's shape : \", X_train.shape)\n",
        "print(\"y_train's shape : \", y_train.shape)\n",
        "print(\"\\nX_test's shape : \", X_test.shape)\n",
        "print(\"y_test's shape : \", y_test.shape)\n",
        "\n",
        "import matplotlib.pyplot as plt\n",
        "from sklearn.ensemble import RandomForestClassifier\n",
        "from sklearn.model_selection import KFold\n",
        "import tqdm\n",
        "\n",
        "temp = []\n",
        "kfold = KFold(n_splits=5) # 5-fold에 대해 instance 생성\n",
        "\n",
        "max_depth_value = [1, 2, 3, 4, 5, 6, 7, 8, 9, 10] # 후보 max_depth 준비\n",
        "fold = [[] for _ in range(5)] # mean_fold 계산을 위한 이중 리스트 생성\n",
        "mean_fold = []\n",
        "i = 0\n",
        "for mdv in tqdm.tqdm(max_depth_value):\n",
        "    rfc = RandomForestClassifier(max_depth=mdv, random_state=78) # \bmax_depth에 대한 classifier 생성, seed 고정.\n",
        "\n",
        "    for temp_train_index, temp_test_index in kfold.split(X_train): # 각 fold별 지정된 index 설정 및 반복\n",
        "        X_temp_train, X_temp_test = X_train.iloc[temp_train_index], X_train.iloc[temp_test_index] # 지정된 fold에 대한 index을 따서 또 하나의 train, test(val) set 생성\n",
        "        y_temp_train, y_temp_test = y_train.iloc[temp_train_index], y_train.iloc[temp_test_index]\n",
        "\n",
        "        rfc.fit(X_temp_train, y_temp_train)\n",
        "\n",
        "        fold[i].append(rfc.score(X_temp_test, y_temp_test)) # 지정된 fold에 대한 score 삽입\n",
        "        i += 1\n",
        "    i = 0\n",
        "\n",
        "mean_fold.append(np.mean(fold, axis=0)) # fold별 mean값 구해서 삽입\n",
        "plt.plot([x for x in range(1, 11)], mean_fold[0], label='mean_acc', marker='o') # hyperparameter 10개에 대한 mean값 찍기\n",
        "for i in range(5):\n",
        "    plt.plot([x for x in range(1, 11)], fold[i], label='Fold' + str(i + 1) + '_acc') # fold별 hyperparameter 10개에 대해 나온 값 찍기\n",
        "plt.title(\"5-Fold CV\")\n",
        "plt.xticks(max_depth_value)\n",
        "plt.xlabel(\"max_depth\")\n",
        "plt.legend()\n",
        "plt.show()\n",
        "\n",
        "rfc = RandomForestClassifier(max_depth=2, random_state=78) # 최적의 파라미터에 대한 classifier 만들기\n",
        "rfc.fit(X_train, y_train)\n",
        "print(rfc.score(X_test, y_test)) # 최종 결과 출력"
      ],
      "metadata": {
        "id": "fYNny36efEF3",
        "colab": {
          "base_uri": "https://localhost:8080/",
          "height": 421
        },
        "outputId": "c2d5c1a1-1e09-45a4-da6e-a52d4123524e"
      },
      "execution_count": 18,
      "outputs": [
        {
          "output_type": "stream",
          "name": "stdout",
          "text": [
            "X_train's shape :  (639, 5)\n",
            "y_train's shape :  (639,)\n",
            "\n",
            "X_test's shape :  (71, 5)\n",
            "y_test's shape :  (71,)\n"
          ]
        },
        {
          "output_type": "stream",
          "name": "stderr",
          "text": [
            "100%|██████████| 10/10 [00:08<00:00,  1.18it/s]\n"
          ]
        },
        {
          "output_type": "display_data",
          "data": {
            "text/plain": [
              "<Figure size 432x288 with 1 Axes>"
            ],
            "image/png": "[encoded data removed]"
          },
          "metadata": {
            "needs_background": "light"
          }
        },
        {
          "output_type": "stream",
          "name": "stdout",
          "text": [
            "0.8591549295774648\n"
          ]
        }
      ]
    },
    {
      "cell_type": "markdown",
      "source": [
        "**설명 작성**  \n",
        "- test accuracy: 0.859154.. 약 85.9%\n",
        "- 최적의 파라미터: max_depth=2.\n",
        "- 설명: 입력할 수 있는 파라미터들 중 max_depth를 1~10 중 최적 하나를 고르기 위한 작업을 하였습니다. 각 Fold에 대해 정확도를 구한 후, 그래프로 그리고 column, 즉 max_depth값 기준으로 평균을 매겨 그래프를 하나 더 그렸습니다. 그러면 mean_acc이 가장 높은게 최적이므로 그 값을 적용시킨 후, validation으로 사용하던 set까지 train 시킨 후, 최종 정확도를 구했습니다.\n",
        "\n"
      ],
      "metadata": {
        "id": "2xvEdCHAfH0g"
      }
    },
    {
      "cell_type": "code",
      "source": [
        "### 문제 3-2 ###\n",
        "## 코드 작성 ##\n",
        "import matplotlib.pyplot as plt\n",
        "from sklearn.ensemble import RandomForestClassifier\n",
        "from sklearn.model_selection import LeaveOneOut\n",
        "\n",
        "temp = []\n",
        "loo = LeaveOneOut() # LeaveOneOut에 대해 instance 생성\n",
        "\n",
        "max_depth_value = [1, 2, 3, 4, 5, 6, 7, 8, 9, 10] # 후보 max_depth 준비\n",
        "sum = 0\n",
        "mean_fold = []\n",
        "for mdv in tqdm.tqdm(max_depth_value):\n",
        "    rfc = RandomForestClassifier(max_depth=mdv, random_state=78) # \bmax_depth에 대한 classifier 생성, seed 고정.\n",
        "\n",
        "    for temp_train_index, temp_test_index in loo.split(X_train): # 각 fold별 지정된 index 설정 및 반복\n",
        "        X_temp_train, X_temp_test = X_train.iloc[temp_train_index], X_train.iloc[temp_test_index] # 지정된 fold에 대한 index을 따서 또 하나의 train, test(val) set 생성\n",
        "        y_temp_train, y_temp_test = y_train.iloc[temp_train_index], y_train.iloc[temp_test_index]\n",
        "\n",
        "        rfc.fit(X_temp_train, y_temp_train)\n",
        "\n",
        "        sum += rfc.score(X_temp_test, y_temp_test) # 한번 반복마다 score를 합산.\n",
        "    mean_fold.append(sum / (len(X_train))) # X_train의 길이가 fold 갯수이므로 이것으로 mean값 도출.\n",
        "    sum = 0\n",
        "\n",
        "plt.plot([x for x in range(1, 11)], mean_fold, label='mean_acc', marker='o') # hyperparameter 10개에 대해 mean_acc 찍기\n",
        "plt.title(\"LooCV\")\n",
        "plt.xticks(max_depth_value)\n",
        "plt.xlabel(\"max_depth\")\n",
        "plt.legend()\n",
        "plt.show()\n",
        "\n",
        "rfc = RandomForestClassifier(max_depth=5, random_state=78) # 최적의 파라미터에 대한 classifier 만들기\n",
        "rfc.fit(X_train, y_train)\n",
        "print(rfc.score(X_test, y_test)) # 최종 결과 출력"
      ],
      "metadata": {
        "id": "80a5iRmvfG6H",
        "colab": {
          "base_uri": "https://localhost:8080/",
          "height": 331
        },
        "outputId": "a9468df7-0046-4eca-b6cd-63c5b82034ce"
      },
      "execution_count": 19,
      "outputs": [
        {
          "output_type": "stream",
          "name": "stderr",
          "text": [
            "100%|██████████| 10/10 [18:08<00:00, 108.82s/it]\n"
          ]
        },
        {
          "output_type": "display_data",
          "data": {
            "text/plain": [
              "<Figure size 432x288 with 1 Axes>"
            ],
            "image/png": "[encoded data removed]"
          },
          "metadata": {
            "needs_background": "light"
          }
        },
        {
          "output_type": "stream",
          "name": "stdout",
          "text": [
            "0.8873239436619719\n"
          ]
        }
      ]
    },
    {
      "cell_type": "markdown",
      "source": [
        "**설명 작성**  \n",
        "- test accuracy: 0.887323.. 약 88.7%\n",
        "- 최적의 파라미터: max_depth=5\n",
        "- 설명: Leave-one-out은 train하고자 하는 value 개수만큼 fold됩니다. train_data는 총 639개이므로, 6390번의 train이 이루어졌으며(639*max_depth_value 10개) 그래프 상에서는 max_depth가 5인것의 mean이 가장 높게 나왔기에, 이것이 최적인 것으로 보았고 K-Fold와 같이 validation으로 사용하던 set도 train으로 하여 다시 학습시킨 후, test_set의 정확도를 구하였습니다."
      ],
      "metadata": {
        "id": "m9BqByTFfLIG"
      }
    },
    {
      "cell_type": "markdown",
      "source": [
        "\n",
        "\n",
        "---\n",
        "\n"
      ],
      "metadata": {
        "id": "BlvQjbXJkllk"
      }
    },
    {
      "cell_type": "markdown",
      "source": [
        "## 문제4 Regression\n",
        "문제 4 에서는 캘리포니아 주택 가격 데이터셋을 사용합니다.   \n",
        "학습을 통해 주택 가격을 예측하는 문제입니다.  \n",
        "데이터에 대한 자세한 설명은 아래 코드의 description을 참고해주세요."
      ],
      "metadata": {
        "id": "szX5GgcXfnM1"
      }
    },
    {
      "cell_type": "code",
      "source": [
        "from sklearn.datasets import fetch_california_housing\n",
        "housing = fetch_california_housing()\n",
        "print(housing.DESCR)"
      ],
      "metadata": {
        "colab": {
          "base_uri": "https://localhost:8080/"
        },
        "id": "v7mbmrTRinak",
        "outputId": "e25658b6-1345-4263-8870-5ca17f905fac"
      },
      "execution_count": 20,
      "outputs": [
        {
          "output_type": "stream",
          "name": "stdout",
          "text": [
            ".. _california_housing_dataset:\n",
            "\n",
            "California Housing dataset\n",
            "--------------------------\n",
            "\n",
            "**Data Set Characteristics:**\n",
            "\n",
            "    :Number of Instances: 20640\n",
            "\n",
            "    :Number of Attributes: 8 numeric, predictive attributes and the target\n",
            "\n",
            "    :Attribute Information:\n",
            "        - MedInc        median income in block group\n",
            "        - HouseAge      median house age in block group\n",
            "        - AveRooms      average number of rooms per household\n",
            "        - AveBedrms     average number of bedrooms per household\n",
            "        - Population    block group population\n",
            "        - AveOccup      average number of household members\n",
            "        - Latitude      block group latitude\n",
            "        - Longitude     block group longitude\n",
            "\n",
            "    :Missing Attribute Values: None\n",
            "\n",
            "This dataset was obtained from the StatLib repository.\n",
            "https://www.dcc.fc.up.pt/~ltorgo/Regression/cal_housing.html\n",
            "\n",
            "The target variable is the median house value for California districts,\n",
            "expressed in hundreds of thousands of dollars ($100,000).\n",
            "\n",
            "This dataset was derived from the 1990 U.S. census, using one row per census\n",
            "block group. A block group is the smallest geographical unit for which the U.S.\n",
            "Census Bureau publishes sample data (a block group typically has a population\n",
            "of 600 to 3,000 people).\n",
            "\n",
            "An household is a group of people residing within a home. Since the average\n",
            "number of rooms and bedrooms in this dataset are provided per household, these\n",
            "columns may take surpinsingly large values for block groups with few households\n",
            "and many empty houses, such as vacation resorts.\n",
            "\n",
            "It can be downloaded/loaded using the\n",
            ":func:`sklearn.datasets.fetch_california_housing` function.\n",
            "\n",
            ".. topic:: References\n",
            "\n",
            "    - Pace, R. Kelley and Ronald Barry, Sparse Spatial Autoregressions,\n",
            "      Statistics and Probability Letters, 33 (1997) 291-297\n",
            "\n"
          ]
        }
      ]
    },
    {
      "cell_type": "code",
      "source": [
        "df = pd.DataFrame(housing.data, columns=housing.feature_names)\n",
        "df['target'] = housing.target"
      ],
      "metadata": {
        "id": "beqDbNzQi0PR"
      },
      "execution_count": 21,
      "outputs": []
    },
    {
      "cell_type": "code",
      "source": [
        "print(df.head())"
      ],
      "metadata": {
        "colab": {
          "base_uri": "https://localhost:8080/"
        },
        "id": "Y-4fgqWCkd-o",
        "outputId": "d593e64a-1588-48ae-9b14-26b770db710d"
      },
      "execution_count": 22,
      "outputs": [
        {
          "output_type": "stream",
          "name": "stdout",
          "text": [
            "   MedInc  HouseAge  AveRooms  AveBedrms  Population  AveOccup  Latitude  \\\n",
            "0  8.3252      41.0  6.984127   1.023810       322.0  2.555556     37.88   \n",
            "1  8.3014      21.0  6.238137   0.971880      2401.0  2.109842     37.86   \n",
            "2  7.2574      52.0  8.288136   1.073446       496.0  2.802260     37.85   \n",
            "3  5.6431      52.0  5.817352   1.073059       558.0  2.547945     37.85   \n",
            "4  3.8462      52.0  6.281853   1.081081       565.0  2.181467     37.85   \n",
            "\n",
            "   Longitude  target  \n",
            "0    -122.23   4.526  \n",
            "1    -122.22   3.585  \n",
            "2    -122.24   3.521  \n",
            "3    -122.25   3.413  \n",
            "4    -122.25   3.422  \n"
          ]
        }
      ]
    },
    {
      "cell_type": "code",
      "source": [
        "print(df.shape) #(20640, 9)\n",
        "print(df.describe())"
      ],
      "metadata": {
        "colab": {
          "base_uri": "https://localhost:8080/"
        },
        "id": "zoUn3ZXdkimJ",
        "outputId": "cbedc95b-b24f-4de2-84c5-bdf6b7726860"
      },
      "execution_count": 23,
      "outputs": [
        {
          "output_type": "stream",
          "name": "stdout",
          "text": [
            "(20640, 9)\n",
            "             MedInc      HouseAge      AveRooms     AveBedrms    Population  \\\n",
            "count  20640.000000  20640.000000  20640.000000  20640.000000  20640.000000   \n",
            "mean       3.870671     28.639486      5.429000      1.096675   1425.476744   \n",
            "std        1.899822     12.585558      2.474173      0.473911   1132.462122   \n",
            "min        0.499900      1.000000      0.846154      0.333333      3.000000   \n",
            "25%        2.563400     18.000000      4.440716      1.006079    787.000000   \n",
            "50%        3.534800     29.000000      5.229129      1.048780   1166.000000   \n",
            "75%        4.743250     37.000000      6.052381      1.099526   1725.000000   \n",
            "max       15.000100     52.000000    141.909091     34.066667  35682.000000   \n",
            "\n",
            "           AveOccup      Latitude     Longitude        target  \n",
            "count  20640.000000  20640.000000  20640.000000  20640.000000  \n",
            "mean       3.070655     35.631861   -119.569704      2.068558  \n",
            "std       10.386050      2.135952      2.003532      1.153956  \n",
            "min        0.692308     32.540000   -124.350000      0.149990  \n",
            "25%        2.429741     33.930000   -121.800000      1.196000  \n",
            "50%        2.818116     34.260000   -118.490000      1.797000  \n",
            "75%        3.282261     37.710000   -118.010000      2.647250  \n",
            "max     1243.333333     41.950000   -114.310000      5.000010  \n"
          ]
        }
      ]
    },
    {
      "cell_type": "markdown",
      "source": [
        "### 문제 4-1 : Pearson Correlation\n",
        "- seaborn 패키지를 사용하여 pearson correlation heatmap을 그린다.\n",
        "- heatmap을 확인한 후 각 feature들 간 어떠한 관계가 있는지 아래의 텍스트 셀에 서술한다.    \n",
        "- target과 연관성이 높은 feature의 column들을 아래의 텍스트 셀에 기술한다.\n",
        "- 기술한 columns들과 target column을 포함하여 DataFrame을 만들고 **이후 모든 문제에서는 이 DataFrame을 사용한다**."
      ],
      "metadata": {
        "id": "G3_Z_2mO7WkB"
      }
    },
    {
      "cell_type": "code",
      "source": [
        "### 문제 4-1 ###\n",
        "# correlation map 작성 후 plot\n",
        "import seaborn as sns\n",
        "\n",
        "plt.figure(figsize=(12, 8)) # figure set\n",
        "plt.title(\"pearson correlation heatmap\")\n",
        "sns.heatmap(df.corr(), annot=True, cmap='ocean') # heatmap 그리기\n",
        "plt.show()"
      ],
      "metadata": {
        "id": "3YiBgTBYFlOs",
        "colab": {
          "base_uri": "https://localhost:8080/",
          "height": 499
        },
        "outputId": "b91ea08b-bdc3-4c44-c672-1245b16b9aa0"
      },
      "execution_count": 24,
      "outputs": [
        {
          "output_type": "display_data",
          "data": {
            "text/plain": [
              "<Figure size 864x576 with 2 Axes>"
            ],
            "image/png": "[encoded data removed]"
          },
          "metadata": {
            "needs_background": "light"
          }
        }
      ]
    },
    {
      "cell_type": "markdown",
      "source": [
        "- **Feature들 간 관계 서술**  \n",
        "  답: 상관계수는 -1~1로 정의되며, 1에 가까울수록 positively correlated이고, -1에 가까울수록 negatively correlated입니다. 0에 가까우면 not correlated입니다. 즉 순서대로 보았을 때, 같은 방향으로 움직이는 경향, 반대 방향으로 움직이는 경향, 마지막으로 상관관계가 거의 없는것으로 볼 수 있습니다. 자신과 자신은 같기 때문에 1입니다.\n",
        "\n",
        "- **최종 선택한 feature들**  \n",
        "  답: 앞서 답변한 것을 토대로 보았을 때 저는 target에 대해 0에서 최소한 +-0.1이상 떨어져있는 feature들을 골랐습니다. 그러면 Medinc(0.69), AveRooms(0.15), HouseAge(0.11), Latitude(-0.14)\b가 선택됩니다."
      ],
      "metadata": {
        "id": "onkXpOqZ_Aal"
      }
    },
    {
      "cell_type": "code",
      "source": [
        "### 문제 4-1 ###\n",
        "# 새 dataframe 만들기\n",
        "new_df = df[['target', 'MedInc', 'AveRooms', 'HouseAge', 'Latitude']] # 선택한 feature들에 대해 dataframe 생성\n",
        "print(new_df)"
      ],
      "metadata": {
        "id": "GDXuxL65j7Gy",
        "colab": {
          "base_uri": "https://localhost:8080/"
        },
        "outputId": "9f6549b0-c8bc-4f90-83ce-6ce26f81667e"
      },
      "execution_count": 25,
      "outputs": [
        {
          "output_type": "stream",
          "name": "stdout",
          "text": [
            "       target  MedInc  AveRooms  HouseAge  Latitude\n",
            "0       4.526  8.3252  6.984127      41.0     37.88\n",
            "1       3.585  8.3014  6.238137      21.0     37.86\n",
            "2       3.521  7.2574  8.288136      52.0     37.85\n",
            "3       3.413  5.6431  5.817352      52.0     37.85\n",
            "4       3.422  3.8462  6.281853      52.0     37.85\n",
            "...       ...     ...       ...       ...       ...\n",
            "20635   0.781  1.5603  5.045455      25.0     39.48\n",
            "20636   0.771  2.5568  6.114035      18.0     39.49\n",
            "20637   0.923  1.7000  5.205543      17.0     39.43\n",
            "20638   0.847  1.8672  5.329513      18.0     39.43\n",
            "20639   0.894  2.3886  5.254717      16.0     39.37\n",
            "\n",
            "[20640 rows x 5 columns]\n"
          ]
        }
      ]
    },
    {
      "cell_type": "markdown",
      "source": [
        "### 문제 4-2: MSE, r2 score\n",
        "- Scikit-learn 라이브러리의 LinearRegression 모델을 사용한다.\n",
        "- train data는 test data를 제외한 **90%의 데이터를 사용**해야한다.\n",
        "- **Mean Square Error(MSE)**와 **r2 score**를 사용하여 train set에 대한 prediction 결과와 test set에 대한 prediction 결과를 구해 print 한다.\n",
        "- Prediction 결과를 바탕으로 학습한 LinearRegression 모델의 overfit, underfit 여부와 판단 근거를 텍스트 셀에 서술한다."
      ],
      "metadata": {
        "id": "uMo7ufW3_TXX"
      }
    },
    {
      "cell_type": "code",
      "source": [
        "### 문제 4-2 ###\n",
        "## 코드 작성 ##\n",
        "from sklearn.linear_model import LinearRegression\n",
        "from sklearn.metrics import mean_squared_error, r2_score\n",
        "\n",
        "X = new_df.drop('target', axis=1) # target drop\n",
        "y = new_df['target'] # target은 label.\n",
        "  \n",
        "X_train, X_test, y_train, y_test = train_test_split(X, y, test_size=0.1, random_state=55) # train 90%, test 10%, seed 고정.\n",
        "\n",
        "print(\"X_train's shape : \", X_train.shape)\n",
        "print(\"y_train's shape : \", y_train.shape)\n",
        "print(\"\\nX_test's shape : \", X_test.shape)\n",
        "print(\"y_test's shape : \", y_test.shape)\n",
        "\n",
        "lr = LinearRegression() # LinearRegression instance 생성\n",
        "lr.fit(X_train, y_train)\n",
        "\n",
        "mse_train = mean_squared_error(y_train, lr.predict(X_train)) # train set에 대한 mse 구하기\n",
        "mse_test = mean_squared_error(y_test, lr.predict(X_test)) # test set에 대한 mse 구하기\n",
        "r2_train = r2_score(y_train, lr.predict(X_train)) # train set에 대한 r2_score 구하기\n",
        "r2_test = r2_score(y_test, lr.predict(X_test)) # test set에 대한 r2_score 구하기\n",
        "\n",
        "# 결과 출력\n",
        "print(\"\\ntrain's Mean Square Error: \", mse_train)\n",
        "print(\"test's Mean Square Error: \", mse_test)\n",
        "\n",
        "print(\"\\ntrain's r2 score: \", r2_train)\n",
        "print(\"test's r2 score: \", r2_test)\n"
      ],
      "metadata": {
        "id": "UgKvcwQXCLhx",
        "colab": {
          "base_uri": "https://localhost:8080/"
        },
        "outputId": "68594730-d916-4acf-9f29-1b8ac275f2f2"
      },
      "execution_count": 26,
      "outputs": [
        {
          "output_type": "stream",
          "name": "stdout",
          "text": [
            "X_train's shape :  (18576, 4)\n",
            "y_train's shape :  (18576,)\n",
            "\n",
            "X_test's shape :  (2064, 4)\n",
            "y_test's shape :  (2064,)\n",
            "\n",
            "train's Mean Square Error:  0.6346601750091023\n",
            "test's Mean Square Error:  0.6933824633740008\n",
            "\n",
            "train's r2 score:  0.523918372397667\n",
            "test's r2 score:  0.473647135291113\n"
          ]
        }
      ]
    },
    {
      "cell_type": "markdown",
      "source": [
        "**Prediction 결과를 바탕으로 학습한 LinearRegression 모델의 overfit, underfit 여부와 판단 근거를 서술**   \n",
        "답: overfit입니다. MSE는 높을수록 좋지 않은 것이며, 이와 반대로 R2 Score는 높을수록 좋은 것입니다. 그런데 train의 MSE와 r2 score가 모두 test와 비교했을 때 좋은 값이 나왔습니다. 즉, 오히려 test set에 대해 더 좋지 않은 값이 나왔기에 \b이렇게 판단하였습니다."
      ],
      "metadata": {
        "id": "rcgD51UhEKOE"
      }
    },
    {
      "cell_type": "markdown",
      "source": [
        "### 문제 4-3: Regularized Model\n",
        "- Scikit-learn 라이브러리를 사용하여 Ridge Regression과 Lasso Regression 모델을 만든다.\n",
        "- train : validation : test **데이터셋의 비율을 8:1:1**로 설정한다.\n",
        "- 다양한 alpha 값에 대해 validation dataset을 사용하여 각 모델에 대한 **최적의 alpha 값을 찾고 찾은 최적의 alpha 값을 텍스트 셀에 작성**한다.\n",
        "- alpha 값은 아래의 리스트를 사용한다.  \n",
        "```alpha = [0.0001, 0.001,0.01,0.1,10]```\n",
        "- alpha 값에 대한 R2 score의 변화를 그래프로 나타낸다.\n",
        "  * **x축: alpha 값**\n",
        "  * **y축: R2 score 값**\n",
        "  * 파란색 선: Ridge 결과, 빨간색 선: Lasso 결과\n",
        "  * 그래프에 **legend**가 포함되어 있어야 한다. \n",
        "- **train과 validation dataset을 합하여 train set을 만든 후 최종 학습 결과를 도출**한다.\n",
        "  * 최적의 alpha 값을 찾을 때 사용한 test set은 변하지 않는다. \n",
        "  * r2 score를 사용하여 train set에 대한 prediction 결과와 test set에 대한 prediction 결과를 구해 print 한다."
      ],
      "metadata": {
        "id": "0OGUhsrgEwR_"
      }
    },
    {
      "cell_type": "code",
      "source": [
        "### 문제 4-3 ###\n",
        "## 코드 작성 ##\n",
        "from sklearn.linear_model import Ridge, Lasso\n",
        "\n",
        "X_train, X_test, y_train, y_test = train_test_split(X, y, test_size=0.1, random_state=55) # train 90%, test 10%, 같은 seed\n",
        "X_train, X_val, y_train, y_val = train_test_split(X_train, y_train, test_size=1/9, random_state=55) # test까지 봤을 때 train 80%, val 10%, test 10%\n",
        "\n",
        "print(\"X_train's shape : \", X_train.shape)\n",
        "print(\"y_train's shape : \", y_train.shape)\n",
        "print(\"\\nX_val's shape : \", X_val.shape)\n",
        "print(\"y_val's shape : \", y_val.shape)\n",
        "print(\"\\nX_test's shape : \", X_test.shape)\n",
        "print(\"y_test's shape : \", y_test.shape)\n",
        "\n",
        "# 리스트 준비\n",
        "alpha = [0.0001, 0.001, 0.01, 0.1, 1, 10]\n",
        "ridge_alphas_r2 = []\n",
        "lasso_alphas_r2 = []\n",
        "\n",
        "for a in alpha:\n",
        "    ridge = Ridge(alpha=a) # 반복되는 a(alpha)에 대한 Ridge instance 생성\n",
        "    lasso = Lasso(alpha=a) # 반복되는 a(alpha)에 대한 Lasso instance 생성\n",
        "    ridge.fit(X_train, y_train)\n",
        "    lasso.fit(X_train, y_train)\n",
        "    ridge_alphas_r2.append(r2_score(y_val, ridge.predict(X_val))) # val set에 대한 ridge_r2_score 리스트에 추가\n",
        "    lasso_alphas_r2.append(r2_score(y_val, lasso.predict(X_val))) # val set에 대한 lasso_r2_score 리스트에 추가"
      ],
      "metadata": {
        "id": "5XHRyFjsZyJ5",
        "colab": {
          "base_uri": "https://localhost:8080/"
        },
        "outputId": "26b638be-c723-4aeb-9d73-13b881c9267e"
      },
      "execution_count": 27,
      "outputs": [
        {
          "output_type": "stream",
          "name": "stdout",
          "text": [
            "X_train's shape :  (16512, 4)\n",
            "y_train's shape :  (16512,)\n",
            "\n",
            "X_val's shape :  (2064, 4)\n",
            "y_val's shape :  (2064,)\n",
            "\n",
            "X_test's shape :  (2064, 4)\n",
            "y_test's shape :  (2064,)\n"
          ]
        }
      ]
    },
    {
      "cell_type": "code",
      "source": [
        "### 문제 4-3 ###\n",
        "## 그래프 작성 ##\n",
        "plt.figure(figsize=(7, 5))\n",
        "plt.plot(alpha, ridge_alphas_r2, label='Ridge', color='blue')\n",
        "plt.plot(alpha, lasso_alphas_r2, label='Lasso', color='red')\n",
        "plt.xlabel('alpha')\n",
        "plt.ylabel('R2 Score')\n",
        "\n",
        "# 그래프의 가시성을 위한 설정\n",
        "plt.xscale('log')\n",
        "plt.ylim([0.50105, 0.5011])\n",
        "plt.xticks(alpha)\n",
        "\n",
        "plt.legend()\n",
        "plt.show()"
      ],
      "metadata": {
        "id": "2ZJbj9r2Z4LP",
        "colab": {
          "base_uri": "https://localhost:8080/",
          "height": 349
        },
        "outputId": "8cae92f8-edb9-4b45-e0d7-cabb2e5bd4ec"
      },
      "execution_count": 28,
      "outputs": [
        {
          "output_type": "display_data",
          "data": {
            "text/plain": [
              "<Figure size 504x360 with 1 Axes>"
            ],
            "image/png": "[encoded data removed]"
          },
          "metadata": {
            "needs_background": "light"
          }
        }
      ]
    },
    {
      "cell_type": "markdown",
      "source": [
        "- Ridge regression 모델 최적의 alpha 값: 10\n",
        "- Lasso regression 모델 최적의 alpha 값: 0.001"
      ],
      "metadata": {
        "id": "DS8x1JmkZ6Yl"
      }
    },
    {
      "cell_type": "code",
      "source": [
        "### 문제 4-3 ###\n",
        "# 최종 결과 출력\n",
        "X_train, X_test, y_train, y_test = train_test_split(X, y, test_size=0.1, random_state=55) # 같은 seed로 split(이전과 같은 set 생성)\n",
        "\n",
        "# 최적의 alpha에 대한 instance 생성\n",
        "ridge = Ridge(alpha=10)\n",
        "lasso = Lasso(alpha=0.001)\n",
        "\n",
        "ridge.fit(X_train, y_train)\n",
        "lasso.fit(X_train, y_train)\n",
        "\n",
        "print(\"Ridge_r2 score: \", r2_score(y_test, ridge.predict(X_test))) # 최종 ridge_r2_score 출력\n",
        "print(\"Lasso_r2 score: \", r2_score(y_test, lasso.predict(X_test))) # 최종 lasso_r2_score 출력"
      ],
      "metadata": {
        "id": "zio0ZtfdiXCF",
        "colab": {
          "base_uri": "https://localhost:8080/"
        },
        "outputId": "2600c706-b5ea-4c65-fcca-ef451538d836"
      },
      "execution_count": 29,
      "outputs": [
        {
          "output_type": "stream",
          "name": "stdout",
          "text": [
            "Ridge_r2 score:  0.47365127607875224\n",
            "Lasso_r2 score:  0.47365620964754696\n"
          ]
        }
      ]
    }
  ]
}